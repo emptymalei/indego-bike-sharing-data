{
 "cells": [
  {
   "cell_type": "markdown",
   "metadata": {},
   "source": [
    "## Some ETL Related Tests"
   ]
  },
  {
   "cell_type": "code",
   "execution_count": 22,
   "metadata": {},
   "outputs": [],
   "source": [
    "import pandas as pd"
   ]
  },
  {
   "cell_type": "code",
   "execution_count": 40,
   "metadata": {},
   "outputs": [],
   "source": [
    "from functools import reduce"
   ]
  },
  {
   "cell_type": "code",
   "execution_count": 16,
   "metadata": {},
   "outputs": [],
   "source": [
    "import os"
   ]
  },
  {
   "cell_type": "code",
   "execution_count": 241,
   "metadata": {},
   "outputs": [],
   "source": [
    "import datetime\n",
    "import matplotlib.pyplot as plt"
   ]
  },
  {
   "cell_type": "markdown",
   "metadata": {},
   "source": [
    "### Load Files"
   ]
  },
  {
   "cell_type": "code",
   "execution_count": 26,
   "metadata": {},
   "outputs": [],
   "source": [
    "workdir = '/tmp/rideindego'\n",
    "data_files = os.listdir(workdir)"
   ]
  },
  {
   "cell_type": "code",
   "execution_count": 29,
   "metadata": {},
   "outputs": [],
   "source": [
    "csv_files = [os.path.join(workdir,i) for i in data_files if i.endswith('.csv')]"
   ]
  },
  {
   "cell_type": "code",
   "execution_count": 30,
   "metadata": {},
   "outputs": [
    {
     "data": {
      "text/plain": [
       "['/tmp/rideindego/indego-trips-2018-q4.csv',\n",
       " '/tmp/rideindego/Q3_2016_trips.csv',\n",
       " '/tmp/rideindego/indego-trips-2018-q3.csv',\n",
       " '/tmp/rideindego/indego-trips-2018-q2.csv',\n",
       " '/tmp/rideindego/indego-trips-2018-q1.csv',\n",
       " '/tmp/rideindego/indego-quarter-echo.bicycletransit.com-2018-01-19-9-57 AM.csv',\n",
       " '/tmp/rideindego/indego_gbfs_trips_Q1_2017.csv',\n",
       " '/tmp/rideindego/Indego_trips_Q4_2016.csv',\n",
       " '/tmp/rideindego/indego-trips-2017-q3.csv',\n",
       " '/tmp/rideindego/indego-trips-2019-q1.csv',\n",
       " '/tmp/rideindego/Indego_Trips_2016Q1.csv',\n",
       " '/tmp/rideindego/Indego_Trips_2016Q2.csv',\n",
       " '/tmp/rideindego/indego_gbfs_trips_Q2_2017.csv',\n",
       " '/tmp/rideindego/Indego_Trips_2015Q4.csv',\n",
       " '/tmp/rideindego/Indego_Trips_2015Q3.csv',\n",
       " '/tmp/rideindego/Indego_Trips_2015Q2.csv']"
      ]
     },
     "execution_count": 30,
     "metadata": {},
     "output_type": "execute_result"
    }
   ],
   "source": [
    "csv_files"
   ]
  },
  {
   "cell_type": "code",
   "execution_count": 31,
   "metadata": {},
   "outputs": [],
   "source": [
    "df_all = pd.DataFrame()"
   ]
  },
  {
   "cell_type": "code",
   "execution_count": 33,
   "metadata": {},
   "outputs": [
    {
     "name": "stderr",
     "output_type": "stream",
     "text": [
      "/Users/leima/anaconda/lib/python3.6/site-packages/IPython/core/interactiveshell.py:2850: DtypeWarning: Columns (10) have mixed types. Specify dtype option on import or set low_memory=False.\n",
      "  if self.run_code(code, result):\n"
     ]
    }
   ],
   "source": [
    "df_array = [pd.read_csv(csv_file) for csv_file in csv_files]"
   ]
  },
  {
   "cell_type": "markdown",
   "metadata": {},
   "source": [
    "Validate imported data"
   ]
  },
  {
   "cell_type": "code",
   "execution_count": 64,
   "metadata": {},
   "outputs": [
    {
     "name": "stdout",
     "output_type": "stream",
     "text": [
      "columns: 15 ; index: RangeIndex(start=0, stop=142872, step=1) ; length: 142872\n",
      "columns: 14 ; index: RangeIndex(start=0, stop=234946, step=1) ; length: 234946\n",
      "columns: 15 ; index: RangeIndex(start=0, stop=228329, step=1) ; length: 228329\n",
      "columns: 14 ; index: RangeIndex(start=0, stop=201624, step=1) ; length: 201624\n",
      "columns: 14 ; index: RangeIndex(start=0, stop=98993, step=1) ; length: 98993\n",
      "columns: 14 ; index: RangeIndex(start=0, stop=183909, step=1) ; length: 183909\n",
      "columns: 14 ; index: RangeIndex(start=0, stop=107772, step=1) ; length: 107772\n",
      "columns: 14 ; index: RangeIndex(start=0, stop=176119, step=1) ; length: 176119\n",
      "columns: 14 ; index: RangeIndex(start=0, stop=276785, step=1) ; length: 276785\n",
      "columns: 15 ; index: RangeIndex(start=0, stop=96593, step=1) ; length: 96593\n",
      "columns: 14 ; index: RangeIndex(start=0, stop=73169, step=1) ; length: 73169\n",
      "columns: 14 ; index: RangeIndex(start=0, stop=170824, step=1) ; length: 170824\n",
      "columns: 14 ; index: RangeIndex(start=0, stop=220441, step=1) ; length: 220441\n",
      "columns: 14 ; index: RangeIndex(start=0, stop=121783, step=1) ; length: 121783\n",
      "columns: 14 ; index: RangeIndex(start=0, stop=188368, step=1) ; length: 188368\n",
      "columns: 14 ; index: RangeIndex(start=0, stop=119559, step=1) ; length: 119559\n"
     ]
    }
   ],
   "source": [
    "for i in df_array:\n",
    "    print('columns:', len(i.columns), '; index:', i.index, '; length:', len(i))"
   ]
  },
  {
   "cell_type": "code",
   "execution_count": 65,
   "metadata": {},
   "outputs": [
    {
     "data": {
      "text/plain": [
       "Index(['trip_id', 'duration', 'start_time', 'end_time', 'start_station',\n",
       "       'start_lat', 'start_lon', 'end_station', 'end_lat', 'end_lon',\n",
       "       'bike_id', 'plan_duration', 'trip_route_category', 'passholder_type',\n",
       "       'bike_type'],\n",
       "      dtype='object')"
      ]
     },
     "execution_count": 65,
     "metadata": {},
     "output_type": "execute_result"
    }
   ],
   "source": [
    "df_array[0].columns"
   ]
  },
  {
   "cell_type": "code",
   "execution_count": 66,
   "metadata": {},
   "outputs": [
    {
     "data": {
      "text/plain": [
       "Index(['trip_id', 'duration', 'start_time', 'end_time', 'start_station_id',\n",
       "       'start_lat', 'start_lon', 'end_station_id', 'end_lat', 'end_lon',\n",
       "       'bike_id', 'plan_duration', 'trip_route_category', 'passholder_type'],\n",
       "      dtype='object')"
      ]
     },
     "execution_count": 66,
     "metadata": {},
     "output_type": "execute_result"
    }
   ],
   "source": [
    "df_array[1].columns"
   ]
  },
  {
   "cell_type": "code",
   "execution_count": 70,
   "metadata": {},
   "outputs": [
    {
     "data": {
      "text/html": [
       "<div>\n",
       "<style scoped>\n",
       "    .dataframe tbody tr th:only-of-type {\n",
       "        vertical-align: middle;\n",
       "    }\n",
       "\n",
       "    .dataframe tbody tr th {\n",
       "        vertical-align: top;\n",
       "    }\n",
       "\n",
       "    .dataframe thead th {\n",
       "        text-align: right;\n",
       "    }\n",
       "</style>\n",
       "<table border=\"1\" class=\"dataframe\">\n",
       "  <thead>\n",
       "    <tr style=\"text-align: right;\">\n",
       "      <th></th>\n",
       "      <th>trip_id</th>\n",
       "      <th>duration</th>\n",
       "      <th>start_time</th>\n",
       "      <th>end_time</th>\n",
       "      <th>start_station</th>\n",
       "      <th>start_lat</th>\n",
       "      <th>start_lon</th>\n",
       "      <th>end_station</th>\n",
       "      <th>end_lat</th>\n",
       "      <th>end_lon</th>\n",
       "      <th>bike_id</th>\n",
       "      <th>plan_duration</th>\n",
       "      <th>trip_route_category</th>\n",
       "      <th>passholder_type</th>\n",
       "      <th>bike_type</th>\n",
       "    </tr>\n",
       "  </thead>\n",
       "  <tbody>\n",
       "    <tr>\n",
       "      <th>0</th>\n",
       "      <td>299955254</td>\n",
       "      <td>30</td>\n",
       "      <td>2018-10-01 00:03:00</td>\n",
       "      <td>2018-10-01 00:33:00</td>\n",
       "      <td>3038</td>\n",
       "      <td>39.947811</td>\n",
       "      <td>-75.194092</td>\n",
       "      <td>3063</td>\n",
       "      <td>39.947811</td>\n",
       "      <td>-75.194092</td>\n",
       "      <td>11908</td>\n",
       "      <td>30</td>\n",
       "      <td>One Way</td>\n",
       "      <td>Indego30</td>\n",
       "      <td>standard</td>\n",
       "    </tr>\n",
       "    <tr>\n",
       "      <th>1</th>\n",
       "      <td>299955253</td>\n",
       "      <td>7</td>\n",
       "      <td>2018-10-01 00:06:00</td>\n",
       "      <td>2018-10-01 00:13:00</td>\n",
       "      <td>3032</td>\n",
       "      <td>39.945271</td>\n",
       "      <td>-75.179710</td>\n",
       "      <td>3064</td>\n",
       "      <td>39.945271</td>\n",
       "      <td>-75.179710</td>\n",
       "      <td>5382</td>\n",
       "      <td>30</td>\n",
       "      <td>One Way</td>\n",
       "      <td>Indego30</td>\n",
       "      <td>standard</td>\n",
       "    </tr>\n",
       "  </tbody>\n",
       "</table>\n",
       "</div>"
      ],
      "text/plain": [
       "     trip_id  duration           start_time             end_time  \\\n",
       "0  299955254        30  2018-10-01 00:03:00  2018-10-01 00:33:00   \n",
       "1  299955253         7  2018-10-01 00:06:00  2018-10-01 00:13:00   \n",
       "\n",
       "   start_station  start_lat  start_lon  end_station    end_lat    end_lon  \\\n",
       "0           3038  39.947811 -75.194092         3063  39.947811 -75.194092   \n",
       "1           3032  39.945271 -75.179710         3064  39.945271 -75.179710   \n",
       "\n",
       "  bike_id  plan_duration trip_route_category passholder_type bike_type  \n",
       "0   11908             30             One Way        Indego30  standard  \n",
       "1    5382             30             One Way        Indego30  standard  "
      ]
     },
     "execution_count": 70,
     "metadata": {},
     "output_type": "execute_result"
    }
   ],
   "source": [
    "df_array[0].head(2)"
   ]
  },
  {
   "cell_type": "code",
   "execution_count": 71,
   "metadata": {},
   "outputs": [
    {
     "data": {
      "text/html": [
       "<div>\n",
       "<style scoped>\n",
       "    .dataframe tbody tr th:only-of-type {\n",
       "        vertical-align: middle;\n",
       "    }\n",
       "\n",
       "    .dataframe tbody tr th {\n",
       "        vertical-align: top;\n",
       "    }\n",
       "\n",
       "    .dataframe thead th {\n",
       "        text-align: right;\n",
       "    }\n",
       "</style>\n",
       "<table border=\"1\" class=\"dataframe\">\n",
       "  <thead>\n",
       "    <tr style=\"text-align: right;\">\n",
       "      <th></th>\n",
       "      <th>trip_id</th>\n",
       "      <th>duration</th>\n",
       "      <th>start_time</th>\n",
       "      <th>end_time</th>\n",
       "      <th>start_station_id</th>\n",
       "      <th>start_lat</th>\n",
       "      <th>start_lon</th>\n",
       "      <th>end_station_id</th>\n",
       "      <th>end_lat</th>\n",
       "      <th>end_lon</th>\n",
       "      <th>bike_id</th>\n",
       "      <th>plan_duration</th>\n",
       "      <th>trip_route_category</th>\n",
       "      <th>passholder_type</th>\n",
       "    </tr>\n",
       "  </thead>\n",
       "  <tbody>\n",
       "    <tr>\n",
       "      <th>0</th>\n",
       "      <td>25183529</td>\n",
       "      <td>240</td>\n",
       "      <td>7/1/2016 0:07</td>\n",
       "      <td>7/1/2016 0:11</td>\n",
       "      <td>3063</td>\n",
       "      <td>39.946331</td>\n",
       "      <td>-75.1698</td>\n",
       "      <td>3064</td>\n",
       "      <td>39.9384</td>\n",
       "      <td>-75.173271</td>\n",
       "      <td>3640</td>\n",
       "      <td>30</td>\n",
       "      <td>One Way</td>\n",
       "      <td>Indego30</td>\n",
       "    </tr>\n",
       "    <tr>\n",
       "      <th>1</th>\n",
       "      <td>25183528</td>\n",
       "      <td>480</td>\n",
       "      <td>7/1/2016 0:10</td>\n",
       "      <td>7/1/2016 0:18</td>\n",
       "      <td>3124</td>\n",
       "      <td>39.95295</td>\n",
       "      <td>-75.139793</td>\n",
       "      <td>3026</td>\n",
       "      <td>39.94138</td>\n",
       "      <td>-75.145638</td>\n",
       "      <td>3349</td>\n",
       "      <td>30</td>\n",
       "      <td>One Way</td>\n",
       "      <td>Indego30</td>\n",
       "    </tr>\n",
       "  </tbody>\n",
       "</table>\n",
       "</div>"
      ],
      "text/plain": [
       "    trip_id  duration     start_time       end_time  start_station_id  \\\n",
       "0  25183529       240  7/1/2016 0:07  7/1/2016 0:11              3063   \n",
       "1  25183528       480  7/1/2016 0:10  7/1/2016 0:18              3124   \n",
       "\n",
       "   start_lat   start_lon  end_station_id   end_lat     end_lon  bike_id  \\\n",
       "0  39.946331    -75.1698            3064   39.9384  -75.173271     3640   \n",
       "1   39.95295  -75.139793            3026  39.94138  -75.145638     3349   \n",
       "\n",
       "   plan_duration trip_route_category passholder_type  \n",
       "0             30             One Way        Indego30  \n",
       "1             30             One Way        Indego30  "
      ]
     },
     "execution_count": 71,
     "metadata": {},
     "output_type": "execute_result"
    }
   ],
   "source": [
    "df_array[1].head(2)"
   ]
  },
  {
   "cell_type": "code",
   "execution_count": 72,
   "metadata": {},
   "outputs": [
    {
     "data": {
      "text/html": [
       "<div>\n",
       "<style scoped>\n",
       "    .dataframe tbody tr th:only-of-type {\n",
       "        vertical-align: middle;\n",
       "    }\n",
       "\n",
       "    .dataframe tbody tr th {\n",
       "        vertical-align: top;\n",
       "    }\n",
       "\n",
       "    .dataframe thead th {\n",
       "        text-align: right;\n",
       "    }\n",
       "</style>\n",
       "<table border=\"1\" class=\"dataframe\">\n",
       "  <thead>\n",
       "    <tr style=\"text-align: right;\">\n",
       "      <th></th>\n",
       "      <th>trip_id</th>\n",
       "      <th>duration</th>\n",
       "      <th>start_time</th>\n",
       "      <th>end_time</th>\n",
       "      <th>start_station</th>\n",
       "      <th>start_lat</th>\n",
       "      <th>start_lon</th>\n",
       "      <th>end_station</th>\n",
       "      <th>end_lat</th>\n",
       "      <th>end_lon</th>\n",
       "      <th>bike_id</th>\n",
       "      <th>plan_duration</th>\n",
       "      <th>trip_route_category</th>\n",
       "      <th>passholder_type</th>\n",
       "      <th>bike_type</th>\n",
       "    </tr>\n",
       "  </thead>\n",
       "  <tbody>\n",
       "    <tr>\n",
       "      <th>0</th>\n",
       "      <td>276039688</td>\n",
       "      <td>17</td>\n",
       "      <td>2018-07-01 00:03:00</td>\n",
       "      <td>2018-07-01 00:20:00</td>\n",
       "      <td>3007</td>\n",
       "      <td>39.945171</td>\n",
       "      <td>-75.159927</td>\n",
       "      <td>3073</td>\n",
       "      <td>39.945171</td>\n",
       "      <td>-75.159927</td>\n",
       "      <td>11913</td>\n",
       "      <td>30</td>\n",
       "      <td>One Way</td>\n",
       "      <td>Indego30</td>\n",
       "      <td>standard</td>\n",
       "    </tr>\n",
       "    <tr>\n",
       "      <th>1</th>\n",
       "      <td>276039689</td>\n",
       "      <td>17</td>\n",
       "      <td>2018-07-01 00:03:00</td>\n",
       "      <td>2018-07-01 00:20:00</td>\n",
       "      <td>3007</td>\n",
       "      <td>39.945171</td>\n",
       "      <td>-75.159927</td>\n",
       "      <td>3073</td>\n",
       "      <td>39.945171</td>\n",
       "      <td>-75.159927</td>\n",
       "      <td>3284</td>\n",
       "      <td>30</td>\n",
       "      <td>One Way</td>\n",
       "      <td>Indego30</td>\n",
       "      <td>standard</td>\n",
       "    </tr>\n",
       "  </tbody>\n",
       "</table>\n",
       "</div>"
      ],
      "text/plain": [
       "     trip_id  duration           start_time             end_time  \\\n",
       "0  276039688        17  2018-07-01 00:03:00  2018-07-01 00:20:00   \n",
       "1  276039689        17  2018-07-01 00:03:00  2018-07-01 00:20:00   \n",
       "\n",
       "   start_station  start_lat  start_lon  end_station    end_lat    end_lon  \\\n",
       "0           3007  39.945171 -75.159927         3073  39.945171 -75.159927   \n",
       "1           3007  39.945171 -75.159927         3073  39.945171 -75.159927   \n",
       "\n",
       "   bike_id  plan_duration trip_route_category passholder_type bike_type  \n",
       "0    11913             30             One Way        Indego30  standard  \n",
       "1     3284             30             One Way        Indego30  standard  "
      ]
     },
     "execution_count": 72,
     "metadata": {},
     "output_type": "execute_result"
    }
   ],
   "source": [
    "df_array[2].head(2)"
   ]
  },
  {
   "cell_type": "code",
   "execution_count": 166,
   "metadata": {},
   "outputs": [
    {
     "data": {
      "text/plain": [
       "{'end_station_id', 'start_station_id'}"
      ]
     },
     "execution_count": 166,
     "metadata": {},
     "output_type": "execute_result"
    }
   ],
   "source": [
    "set(df_array[1].columns) - set(df_array[0].columns)"
   ]
  },
  {
   "cell_type": "code",
   "execution_count": 167,
   "metadata": {},
   "outputs": [
    {
     "data": {
      "text/plain": [
       "{'bike_type', 'end_station', 'start_station'}"
      ]
     },
     "execution_count": 167,
     "metadata": {},
     "output_type": "execute_result"
    }
   ],
   "source": [
    "set(df_array[0].columns) - set(df_array[1].columns)"
   ]
  },
  {
   "cell_type": "markdown",
   "metadata": {},
   "source": [
    "end_station/start_station and end_station_id/start_station_id are the same thing"
   ]
  },
  {
   "cell_type": "code",
   "execution_count": 169,
   "metadata": {},
   "outputs": [],
   "source": [
    "df_array = [\n",
    "    df_temp.rename( columns={'end_station': 'end_station_id', 'start_station': 'start_station_id'} )\n",
    "    for df_temp in df_array\n",
    "]"
   ]
  },
  {
   "cell_type": "code",
   "execution_count": 170,
   "metadata": {},
   "outputs": [
    {
     "data": {
      "text/plain": [
       "set()"
      ]
     },
     "execution_count": 170,
     "metadata": {},
     "output_type": "execute_result"
    }
   ],
   "source": [
    "set(df_array[1].columns) - set(df_array[0].columns)"
   ]
  },
  {
   "cell_type": "code",
   "execution_count": 171,
   "metadata": {},
   "outputs": [
    {
     "data": {
      "text/plain": [
       "{'bike_type'}"
      ]
     },
     "execution_count": 171,
     "metadata": {},
     "output_type": "execute_result"
    }
   ],
   "source": [
    "set(df_array[0].columns) - set(df_array[1].columns)"
   ]
  },
  {
   "cell_type": "markdown",
   "metadata": {},
   "source": [
    "### Check Data Quality"
   ]
  },
  {
   "cell_type": "code",
   "execution_count": 172,
   "metadata": {},
   "outputs": [],
   "source": [
    "df_all = pd.concat(df_array)"
   ]
  },
  {
   "cell_type": "code",
   "execution_count": 173,
   "metadata": {},
   "outputs": [
    {
     "data": {
      "text/html": [
       "<div>\n",
       "<style scoped>\n",
       "    .dataframe tbody tr th:only-of-type {\n",
       "        vertical-align: middle;\n",
       "    }\n",
       "\n",
       "    .dataframe tbody tr th {\n",
       "        vertical-align: top;\n",
       "    }\n",
       "\n",
       "    .dataframe thead th {\n",
       "        text-align: right;\n",
       "    }\n",
       "</style>\n",
       "<table border=\"1\" class=\"dataframe\">\n",
       "  <thead>\n",
       "    <tr style=\"text-align: right;\">\n",
       "      <th></th>\n",
       "      <th>duration</th>\n",
       "      <th>end_station_id</th>\n",
       "      <th>plan_duration</th>\n",
       "      <th>start_station_id</th>\n",
       "      <th>trip_id</th>\n",
       "    </tr>\n",
       "  </thead>\n",
       "  <tbody>\n",
       "    <tr>\n",
       "      <th>count</th>\n",
       "      <td>2.642086e+06</td>\n",
       "      <td>2.642086e+06</td>\n",
       "      <td>2.642086e+06</td>\n",
       "      <td>2.642076e+06</td>\n",
       "      <td>2.642086e+06</td>\n",
       "    </tr>\n",
       "    <tr>\n",
       "      <th>mean</th>\n",
       "      <td>6.622166e+02</td>\n",
       "      <td>3.141179e+03</td>\n",
       "      <td>4.487516e+01</td>\n",
       "      <td>3.055939e+03</td>\n",
       "      <td>1.371636e+08</td>\n",
       "    </tr>\n",
       "    <tr>\n",
       "      <th>std</th>\n",
       "      <td>2.925911e+03</td>\n",
       "      <td>2.743957e+03</td>\n",
       "      <td>8.046680e+01</td>\n",
       "      <td>2.306821e+02</td>\n",
       "      <td>1.109280e+08</td>\n",
       "    </tr>\n",
       "    <tr>\n",
       "      <th>min</th>\n",
       "      <td>1.000000e+00</td>\n",
       "      <td>3.000000e+03</td>\n",
       "      <td>0.000000e+00</td>\n",
       "      <td>3.000000e+03</td>\n",
       "      <td>4.001912e+06</td>\n",
       "    </tr>\n",
       "    <tr>\n",
       "      <th>25%</th>\n",
       "      <td>1.100000e+01</td>\n",
       "      <td>3.023000e+03</td>\n",
       "      <td>3.000000e+01</td>\n",
       "      <td>3.023000e+03</td>\n",
       "      <td>4.812222e+06</td>\n",
       "    </tr>\n",
       "    <tr>\n",
       "      <th>50%</th>\n",
       "      <td>3.700000e+01</td>\n",
       "      <td>3.046000e+03</td>\n",
       "      <td>3.000000e+01</td>\n",
       "      <td>3.047000e+03</td>\n",
       "      <td>1.292478e+08</td>\n",
       "    </tr>\n",
       "    <tr>\n",
       "      <th>75%</th>\n",
       "      <td>6.600000e+02</td>\n",
       "      <td>3.070000e+03</td>\n",
       "      <td>3.000000e+01</td>\n",
       "      <td>3.070000e+03</td>\n",
       "      <td>2.431956e+08</td>\n",
       "    </tr>\n",
       "    <tr>\n",
       "      <th>max</th>\n",
       "      <td>8.640000e+04</td>\n",
       "      <td>9.025500e+04</td>\n",
       "      <td>3.650000e+02</td>\n",
       "      <td>9.001800e+04</td>\n",
       "      <td>3.133633e+08</td>\n",
       "    </tr>\n",
       "  </tbody>\n",
       "</table>\n",
       "</div>"
      ],
      "text/plain": [
       "           duration  end_station_id  plan_duration  start_station_id  \\\n",
       "count  2.642086e+06    2.642086e+06   2.642086e+06      2.642076e+06   \n",
       "mean   6.622166e+02    3.141179e+03   4.487516e+01      3.055939e+03   \n",
       "std    2.925911e+03    2.743957e+03   8.046680e+01      2.306821e+02   \n",
       "min    1.000000e+00    3.000000e+03   0.000000e+00      3.000000e+03   \n",
       "25%    1.100000e+01    3.023000e+03   3.000000e+01      3.023000e+03   \n",
       "50%    3.700000e+01    3.046000e+03   3.000000e+01      3.047000e+03   \n",
       "75%    6.600000e+02    3.070000e+03   3.000000e+01      3.070000e+03   \n",
       "max    8.640000e+04    9.025500e+04   3.650000e+02      9.001800e+04   \n",
       "\n",
       "            trip_id  \n",
       "count  2.642086e+06  \n",
       "mean   1.371636e+08  \n",
       "std    1.109280e+08  \n",
       "min    4.001912e+06  \n",
       "25%    4.812222e+06  \n",
       "50%    1.292478e+08  \n",
       "75%    2.431956e+08  \n",
       "max    3.133633e+08  "
      ]
     },
     "execution_count": 173,
     "metadata": {},
     "output_type": "execute_result"
    }
   ],
   "source": [
    "df_all.describe()"
   ]
  },
  {
   "cell_type": "code",
   "execution_count": 174,
   "metadata": {},
   "outputs": [
    {
     "data": {
      "text/html": [
       "<div>\n",
       "<style scoped>\n",
       "    .dataframe tbody tr th:only-of-type {\n",
       "        vertical-align: middle;\n",
       "    }\n",
       "\n",
       "    .dataframe tbody tr th {\n",
       "        vertical-align: top;\n",
       "    }\n",
       "\n",
       "    .dataframe thead th {\n",
       "        text-align: right;\n",
       "    }\n",
       "</style>\n",
       "<table border=\"1\" class=\"dataframe\">\n",
       "  <thead>\n",
       "    <tr style=\"text-align: right;\">\n",
       "      <th></th>\n",
       "      <th>bike_id</th>\n",
       "      <th>bike_type</th>\n",
       "      <th>duration</th>\n",
       "      <th>end_lat</th>\n",
       "      <th>end_lon</th>\n",
       "      <th>end_station_id</th>\n",
       "      <th>end_time</th>\n",
       "      <th>passholder_type</th>\n",
       "      <th>plan_duration</th>\n",
       "      <th>start_lat</th>\n",
       "      <th>start_lon</th>\n",
       "      <th>start_station_id</th>\n",
       "      <th>start_time</th>\n",
       "      <th>trip_id</th>\n",
       "      <th>trip_route_category</th>\n",
       "    </tr>\n",
       "  </thead>\n",
       "  <tbody>\n",
       "    <tr>\n",
       "      <th>0</th>\n",
       "      <td>11908</td>\n",
       "      <td>standard</td>\n",
       "      <td>30</td>\n",
       "      <td>39.9478</td>\n",
       "      <td>-75.1941</td>\n",
       "      <td>3063</td>\n",
       "      <td>2018-10-01 00:33:00</td>\n",
       "      <td>Indego30</td>\n",
       "      <td>30</td>\n",
       "      <td>39.9478</td>\n",
       "      <td>-75.1941</td>\n",
       "      <td>3038.0</td>\n",
       "      <td>2018-10-01 00:03:00</td>\n",
       "      <td>299955254</td>\n",
       "      <td>One Way</td>\n",
       "    </tr>\n",
       "    <tr>\n",
       "      <th>1</th>\n",
       "      <td>5382</td>\n",
       "      <td>standard</td>\n",
       "      <td>7</td>\n",
       "      <td>39.9453</td>\n",
       "      <td>-75.1797</td>\n",
       "      <td>3064</td>\n",
       "      <td>2018-10-01 00:13:00</td>\n",
       "      <td>Indego30</td>\n",
       "      <td>30</td>\n",
       "      <td>39.9453</td>\n",
       "      <td>-75.1797</td>\n",
       "      <td>3032.0</td>\n",
       "      <td>2018-10-01 00:06:00</td>\n",
       "      <td>299955253</td>\n",
       "      <td>One Way</td>\n",
       "    </tr>\n",
       "  </tbody>\n",
       "</table>\n",
       "</div>"
      ],
      "text/plain": [
       "  bike_id bike_type  duration  end_lat  end_lon  end_station_id  \\\n",
       "0   11908  standard        30  39.9478 -75.1941            3063   \n",
       "1    5382  standard         7  39.9453 -75.1797            3064   \n",
       "\n",
       "              end_time passholder_type  plan_duration start_lat start_lon  \\\n",
       "0  2018-10-01 00:33:00        Indego30             30   39.9478  -75.1941   \n",
       "1  2018-10-01 00:13:00        Indego30             30   39.9453  -75.1797   \n",
       "\n",
       "   start_station_id           start_time    trip_id trip_route_category  \n",
       "0            3038.0  2018-10-01 00:03:00  299955254             One Way  \n",
       "1            3032.0  2018-10-01 00:06:00  299955253             One Way  "
      ]
     },
     "execution_count": 174,
     "metadata": {},
     "output_type": "execute_result"
    }
   ],
   "source": [
    "df_all.head(2)"
   ]
  },
  {
   "cell_type": "markdown",
   "metadata": {},
   "source": [
    "#### Solving bike_type problem"
   ]
  },
  {
   "cell_type": "code",
   "execution_count": 175,
   "metadata": {},
   "outputs": [
    {
     "data": {
      "text/html": [
       "<div>\n",
       "<style scoped>\n",
       "    .dataframe tbody tr th:only-of-type {\n",
       "        vertical-align: middle;\n",
       "    }\n",
       "\n",
       "    .dataframe tbody tr th {\n",
       "        vertical-align: top;\n",
       "    }\n",
       "\n",
       "    .dataframe thead th {\n",
       "        text-align: right;\n",
       "    }\n",
       "</style>\n",
       "<table border=\"1\" class=\"dataframe\">\n",
       "  <thead>\n",
       "    <tr style=\"text-align: right;\">\n",
       "      <th></th>\n",
       "      <th>bike_id</th>\n",
       "    </tr>\n",
       "    <tr>\n",
       "      <th>bike_type</th>\n",
       "      <th></th>\n",
       "    </tr>\n",
       "  </thead>\n",
       "  <tbody>\n",
       "    <tr>\n",
       "      <th>electric</th>\n",
       "      <td>19</td>\n",
       "    </tr>\n",
       "    <tr>\n",
       "      <th>standard</th>\n",
       "      <td>2808</td>\n",
       "    </tr>\n",
       "  </tbody>\n",
       "</table>\n",
       "</div>"
      ],
      "text/plain": [
       "           bike_id\n",
       "bike_type         \n",
       "electric        19\n",
       "standard      2808"
      ]
     },
     "execution_count": 175,
     "metadata": {},
     "output_type": "execute_result"
    }
   ],
   "source": [
    "df_all.groupby('bike_type')[['bike_id']].nunique()"
   ]
  },
  {
   "cell_type": "markdown",
   "metadata": {},
   "source": [
    "hmmm I thought they had a hell lot more bikes than this. Anyway, 3000 bikes for Philadelphia is within the reasonable range."
   ]
  },
  {
   "cell_type": "markdown",
   "metadata": {},
   "source": [
    "So we have a lot of missing data, which basically confims what we have seen previously. Is it possible that we can create a mapping dictionary to map bike_id to types for the whole dataframe?"
   ]
  },
  {
   "cell_type": "code",
   "execution_count": 176,
   "metadata": {},
   "outputs": [
    {
     "name": "stdout",
     "output_type": "stream",
     "text": [
      "all unique bike_ids: 3588 unique bike_ids with bike_type: 2826\n"
     ]
    }
   ],
   "source": [
    "print(\n",
    "    'all unique bike_ids:', df_all.bike_id.nunique(), \n",
    "    'unique bike_ids with bike_type:', df_all[~df_all.bike_type.isna()].bike_id.nunique()\n",
    ")"
   ]
  },
  {
   "cell_type": "markdown",
   "metadata": {},
   "source": [
    "It is around 80%. Seems to be okay to fill data. Will fill undefined as 'missing'"
   ]
  },
  {
   "cell_type": "code",
   "execution_count": 177,
   "metadata": {},
   "outputs": [],
   "source": [
    "df_bike_type = df_all[['bike_id', 'bike_type']].drop_duplicates()"
   ]
  },
  {
   "cell_type": "code",
   "execution_count": 178,
   "metadata": {},
   "outputs": [
    {
     "data": {
      "text/html": [
       "<div>\n",
       "<style scoped>\n",
       "    .dataframe tbody tr th:only-of-type {\n",
       "        vertical-align: middle;\n",
       "    }\n",
       "\n",
       "    .dataframe tbody tr th {\n",
       "        vertical-align: top;\n",
       "    }\n",
       "\n",
       "    .dataframe thead th {\n",
       "        text-align: right;\n",
       "    }\n",
       "</style>\n",
       "<table border=\"1\" class=\"dataframe\">\n",
       "  <thead>\n",
       "    <tr style=\"text-align: right;\">\n",
       "      <th></th>\n",
       "      <th>bike_id</th>\n",
       "      <th>bike_type</th>\n",
       "    </tr>\n",
       "  </thead>\n",
       "  <tbody>\n",
       "    <tr>\n",
       "      <th>count</th>\n",
       "      <td>4776</td>\n",
       "      <td>2827</td>\n",
       "    </tr>\n",
       "    <tr>\n",
       "      <th>unique</th>\n",
       "      <td>3588</td>\n",
       "      <td>2</td>\n",
       "    </tr>\n",
       "    <tr>\n",
       "      <th>top</th>\n",
       "      <td>2557</td>\n",
       "      <td>standard</td>\n",
       "    </tr>\n",
       "    <tr>\n",
       "      <th>freq</th>\n",
       "      <td>2</td>\n",
       "      <td>2808</td>\n",
       "    </tr>\n",
       "  </tbody>\n",
       "</table>\n",
       "</div>"
      ],
      "text/plain": [
       "        bike_id bike_type\n",
       "count      4776      2827\n",
       "unique     3588         2\n",
       "top        2557  standard\n",
       "freq          2      2808"
      ]
     },
     "execution_count": 178,
     "metadata": {},
     "output_type": "execute_result"
    }
   ],
   "source": [
    "df_bike_type.describe()"
   ]
  },
  {
   "cell_type": "code",
   "execution_count": 179,
   "metadata": {},
   "outputs": [
    {
     "data": {
      "text/html": [
       "<div>\n",
       "<style scoped>\n",
       "    .dataframe tbody tr th:only-of-type {\n",
       "        vertical-align: middle;\n",
       "    }\n",
       "\n",
       "    .dataframe tbody tr th {\n",
       "        vertical-align: top;\n",
       "    }\n",
       "\n",
       "    .dataframe thead th {\n",
       "        text-align: right;\n",
       "    }\n",
       "</style>\n",
       "<table border=\"1\" class=\"dataframe\">\n",
       "  <thead>\n",
       "    <tr style=\"text-align: right;\">\n",
       "      <th></th>\n",
       "      <th>bike_id</th>\n",
       "      <th>bike_type</th>\n",
       "    </tr>\n",
       "  </thead>\n",
       "  <tbody>\n",
       "    <tr>\n",
       "      <th>0</th>\n",
       "      <td>11908</td>\n",
       "      <td>standard</td>\n",
       "    </tr>\n",
       "    <tr>\n",
       "      <th>1</th>\n",
       "      <td>5382</td>\n",
       "      <td>standard</td>\n",
       "    </tr>\n",
       "  </tbody>\n",
       "</table>\n",
       "</div>"
      ],
      "text/plain": [
       "  bike_id bike_type\n",
       "0   11908  standard\n",
       "1    5382  standard"
      ]
     },
     "execution_count": 179,
     "metadata": {},
     "output_type": "execute_result"
    }
   ],
   "source": [
    "df_bike_type.head(2)"
   ]
  },
  {
   "cell_type": "code",
   "execution_count": 180,
   "metadata": {},
   "outputs": [
    {
     "data": {
      "text/html": [
       "<div>\n",
       "<style scoped>\n",
       "    .dataframe tbody tr th:only-of-type {\n",
       "        vertical-align: middle;\n",
       "    }\n",
       "\n",
       "    .dataframe tbody tr th {\n",
       "        vertical-align: top;\n",
       "    }\n",
       "\n",
       "    .dataframe thead th {\n",
       "        text-align: right;\n",
       "    }\n",
       "</style>\n",
       "<table border=\"1\" class=\"dataframe\">\n",
       "  <thead>\n",
       "    <tr style=\"text-align: right;\">\n",
       "      <th></th>\n",
       "      <th>bike_type</th>\n",
       "    </tr>\n",
       "    <tr>\n",
       "      <th>bike_id</th>\n",
       "      <th></th>\n",
       "    </tr>\n",
       "  </thead>\n",
       "  <tbody>\n",
       "    <tr>\n",
       "      <th>15067</th>\n",
       "      <td>2</td>\n",
       "    </tr>\n",
       "    <tr>\n",
       "      <th>02935</th>\n",
       "      <td>1</td>\n",
       "    </tr>\n",
       "  </tbody>\n",
       "</table>\n",
       "</div>"
      ],
      "text/plain": [
       "         bike_type\n",
       "bike_id           \n",
       "15067            2\n",
       "02935            1"
      ]
     },
     "execution_count": 180,
     "metadata": {},
     "output_type": "execute_result"
    }
   ],
   "source": [
    "df_bike_type.groupby('bike_id').count().sort_values(by = 'bike_type', ascending=False).head(2)"
   ]
  },
  {
   "cell_type": "code",
   "execution_count": 181,
   "metadata": {},
   "outputs": [
    {
     "data": {
      "text/html": [
       "<div>\n",
       "<style scoped>\n",
       "    .dataframe tbody tr th:only-of-type {\n",
       "        vertical-align: middle;\n",
       "    }\n",
       "\n",
       "    .dataframe tbody tr th {\n",
       "        vertical-align: top;\n",
       "    }\n",
       "\n",
       "    .dataframe thead th {\n",
       "        text-align: right;\n",
       "    }\n",
       "</style>\n",
       "<table border=\"1\" class=\"dataframe\">\n",
       "  <thead>\n",
       "    <tr style=\"text-align: right;\">\n",
       "      <th></th>\n",
       "      <th>bike_type</th>\n",
       "    </tr>\n",
       "    <tr>\n",
       "      <th>bike_id</th>\n",
       "      <th></th>\n",
       "    </tr>\n",
       "  </thead>\n",
       "  <tbody>\n",
       "    <tr>\n",
       "      <th>15067</th>\n",
       "      <td>2</td>\n",
       "    </tr>\n",
       "    <tr>\n",
       "      <th>02935</th>\n",
       "      <td>1</td>\n",
       "    </tr>\n",
       "  </tbody>\n",
       "</table>\n",
       "</div>"
      ],
      "text/plain": [
       "         bike_type\n",
       "bike_id           \n",
       "15067            2\n",
       "02935            1"
      ]
     },
     "execution_count": 181,
     "metadata": {},
     "output_type": "execute_result"
    }
   ],
   "source": [
    "df_bike_type.drop('15067').groupby('bike_id').count().sort_values(by = 'bike_type', ascending=False).head(2)"
   ]
  },
  {
   "cell_type": "markdown",
   "metadata": {},
   "source": [
    "Make the mapping dataframe"
   ]
  },
  {
   "cell_type": "code",
   "execution_count": 182,
   "metadata": {},
   "outputs": [
    {
     "data": {
      "text/html": [
       "<div>\n",
       "<style scoped>\n",
       "    .dataframe tbody tr th:only-of-type {\n",
       "        vertical-align: middle;\n",
       "    }\n",
       "\n",
       "    .dataframe tbody tr th {\n",
       "        vertical-align: top;\n",
       "    }\n",
       "\n",
       "    .dataframe thead th {\n",
       "        text-align: right;\n",
       "    }\n",
       "</style>\n",
       "<table border=\"1\" class=\"dataframe\">\n",
       "  <thead>\n",
       "    <tr style=\"text-align: right;\">\n",
       "      <th></th>\n",
       "      <th>bike_type</th>\n",
       "    </tr>\n",
       "    <tr>\n",
       "      <th>bike_id</th>\n",
       "      <th></th>\n",
       "    </tr>\n",
       "  </thead>\n",
       "  <tbody>\n",
       "  </tbody>\n",
       "</table>\n",
       "</div>"
      ],
      "text/plain": [
       "Empty DataFrame\n",
       "Columns: [bike_type]\n",
       "Index: []"
      ]
     },
     "execution_count": 182,
     "metadata": {},
     "output_type": "execute_result"
    }
   ],
   "source": [
    "# Rerunning this requires the reconstruction of df_bike_type\n",
    "df_bike_type.set_index('bike_id', inplace=True)\n",
    "df_bike_type.drop('15067', inplace=True)\n",
    "df_bike_type[df_bike_type.index == '15067']"
   ]
  },
  {
   "cell_type": "code",
   "execution_count": 185,
   "metadata": {},
   "outputs": [],
   "source": [
    "df_bike_type.reset_index(inplace=True)\n",
    "df_all_bike_type_filled = pd.merge( df_all, df_bike_type, how='left', on='bike_id' )"
   ]
  },
  {
   "cell_type": "code",
   "execution_count": null,
   "metadata": {},
   "outputs": [],
   "source": [
    "df_all_bike_type_filled[df_all_bike_type_filled.bike_type_x != df_all_filled.bike_type_y].head(2)"
   ]
  },
  {
   "cell_type": "code",
   "execution_count": null,
   "metadata": {},
   "outputs": [],
   "source": [
    "df_all_bike_type_filled[ ['bike_id', 'bike_type_x', 'bike_type_y'] ].describe()"
   ]
  },
  {
   "cell_type": "markdown",
   "metadata": {},
   "source": [
    "**Need more work on this. Have to move on. Though maybe important but let's talk about none electric first. None electric seems to be all standard bikes**\n",
    "\n",
    "Indego introduced electric bikes in q3 of 2019. [Read in this blog post](https://www.rideindego.com/blog/indego-electric-is-back/). So it if safe to assume all bikes were standard bikes if it is not labelled as electric. **So we will fill in the NAs with standard for now.**"
   ]
  },
  {
   "cell_type": "code",
   "execution_count": 186,
   "metadata": {},
   "outputs": [],
   "source": [
    "df_all['bike_type'] = df_all.bike_type.fillna('standard')"
   ]
  },
  {
   "cell_type": "markdown",
   "metadata": {},
   "source": [
    "#### Do we have duplications of bike_ids?"
   ]
  },
  {
   "cell_type": "code",
   "execution_count": 187,
   "metadata": {},
   "outputs": [
    {
     "data": {
      "text/html": [
       "<div>\n",
       "<style scoped>\n",
       "    .dataframe tbody tr th:only-of-type {\n",
       "        vertical-align: middle;\n",
       "    }\n",
       "\n",
       "    .dataframe tbody tr th {\n",
       "        vertical-align: top;\n",
       "    }\n",
       "\n",
       "    .dataframe thead th {\n",
       "        text-align: right;\n",
       "    }\n",
       "</style>\n",
       "<table border=\"1\" class=\"dataframe\">\n",
       "  <thead>\n",
       "    <tr style=\"text-align: right;\">\n",
       "      <th></th>\n",
       "      <th>trip_id</th>\n",
       "    </tr>\n",
       "    <tr>\n",
       "      <th>trip_id</th>\n",
       "      <th></th>\n",
       "    </tr>\n",
       "  </thead>\n",
       "  <tbody>\n",
       "    <tr>\n",
       "      <th>4001912</th>\n",
       "      <td>1</td>\n",
       "    </tr>\n",
       "    <tr>\n",
       "      <th>202630365</th>\n",
       "      <td>1</td>\n",
       "    </tr>\n",
       "  </tbody>\n",
       "</table>\n",
       "</div>"
      ],
      "text/plain": [
       "           trip_id\n",
       "trip_id           \n",
       "4001912          1\n",
       "202630365        1"
      ]
     },
     "execution_count": 187,
     "metadata": {},
     "output_type": "execute_result"
    }
   ],
   "source": [
    "# Check for duplications\n",
    "df_all.groupby('trip_id')[['trip_id']].count().sort_values(by='trip_id', ascending=False).head(2)"
   ]
  },
  {
   "cell_type": "markdown",
   "metadata": {},
   "source": [
    "#### Understand passholder_type"
   ]
  },
  {
   "cell_type": "markdown",
   "metadata": {},
   "source": [
    "The name of the passholder’s plan"
   ]
  },
  {
   "cell_type": "code",
   "execution_count": 188,
   "metadata": {},
   "outputs": [
    {
     "data": {
      "text/html": [
       "<div>\n",
       "<style scoped>\n",
       "    .dataframe tbody tr th:only-of-type {\n",
       "        vertical-align: middle;\n",
       "    }\n",
       "\n",
       "    .dataframe tbody tr th {\n",
       "        vertical-align: top;\n",
       "    }\n",
       "\n",
       "    .dataframe thead th {\n",
       "        text-align: right;\n",
       "    }\n",
       "</style>\n",
       "<table border=\"1\" class=\"dataframe\">\n",
       "  <thead>\n",
       "    <tr style=\"text-align: right;\">\n",
       "      <th></th>\n",
       "      <th>bike_id</th>\n",
       "      <th>bike_type</th>\n",
       "      <th>duration</th>\n",
       "      <th>end_lat</th>\n",
       "      <th>end_lon</th>\n",
       "      <th>end_station_id</th>\n",
       "      <th>end_time</th>\n",
       "      <th>plan_duration</th>\n",
       "      <th>start_lat</th>\n",
       "      <th>start_lon</th>\n",
       "      <th>start_station_id</th>\n",
       "      <th>start_time</th>\n",
       "      <th>trip_id</th>\n",
       "      <th>trip_route_category</th>\n",
       "    </tr>\n",
       "    <tr>\n",
       "      <th>passholder_type</th>\n",
       "      <th></th>\n",
       "      <th></th>\n",
       "      <th></th>\n",
       "      <th></th>\n",
       "      <th></th>\n",
       "      <th></th>\n",
       "      <th></th>\n",
       "      <th></th>\n",
       "      <th></th>\n",
       "      <th></th>\n",
       "      <th></th>\n",
       "      <th></th>\n",
       "      <th></th>\n",
       "      <th></th>\n",
       "    </tr>\n",
       "  </thead>\n",
       "  <tbody>\n",
       "    <tr>\n",
       "      <th>Day Pass</th>\n",
       "      <td>89469</td>\n",
       "      <td>89469</td>\n",
       "      <td>89469</td>\n",
       "      <td>87855</td>\n",
       "      <td>87855</td>\n",
       "      <td>89469</td>\n",
       "      <td>89469</td>\n",
       "      <td>89469</td>\n",
       "      <td>89461</td>\n",
       "      <td>89461</td>\n",
       "      <td>89469</td>\n",
       "      <td>89469</td>\n",
       "      <td>89469</td>\n",
       "      <td>89469</td>\n",
       "    </tr>\n",
       "    <tr>\n",
       "      <th>Indego30</th>\n",
       "      <td>2070240</td>\n",
       "      <td>2070849</td>\n",
       "      <td>2070849</td>\n",
       "      <td>2059077</td>\n",
       "      <td>2059077</td>\n",
       "      <td>2070849</td>\n",
       "      <td>2070849</td>\n",
       "      <td>2070849</td>\n",
       "      <td>2070698</td>\n",
       "      <td>2070698</td>\n",
       "      <td>2070839</td>\n",
       "      <td>2070849</td>\n",
       "      <td>2070849</td>\n",
       "      <td>2070849</td>\n",
       "    </tr>\n",
       "    <tr>\n",
       "      <th>Indego365</th>\n",
       "      <td>125403</td>\n",
       "      <td>125403</td>\n",
       "      <td>125403</td>\n",
       "      <td>123816</td>\n",
       "      <td>123816</td>\n",
       "      <td>125403</td>\n",
       "      <td>125403</td>\n",
       "      <td>125403</td>\n",
       "      <td>125383</td>\n",
       "      <td>125383</td>\n",
       "      <td>125403</td>\n",
       "      <td>125403</td>\n",
       "      <td>125403</td>\n",
       "      <td>125403</td>\n",
       "    </tr>\n",
       "    <tr>\n",
       "      <th>IndegoFlex</th>\n",
       "      <td>28788</td>\n",
       "      <td>28820</td>\n",
       "      <td>28820</td>\n",
       "      <td>28671</td>\n",
       "      <td>28671</td>\n",
       "      <td>28820</td>\n",
       "      <td>28820</td>\n",
       "      <td>28820</td>\n",
       "      <td>28819</td>\n",
       "      <td>28819</td>\n",
       "      <td>28820</td>\n",
       "      <td>28820</td>\n",
       "      <td>28820</td>\n",
       "      <td>28820</td>\n",
       "    </tr>\n",
       "    <tr>\n",
       "      <th>One Day Pass</th>\n",
       "      <td>6767</td>\n",
       "      <td>6767</td>\n",
       "      <td>6767</td>\n",
       "      <td>6677</td>\n",
       "      <td>6677</td>\n",
       "      <td>6767</td>\n",
       "      <td>6767</td>\n",
       "      <td>6767</td>\n",
       "      <td>6757</td>\n",
       "      <td>6757</td>\n",
       "      <td>6767</td>\n",
       "      <td>6767</td>\n",
       "      <td>6767</td>\n",
       "      <td>6767</td>\n",
       "    </tr>\n",
       "    <tr>\n",
       "      <th>Two Day Pass</th>\n",
       "      <td>1603</td>\n",
       "      <td>1603</td>\n",
       "      <td>1603</td>\n",
       "      <td>1594</td>\n",
       "      <td>1594</td>\n",
       "      <td>1603</td>\n",
       "      <td>1603</td>\n",
       "      <td>1603</td>\n",
       "      <td>1603</td>\n",
       "      <td>1603</td>\n",
       "      <td>1603</td>\n",
       "      <td>1603</td>\n",
       "      <td>1603</td>\n",
       "      <td>1603</td>\n",
       "    </tr>\n",
       "    <tr>\n",
       "      <th>Walk-up</th>\n",
       "      <td>318906</td>\n",
       "      <td>319175</td>\n",
       "      <td>319175</td>\n",
       "      <td>317103</td>\n",
       "      <td>317103</td>\n",
       "      <td>319175</td>\n",
       "      <td>319175</td>\n",
       "      <td>319175</td>\n",
       "      <td>319174</td>\n",
       "      <td>319174</td>\n",
       "      <td>319175</td>\n",
       "      <td>319175</td>\n",
       "      <td>319175</td>\n",
       "      <td>319175</td>\n",
       "    </tr>\n",
       "  </tbody>\n",
       "</table>\n",
       "</div>"
      ],
      "text/plain": [
       "                 bike_id  bike_type  duration  end_lat  end_lon  \\\n",
       "passholder_type                                                   \n",
       "Day Pass           89469      89469     89469    87855    87855   \n",
       "Indego30         2070240    2070849   2070849  2059077  2059077   \n",
       "Indego365         125403     125403    125403   123816   123816   \n",
       "IndegoFlex         28788      28820     28820    28671    28671   \n",
       "One Day Pass        6767       6767      6767     6677     6677   \n",
       "Two Day Pass        1603       1603      1603     1594     1594   \n",
       "Walk-up           318906     319175    319175   317103   317103   \n",
       "\n",
       "                 end_station_id  end_time  plan_duration  start_lat  \\\n",
       "passholder_type                                                       \n",
       "Day Pass                  89469     89469          89469      89461   \n",
       "Indego30                2070849   2070849        2070849    2070698   \n",
       "Indego365                125403    125403         125403     125383   \n",
       "IndegoFlex                28820     28820          28820      28819   \n",
       "One Day Pass               6767      6767           6767       6757   \n",
       "Two Day Pass               1603      1603           1603       1603   \n",
       "Walk-up                  319175    319175         319175     319174   \n",
       "\n",
       "                 start_lon  start_station_id  start_time  trip_id  \\\n",
       "passholder_type                                                     \n",
       "Day Pass             89461             89469       89469    89469   \n",
       "Indego30           2070698           2070839     2070849  2070849   \n",
       "Indego365           125383            125403      125403   125403   \n",
       "IndegoFlex           28819             28820       28820    28820   \n",
       "One Day Pass          6757              6767        6767     6767   \n",
       "Two Day Pass          1603              1603        1603     1603   \n",
       "Walk-up             319174            319175      319175   319175   \n",
       "\n",
       "                 trip_route_category  \n",
       "passholder_type                       \n",
       "Day Pass                       89469  \n",
       "Indego30                     2070849  \n",
       "Indego365                     125403  \n",
       "IndegoFlex                     28820  \n",
       "One Day Pass                    6767  \n",
       "Two Day Pass                    1603  \n",
       "Walk-up                       319175  "
      ]
     },
     "execution_count": 188,
     "metadata": {},
     "output_type": "execute_result"
    }
   ],
   "source": [
    "df_all.groupby('passholder_type').count()"
   ]
  },
  {
   "cell_type": "markdown",
   "metadata": {},
   "source": [
    "## We will need date, and time of day separately"
   ]
  },
  {
   "cell_type": "code",
   "execution_count": 198,
   "metadata": {},
   "outputs": [],
   "source": [
    "df_all['date'] = df_all.start_time.apply(lambda x: x.split(' ')[0] if x else None)"
   ]
  },
  {
   "cell_type": "code",
   "execution_count": 200,
   "metadata": {},
   "outputs": [
    {
     "name": "stdout",
     "output_type": "stream",
     "text": [
      "399 µs ± 45.2 µs per loop (mean ± std. dev. of 7 runs, 1000 loops each)\n"
     ]
    }
   ],
   "source": [
    "%%timeit\n",
    "pd.to_datetime(df_all.iloc[0].date)"
   ]
  },
  {
   "cell_type": "code",
   "execution_count": 202,
   "metadata": {},
   "outputs": [
    {
     "name": "stdout",
     "output_type": "stream",
     "text": [
      "300 µs ± 15 µs per loop (mean ± std. dev. of 7 runs, 1000 loops each)\n"
     ]
    }
   ],
   "source": [
    "%%timeit\n",
    "pd.to_datetime(df_all.iloc[0].date, format = '%Y-%m-%d')"
   ]
  },
  {
   "cell_type": "code",
   "execution_count": 204,
   "metadata": {},
   "outputs": [],
   "source": [
    "df_all['date'] = pd.to_datetime(df_all.date)"
   ]
  },
  {
   "cell_type": "code",
   "execution_count": 205,
   "metadata": {},
   "outputs": [],
   "source": [
    "df_all['hour'] = df_all.start_time.apply(lambda x: int(float(x.split(' ')[-1].split(':')[0])) )"
   ]
  },
  {
   "cell_type": "markdown",
   "metadata": {},
   "source": [
    "## Duration <= 2017 Q1 are in seconds?"
   ]
  },
  {
   "cell_type": "code",
   "execution_count": 220,
   "metadata": {},
   "outputs": [],
   "source": [
    "df_all_before_2017q1 = df_all.loc[df_all.date < datetime.date(2017,4,1)]\n",
    "df_all_after_2017q1 = df_all.loc[df_all.date >= datetime.date(2017,4,1)]"
   ]
  },
  {
   "cell_type": "code",
   "execution_count": 221,
   "metadata": {},
   "outputs": [
    {
     "data": {
      "text/plain": [
       "12.0"
      ]
     },
     "execution_count": 221,
     "metadata": {},
     "output_type": "execute_result"
    }
   ],
   "source": [
    "df_all_before_2017q1.duration.median()/60"
   ]
  },
  {
   "cell_type": "code",
   "execution_count": 222,
   "metadata": {},
   "outputs": [
    {
     "data": {
      "text/plain": [
       "11.0"
      ]
     },
     "execution_count": 222,
     "metadata": {},
     "output_type": "execute_result"
    }
   ],
   "source": [
    "df_all_after_2017q1.duration.median()"
   ]
  },
  {
   "cell_type": "code",
   "execution_count": 223,
   "metadata": {},
   "outputs": [
    {
     "name": "stderr",
     "output_type": "stream",
     "text": [
      "/Users/leima/anaconda/lib/python3.6/site-packages/ipykernel_launcher.py:1: SettingWithCopyWarning: \n",
      "A value is trying to be set on a copy of a slice from a DataFrame.\n",
      "Try using .loc[row_indexer,col_indexer] = value instead\n",
      "\n",
      "See the caveats in the documentation: http://pandas.pydata.org/pandas-docs/stable/indexing.html#indexing-view-versus-copy\n",
      "  \"\"\"Entry point for launching an IPython kernel.\n"
     ]
    }
   ],
   "source": [
    "df_all_before_2017q1['duration'] = df_all_before_2017q1.duration/60"
   ]
  },
  {
   "cell_type": "code",
   "execution_count": 224,
   "metadata": {},
   "outputs": [],
   "source": [
    "df_all_clean = pd.concat([df_all_before_2017q1, df_all_after_2017q1])"
   ]
  },
  {
   "cell_type": "code",
   "execution_count": 226,
   "metadata": {},
   "outputs": [
    {
     "data": {
      "text/plain": [
       "2642086"
      ]
     },
     "execution_count": 226,
     "metadata": {},
     "output_type": "execute_result"
    }
   ],
   "source": [
    "len(df_all_clean)"
   ]
  },
  {
   "cell_type": "code",
   "execution_count": 227,
   "metadata": {},
   "outputs": [
    {
     "data": {
      "text/plain": [
       "2642086"
      ]
     },
     "execution_count": 227,
     "metadata": {},
     "output_type": "execute_result"
    }
   ],
   "source": [
    "len(df_all)"
   ]
  },
  {
   "cell_type": "markdown",
   "metadata": {},
   "source": [
    "## Day of Week Matters"
   ]
  },
  {
   "cell_type": "code",
   "execution_count": 232,
   "metadata": {},
   "outputs": [],
   "source": [
    "df_all_clean['weekday'] = df_all_clean.date.apply(lambda x: x.weekday())"
   ]
  },
  {
   "cell_type": "markdown",
   "metadata": {},
   "source": [
    "## Month of Year Matters"
   ]
  },
  {
   "cell_type": "code",
   "execution_count": 238,
   "metadata": {},
   "outputs": [],
   "source": [
    "df_all_clean['month'] = df_all_clean.date.apply(lambda x: x.month)"
   ]
  },
  {
   "cell_type": "code",
   "execution_count": 239,
   "metadata": {},
   "outputs": [
    {
     "data": {
      "text/plain": [
       "array([ 7,  8,  9,  1,  2,  3, 10, 11, 12,  4,  5,  6])"
      ]
     },
     "execution_count": 239,
     "metadata": {},
     "output_type": "execute_result"
    }
   ],
   "source": [
    "df_all_clean['month'].unique()"
   ]
  },
  {
   "cell_type": "markdown",
   "metadata": {},
   "source": [
    "## Plan of duration"
   ]
  },
  {
   "cell_type": "code",
   "execution_count": 245,
   "metadata": {},
   "outputs": [
    {
     "data": {
      "text/plain": [
       "<matplotlib.axes._subplots.AxesSubplot at 0x11a0b2518>"
      ]
     },
     "execution_count": 245,
     "metadata": {},
     "output_type": "execute_result"
    },
    {
     "data": {
      "image/png": "[encoded data removed]",
      "text/plain": [
       "<Figure size 720x444.96 with 1 Axes>"
      ]
     },
     "metadata": {},
     "output_type": "display_data"
    }
   ],
   "source": [
    "fig, ax = plt.subplots(figsize=(10,6.18))\n",
    "df_all_clean[df_all_clean.date >= datetime.date(2017,1,1)].groupby('plan_duration')[['duration']].nunique().plot.bar(ax=ax)"
   ]
  },
  {
   "cell_type": "code",
   "execution_count": 247,
   "metadata": {},
   "outputs": [
    {
     "data": {
      "text/html": [
       "<div>\n",
       "<style scoped>\n",
       "    .dataframe tbody tr th:only-of-type {\n",
       "        vertical-align: middle;\n",
       "    }\n",
       "\n",
       "    .dataframe tbody tr th {\n",
       "        vertical-align: top;\n",
       "    }\n",
       "\n",
       "    .dataframe thead th {\n",
       "        text-align: right;\n",
       "    }\n",
       "</style>\n",
       "<table border=\"1\" class=\"dataframe\">\n",
       "  <thead>\n",
       "    <tr style=\"text-align: right;\">\n",
       "      <th></th>\n",
       "      <th>bike_id</th>\n",
       "      <th>bike_type</th>\n",
       "      <th>duration</th>\n",
       "      <th>end_lat</th>\n",
       "      <th>end_lon</th>\n",
       "      <th>end_station_id</th>\n",
       "      <th>end_time</th>\n",
       "      <th>passholder_type</th>\n",
       "      <th>plan_duration</th>\n",
       "      <th>start_lat</th>\n",
       "      <th>start_lon</th>\n",
       "      <th>start_station_id</th>\n",
       "      <th>start_time</th>\n",
       "      <th>trip_id</th>\n",
       "      <th>trip_route_category</th>\n",
       "      <th>date</th>\n",
       "      <th>hour</th>\n",
       "      <th>weekday</th>\n",
       "      <th>month</th>\n",
       "    </tr>\n",
       "  </thead>\n",
       "  <tbody>\n",
       "    <tr>\n",
       "      <th>98318</th>\n",
       "      <td>5206</td>\n",
       "      <td>standard</td>\n",
       "      <td>326.0</td>\n",
       "      <td>39.9505</td>\n",
       "      <td>-75.1729</td>\n",
       "      <td>3023</td>\n",
       "      <td>2017-08-03 15:16:00</td>\n",
       "      <td>Two Day Pass</td>\n",
       "      <td>2</td>\n",
       "      <td>39.9505</td>\n",
       "      <td>-75.1729</td>\n",
       "      <td>3023.0</td>\n",
       "      <td>2017-08-03 09:50:00</td>\n",
       "      <td>159949063</td>\n",
       "      <td>Round Trip</td>\n",
       "      <td>2017-08-03</td>\n",
       "      <td>9</td>\n",
       "      <td>3</td>\n",
       "      <td>8</td>\n",
       "    </tr>\n",
       "    <tr>\n",
       "      <th>98447</th>\n",
       "      <td>3666</td>\n",
       "      <td>standard</td>\n",
       "      <td>25.0</td>\n",
       "      <td>39.9646</td>\n",
       "      <td>-75.18</td>\n",
       "      <td>3057</td>\n",
       "      <td>2017-08-03 11:21:00</td>\n",
       "      <td>Two Day Pass</td>\n",
       "      <td>2</td>\n",
       "      <td>39.9614</td>\n",
       "      <td>-75.1524</td>\n",
       "      <td>3073.0</td>\n",
       "      <td>2017-08-03 10:56:00</td>\n",
       "      <td>159857055</td>\n",
       "      <td>One Way</td>\n",
       "      <td>2017-08-03</td>\n",
       "      <td>10</td>\n",
       "      <td>3</td>\n",
       "      <td>8</td>\n",
       "    </tr>\n",
       "    <tr>\n",
       "      <th>99041</th>\n",
       "      <td>11775</td>\n",
       "      <td>standard</td>\n",
       "      <td>40.0</td>\n",
       "      <td>39.943</td>\n",
       "      <td>-75.1596</td>\n",
       "      <td>3101</td>\n",
       "      <td>2017-08-03 16:04:00</td>\n",
       "      <td>Two Day Pass</td>\n",
       "      <td>2</td>\n",
       "      <td>39.9646</td>\n",
       "      <td>-75.18</td>\n",
       "      <td>3057.0</td>\n",
       "      <td>2017-08-03 15:24:00</td>\n",
       "      <td>159971668</td>\n",
       "      <td>One Way</td>\n",
       "      <td>2017-08-03</td>\n",
       "      <td>15</td>\n",
       "      <td>3</td>\n",
       "      <td>8</td>\n",
       "    </tr>\n",
       "    <tr>\n",
       "      <th>99055</th>\n",
       "      <td>3670</td>\n",
       "      <td>standard</td>\n",
       "      <td>18.0</td>\n",
       "      <td>39.9532</td>\n",
       "      <td>-75.1655</td>\n",
       "      <td>3108</td>\n",
       "      <td>2017-08-03 15:48:00</td>\n",
       "      <td>Two Day Pass</td>\n",
       "      <td>2</td>\n",
       "      <td>39.9501</td>\n",
       "      <td>-75.1447</td>\n",
       "      <td>3046.0</td>\n",
       "      <td>2017-08-03 15:30:00</td>\n",
       "      <td>159948179</td>\n",
       "      <td>One Way</td>\n",
       "      <td>2017-08-03</td>\n",
       "      <td>15</td>\n",
       "      <td>3</td>\n",
       "      <td>8</td>\n",
       "    </tr>\n",
       "    <tr>\n",
       "      <th>99060</th>\n",
       "      <td>2572</td>\n",
       "      <td>standard</td>\n",
       "      <td>17.0</td>\n",
       "      <td>39.9532</td>\n",
       "      <td>-75.1655</td>\n",
       "      <td>3108</td>\n",
       "      <td>2017-08-03 15:48:00</td>\n",
       "      <td>Two Day Pass</td>\n",
       "      <td>2</td>\n",
       "      <td>39.9501</td>\n",
       "      <td>-75.1447</td>\n",
       "      <td>3046.0</td>\n",
       "      <td>2017-08-03 15:31:00</td>\n",
       "      <td>159948176</td>\n",
       "      <td>One Way</td>\n",
       "      <td>2017-08-03</td>\n",
       "      <td>15</td>\n",
       "      <td>3</td>\n",
       "      <td>8</td>\n",
       "    </tr>\n",
       "  </tbody>\n",
       "</table>\n",
       "</div>"
      ],
      "text/plain": [
       "      bike_id bike_type  duration  end_lat  end_lon  end_station_id  \\\n",
       "98318    5206  standard     326.0  39.9505 -75.1729            3023   \n",
       "98447    3666  standard      25.0  39.9646   -75.18            3057   \n",
       "99041   11775  standard      40.0   39.943 -75.1596            3101   \n",
       "99055    3670  standard      18.0  39.9532 -75.1655            3108   \n",
       "99060    2572  standard      17.0  39.9532 -75.1655            3108   \n",
       "\n",
       "                  end_time passholder_type  plan_duration start_lat start_lon  \\\n",
       "98318  2017-08-03 15:16:00    Two Day Pass              2   39.9505  -75.1729   \n",
       "98447  2017-08-03 11:21:00    Two Day Pass              2   39.9614  -75.1524   \n",
       "99041  2017-08-03 16:04:00    Two Day Pass              2   39.9646    -75.18   \n",
       "99055  2017-08-03 15:48:00    Two Day Pass              2   39.9501  -75.1447   \n",
       "99060  2017-08-03 15:48:00    Two Day Pass              2   39.9501  -75.1447   \n",
       "\n",
       "       start_station_id           start_time    trip_id trip_route_category  \\\n",
       "98318            3023.0  2017-08-03 09:50:00  159949063          Round Trip   \n",
       "98447            3073.0  2017-08-03 10:56:00  159857055             One Way   \n",
       "99041            3057.0  2017-08-03 15:24:00  159971668             One Way   \n",
       "99055            3046.0  2017-08-03 15:30:00  159948179             One Way   \n",
       "99060            3046.0  2017-08-03 15:31:00  159948176             One Way   \n",
       "\n",
       "            date  hour  weekday  month  \n",
       "98318 2017-08-03     9        3      8  \n",
       "98447 2017-08-03    10        3      8  \n",
       "99041 2017-08-03    15        3      8  \n",
       "99055 2017-08-03    15        3      8  \n",
       "99060 2017-08-03    15        3      8  "
      ]
     },
     "execution_count": 247,
     "metadata": {},
     "output_type": "execute_result"
    }
   ],
   "source": [
    "df_all_clean[df_all_clean.plan_duration == 2].head()"
   ]
  },
  {
   "cell_type": "markdown",
   "metadata": {},
   "source": [
    "So there was two day pass"
   ]
  },
  {
   "cell_type": "markdown",
   "metadata": {},
   "source": [
    "## Standard Bikes"
   ]
  },
  {
   "cell_type": "code",
   "execution_count": 228,
   "metadata": {},
   "outputs": [],
   "source": [
    "#df_standard = df_all[~(df_all.bike_type=='electric')]\n",
    "df_standard = df_all_clean[(df_all_clean.bike_type=='standard')]"
   ]
  },
  {
   "cell_type": "code",
   "execution_count": 229,
   "metadata": {},
   "outputs": [
    {
     "data": {
      "text/html": [
       "<div>\n",
       "<style scoped>\n",
       "    .dataframe tbody tr th:only-of-type {\n",
       "        vertical-align: middle;\n",
       "    }\n",
       "\n",
       "    .dataframe tbody tr th {\n",
       "        vertical-align: top;\n",
       "    }\n",
       "\n",
       "    .dataframe thead th {\n",
       "        text-align: right;\n",
       "    }\n",
       "</style>\n",
       "<table border=\"1\" class=\"dataframe\">\n",
       "  <thead>\n",
       "    <tr style=\"text-align: right;\">\n",
       "      <th></th>\n",
       "      <th>duration</th>\n",
       "      <th>end_station_id</th>\n",
       "      <th>plan_duration</th>\n",
       "      <th>start_station_id</th>\n",
       "      <th>trip_id</th>\n",
       "      <th>hour</th>\n",
       "    </tr>\n",
       "  </thead>\n",
       "  <tbody>\n",
       "    <tr>\n",
       "      <th>count</th>\n",
       "      <td>2.637706e+06</td>\n",
       "      <td>2.637706e+06</td>\n",
       "      <td>2.637706e+06</td>\n",
       "      <td>2.637696e+06</td>\n",
       "      <td>2.637706e+06</td>\n",
       "      <td>2.637706e+06</td>\n",
       "    </tr>\n",
       "    <tr>\n",
       "      <th>mean</th>\n",
       "      <td>2.267345e+01</td>\n",
       "      <td>3.141290e+03</td>\n",
       "      <td>4.476082e+01</td>\n",
       "      <td>3.055904e+03</td>\n",
       "      <td>1.368817e+08</td>\n",
       "      <td>1.388234e+01</td>\n",
       "    </tr>\n",
       "    <tr>\n",
       "      <th>std</th>\n",
       "      <td>6.822291e+01</td>\n",
       "      <td>2.746232e+03</td>\n",
       "      <td>8.026433e+01</td>\n",
       "      <td>2.308623e+02</td>\n",
       "      <td>1.108039e+08</td>\n",
       "      <td>4.993990e+00</td>\n",
       "    </tr>\n",
       "    <tr>\n",
       "      <th>min</th>\n",
       "      <td>1.000000e+00</td>\n",
       "      <td>3.000000e+03</td>\n",
       "      <td>0.000000e+00</td>\n",
       "      <td>3.000000e+03</td>\n",
       "      <td>4.001912e+06</td>\n",
       "      <td>0.000000e+00</td>\n",
       "    </tr>\n",
       "    <tr>\n",
       "      <th>25%</th>\n",
       "      <td>8.000000e+00</td>\n",
       "      <td>3.023000e+03</td>\n",
       "      <td>3.000000e+01</td>\n",
       "      <td>3.023000e+03</td>\n",
       "      <td>4.810930e+06</td>\n",
       "      <td>1.000000e+01</td>\n",
       "    </tr>\n",
       "    <tr>\n",
       "      <th>50%</th>\n",
       "      <td>1.200000e+01</td>\n",
       "      <td>3.046000e+03</td>\n",
       "      <td>3.000000e+01</td>\n",
       "      <td>3.047000e+03</td>\n",
       "      <td>1.288614e+08</td>\n",
       "      <td>1.500000e+01</td>\n",
       "    </tr>\n",
       "    <tr>\n",
       "      <th>75%</th>\n",
       "      <td>1.900000e+01</td>\n",
       "      <td>3.070000e+03</td>\n",
       "      <td>3.000000e+01</td>\n",
       "      <td>3.070000e+03</td>\n",
       "      <td>2.426794e+08</td>\n",
       "      <td>1.800000e+01</td>\n",
       "    </tr>\n",
       "    <tr>\n",
       "      <th>max</th>\n",
       "      <td>1.440000e+03</td>\n",
       "      <td>9.025500e+04</td>\n",
       "      <td>3.650000e+02</td>\n",
       "      <td>9.001800e+04</td>\n",
       "      <td>3.133633e+08</td>\n",
       "      <td>2.300000e+01</td>\n",
       "    </tr>\n",
       "  </tbody>\n",
       "</table>\n",
       "</div>"
      ],
      "text/plain": [
       "           duration  end_station_id  plan_duration  start_station_id  \\\n",
       "count  2.637706e+06    2.637706e+06   2.637706e+06      2.637696e+06   \n",
       "mean   2.267345e+01    3.141290e+03   4.476082e+01      3.055904e+03   \n",
       "std    6.822291e+01    2.746232e+03   8.026433e+01      2.308623e+02   \n",
       "min    1.000000e+00    3.000000e+03   0.000000e+00      3.000000e+03   \n",
       "25%    8.000000e+00    3.023000e+03   3.000000e+01      3.023000e+03   \n",
       "50%    1.200000e+01    3.046000e+03   3.000000e+01      3.047000e+03   \n",
       "75%    1.900000e+01    3.070000e+03   3.000000e+01      3.070000e+03   \n",
       "max    1.440000e+03    9.025500e+04   3.650000e+02      9.001800e+04   \n",
       "\n",
       "            trip_id          hour  \n",
       "count  2.637706e+06  2.637706e+06  \n",
       "mean   1.368817e+08  1.388234e+01  \n",
       "std    1.108039e+08  4.993990e+00  \n",
       "min    4.001912e+06  0.000000e+00  \n",
       "25%    4.810930e+06  1.000000e+01  \n",
       "50%    1.288614e+08  1.500000e+01  \n",
       "75%    2.426794e+08  1.800000e+01  \n",
       "max    3.133633e+08  2.300000e+01  "
      ]
     },
     "execution_count": 229,
     "metadata": {},
     "output_type": "execute_result"
    }
   ],
   "source": [
    "df_standard.describe()"
   ]
  },
  {
   "cell_type": "code",
   "execution_count": 230,
   "metadata": {},
   "outputs": [
    {
     "data": {
      "text/html": [
       "<div>\n",
       "<style scoped>\n",
       "    .dataframe tbody tr th:only-of-type {\n",
       "        vertical-align: middle;\n",
       "    }\n",
       "\n",
       "    .dataframe tbody tr th {\n",
       "        vertical-align: top;\n",
       "    }\n",
       "\n",
       "    .dataframe thead th {\n",
       "        text-align: right;\n",
       "    }\n",
       "</style>\n",
       "<table border=\"1\" class=\"dataframe\">\n",
       "  <thead>\n",
       "    <tr style=\"text-align: right;\">\n",
       "      <th></th>\n",
       "      <th>bike_id</th>\n",
       "      <th>bike_type</th>\n",
       "      <th>duration</th>\n",
       "      <th>end_lat</th>\n",
       "      <th>end_lon</th>\n",
       "      <th>end_station_id</th>\n",
       "      <th>end_time</th>\n",
       "      <th>passholder_type</th>\n",
       "      <th>plan_duration</th>\n",
       "      <th>start_lat</th>\n",
       "      <th>start_lon</th>\n",
       "      <th>start_station_id</th>\n",
       "      <th>start_time</th>\n",
       "      <th>trip_id</th>\n",
       "      <th>trip_route_category</th>\n",
       "      <th>date</th>\n",
       "      <th>hour</th>\n",
       "    </tr>\n",
       "  </thead>\n",
       "  <tbody>\n",
       "    <tr>\n",
       "      <th>0</th>\n",
       "      <td>3640</td>\n",
       "      <td>standard</td>\n",
       "      <td>4.0</td>\n",
       "      <td>39.9384</td>\n",
       "      <td>-75.173271</td>\n",
       "      <td>3064</td>\n",
       "      <td>7/1/2016 0:11</td>\n",
       "      <td>Indego30</td>\n",
       "      <td>30</td>\n",
       "      <td>39.946331</td>\n",
       "      <td>-75.1698</td>\n",
       "      <td>3063.0</td>\n",
       "      <td>7/1/2016 0:07</td>\n",
       "      <td>25183529</td>\n",
       "      <td>One Way</td>\n",
       "      <td>2016-07-01</td>\n",
       "      <td>0</td>\n",
       "    </tr>\n",
       "    <tr>\n",
       "      <th>1</th>\n",
       "      <td>3349</td>\n",
       "      <td>standard</td>\n",
       "      <td>8.0</td>\n",
       "      <td>39.94138</td>\n",
       "      <td>-75.145638</td>\n",
       "      <td>3026</td>\n",
       "      <td>7/1/2016 0:18</td>\n",
       "      <td>Indego30</td>\n",
       "      <td>30</td>\n",
       "      <td>39.95295</td>\n",
       "      <td>-75.139793</td>\n",
       "      <td>3124.0</td>\n",
       "      <td>7/1/2016 0:10</td>\n",
       "      <td>25183528</td>\n",
       "      <td>One Way</td>\n",
       "      <td>2016-07-01</td>\n",
       "      <td>0</td>\n",
       "    </tr>\n",
       "    <tr>\n",
       "      <th>2</th>\n",
       "      <td>5279</td>\n",
       "      <td>standard</td>\n",
       "      <td>17.0</td>\n",
       "      <td>39.933151</td>\n",
       "      <td>-75.162483</td>\n",
       "      <td>3034</td>\n",
       "      <td>7/1/2016 0:28</td>\n",
       "      <td>Indego30</td>\n",
       "      <td>30</td>\n",
       "      <td>39.93082</td>\n",
       "      <td>-75.174744</td>\n",
       "      <td>3043.0</td>\n",
       "      <td>7/1/2016 0:11</td>\n",
       "      <td>25183527</td>\n",
       "      <td>One Way</td>\n",
       "      <td>2016-07-01</td>\n",
       "      <td>0</td>\n",
       "    </tr>\n",
       "    <tr>\n",
       "      <th>3</th>\n",
       "      <td>5198</td>\n",
       "      <td>standard</td>\n",
       "      <td>25.0</td>\n",
       "      <td>39.94138</td>\n",
       "      <td>-75.145638</td>\n",
       "      <td>3026</td>\n",
       "      <td>7/1/2016 0:38</td>\n",
       "      <td>Walk-up</td>\n",
       "      <td>0</td>\n",
       "      <td>39.94138</td>\n",
       "      <td>-75.145638</td>\n",
       "      <td>3026.0</td>\n",
       "      <td>7/1/2016 0:13</td>\n",
       "      <td>25183526</td>\n",
       "      <td>Round Trip</td>\n",
       "      <td>2016-07-01</td>\n",
       "      <td>0</td>\n",
       "    </tr>\n",
       "    <tr>\n",
       "      <th>4</th>\n",
       "      <td>3382</td>\n",
       "      <td>standard</td>\n",
       "      <td>45.0</td>\n",
       "      <td>39.947109</td>\n",
       "      <td>-75.166183</td>\n",
       "      <td>3010</td>\n",
       "      <td>7/1/2016 0:58</td>\n",
       "      <td>Walk-up</td>\n",
       "      <td>0</td>\n",
       "      <td>39.954239</td>\n",
       "      <td>-75.161377</td>\n",
       "      <td>3037.0</td>\n",
       "      <td>7/1/2016 0:13</td>\n",
       "      <td>25183525</td>\n",
       "      <td>One Way</td>\n",
       "      <td>2016-07-01</td>\n",
       "      <td>0</td>\n",
       "    </tr>\n",
       "  </tbody>\n",
       "</table>\n",
       "</div>"
      ],
      "text/plain": [
       "  bike_id bike_type  duration    end_lat     end_lon  end_station_id  \\\n",
       "0    3640  standard       4.0    39.9384  -75.173271            3064   \n",
       "1    3349  standard       8.0   39.94138  -75.145638            3026   \n",
       "2    5279  standard      17.0  39.933151  -75.162483            3034   \n",
       "3    5198  standard      25.0   39.94138  -75.145638            3026   \n",
       "4    3382  standard      45.0  39.947109  -75.166183            3010   \n",
       "\n",
       "        end_time passholder_type  plan_duration  start_lat   start_lon  \\\n",
       "0  7/1/2016 0:11        Indego30             30  39.946331    -75.1698   \n",
       "1  7/1/2016 0:18        Indego30             30   39.95295  -75.139793   \n",
       "2  7/1/2016 0:28        Indego30             30   39.93082  -75.174744   \n",
       "3  7/1/2016 0:38         Walk-up              0   39.94138  -75.145638   \n",
       "4  7/1/2016 0:58         Walk-up              0  39.954239  -75.161377   \n",
       "\n",
       "   start_station_id     start_time   trip_id trip_route_category       date  \\\n",
       "0            3063.0  7/1/2016 0:07  25183529             One Way 2016-07-01   \n",
       "1            3124.0  7/1/2016 0:10  25183528             One Way 2016-07-01   \n",
       "2            3043.0  7/1/2016 0:11  25183527             One Way 2016-07-01   \n",
       "3            3026.0  7/1/2016 0:13  25183526          Round Trip 2016-07-01   \n",
       "4            3037.0  7/1/2016 0:13  25183525             One Way 2016-07-01   \n",
       "\n",
       "   hour  \n",
       "0     0  \n",
       "1     0  \n",
       "2     0  \n",
       "3     0  \n",
       "4     0  "
      ]
     },
     "execution_count": 230,
     "metadata": {},
     "output_type": "execute_result"
    }
   ],
   "source": [
    "df_standard.head()"
   ]
  },
  {
   "cell_type": "code",
   "execution_count": 231,
   "metadata": {},
   "outputs": [],
   "source": [
    "df_standard.to_csv('/tmp/tmp.csv', index=False)"
   ]
  },
  {
   "cell_type": "code",
   "execution_count": null,
   "metadata": {},
   "outputs": [],
   "source": []
  }
 ],
 "metadata": {
  "kernelspec": {
   "display_name": "Python 3",
   "language": "python",
   "name": "python3"
  },
  "language_info": {
   "codemirror_mode": {
    "name": "ipython",
    "version": 3
   },
   "file_extension": ".py",
   "mimetype": "text/x-python",
   "name": "python",
   "nbconvert_exporter": "python",
   "pygments_lexer": "ipython3",
   "version": "3.6.8"
  }
 },
 "nbformat": 4,
 "nbformat_minor": 2
}
