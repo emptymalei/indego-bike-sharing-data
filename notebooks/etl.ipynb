{
 "cells": [
  {
   "cell_type": "code",
   "execution_count": 16,
   "metadata": {},
   "outputs": [],
   "source": [
    "import os"
   ]
  },
  {
   "cell_type": "code",
   "execution_count": 18,
   "metadata": {},
   "outputs": [],
   "source": [
    "data_files = os.listdir('/tmp/rideindego')"
   ]
  },
  {
   "cell_type": "code",
   "execution_count": null,
   "metadata": {},
   "outputs": [],
   "source": [
    "'abc.csv'.endswith"
   ]
  },
  {
   "cell_type": "code",
   "execution_count": 20,
   "metadata": {},
   "outputs": [],
   "source": [
    "csv_files = [i for i in data_files if i.endswith('.csv')]"
   ]
  },
  {
   "cell_type": "code",
   "execution_count": 21,
   "metadata": {},
   "outputs": [
    {
     "data": {
      "text/plain": [
       "['indego-trips-2018-q4.csv',\n",
       " 'Q3_2016_trips.csv',\n",
       " 'indego-trips-2018-q3.csv',\n",
       " 'indego-trips-2018-q2.csv',\n",
       " 'indego-trips-2018-q1.csv',\n",
       " 'indego-quarter-echo.bicycletransit.com-2018-01-19-9-57 AM.csv',\n",
       " 'indego_gbfs_trips_Q1_2017.csv',\n",
       " 'Indego_trips_Q4_2016.csv',\n",
       " 'indego-trips-2017-q3.csv',\n",
       " 'indego-trips-2019-q1.csv',\n",
       " 'Indego_Trips_2016Q1.csv',\n",
       " 'Indego_Trips_2016Q2.csv',\n",
       " 'indego_gbfs_trips_Q2_2017.csv',\n",
       " 'Indego_Trips_2015Q4.csv',\n",
       " 'Indego_Trips_2015Q3.csv',\n",
       " 'Indego_Trips_2015Q2.csv']"
      ]
     },
     "execution_count": 21,
     "metadata": {},
     "output_type": "execute_result"
    }
   ],
   "source": [
    "csv_files"
   ]
  },
  {
   "cell_type": "code",
   "execution_count": null,
   "metadata": {},
   "outputs": [],
   "source": []
  }
 ],
 "metadata": {
  "kernelspec": {
   "display_name": "Python 3",
   "language": "python",
   "name": "python3"
  },
  "language_info": {
   "codemirror_mode": {
    "name": "ipython",
    "version": 3
   },
   "file_extension": ".py",
   "mimetype": "text/x-python",
   "name": "python",
   "nbconvert_exporter": "python",
   "pygments_lexer": "ipython3",
   "version": "3.6.8"
  }
 },
 "nbformat": 4,
 "nbformat_minor": 2
}
