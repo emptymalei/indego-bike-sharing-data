{
 "cells": [
  {
   "cell_type": "markdown",
   "metadata": {},
   "source": [
    "## Some ETL Related Tests"
   ]
  },
  {
   "cell_type": "code",
   "execution_count": 1,
   "metadata": {},
   "outputs": [],
   "source": [
    "import pandas as pd"
   ]
  },
  {
   "cell_type": "code",
   "execution_count": 2,
   "metadata": {},
   "outputs": [],
   "source": [
    "from functools import reduce"
   ]
  },
  {
   "cell_type": "code",
   "execution_count": 3,
   "metadata": {},
   "outputs": [],
   "source": [
    "import os"
   ]
  },
  {
   "cell_type": "code",
   "execution_count": 4,
   "metadata": {},
   "outputs": [],
   "source": [
    "import datetime\n",
    "import matplotlib.pyplot as plt"
   ]
  },
  {
   "cell_type": "markdown",
   "metadata": {},
   "source": [
    "### Load Files"
   ]
  },
  {
   "cell_type": "code",
   "execution_count": 5,
   "metadata": {},
   "outputs": [],
   "source": [
    "workdir = '/tmp/rideindego'\n",
    "data_files = os.listdir(workdir)"
   ]
  },
  {
   "cell_type": "code",
   "execution_count": 6,
   "metadata": {},
   "outputs": [],
   "source": [
    "csv_files = [os.path.join(workdir,i) for i in data_files if i.endswith('.csv')]"
   ]
  },
  {
   "cell_type": "code",
   "execution_count": 7,
   "metadata": {},
   "outputs": [
    {
     "data": {
      "text/plain": [
       "['/tmp/rideindego/indego-trips-2020-q1.csv',\n",
       " '/tmp/rideindego/indego-trips-2018-q4.csv',\n",
       " '/tmp/rideindego/indego-trips-2020-q2.csv',\n",
       " '/tmp/rideindego/indego-trips-2020-q3.csv',\n",
       " '/tmp/rideindego/Q3_2016_trips.csv',\n",
       " '/tmp/rideindego/indego-trips-2018-q3.csv',\n",
       " '/tmp/rideindego/indego-trips-2018-q2.csv',\n",
       " '/tmp/rideindego/indego-trips-2018-q1.csv',\n",
       " '/tmp/rideindego/indego-quarter-echo.bicycletransit.com-2018-01-19-9-57 AM.csv',\n",
       " '/tmp/rideindego/indego_gbfs_trips_Q1_2017.csv',\n",
       " '/tmp/rideindego/Indego_trips_Q4_2016.csv',\n",
       " '/tmp/rideindego/indego-trips-2017-q3.csv',\n",
       " '/tmp/rideindego/indego-trips-2019-q4.csv',\n",
       " '/tmp/rideindego/indego-trips-2019-q1.csv',\n",
       " '/tmp/rideindego/Indego_Trips_2016Q1.csv',\n",
       " '/tmp/rideindego/indego-trips-2019-q2.csv',\n",
       " '/tmp/rideindego/Indego_Trips_2016Q2.csv',\n",
       " '/tmp/rideindego/indego-trips-2019-q3.csv',\n",
       " '/tmp/rideindego/indego_gbfs_trips_Q2_2017.csv',\n",
       " '/tmp/rideindego/Indego_Trips_2015Q4.csv',\n",
       " '/tmp/rideindego/Indego_Trips_2015Q3.csv',\n",
       " '/tmp/rideindego/Indego_Trips_2015Q2.csv']"
      ]
     },
     "execution_count": 7,
     "metadata": {},
     "output_type": "execute_result"
    }
   ],
   "source": [
    "csv_files"
   ]
  },
  {
   "cell_type": "code",
   "execution_count": 8,
   "metadata": {},
   "outputs": [],
   "source": [
    "df_all = pd.DataFrame()"
   ]
  },
  {
   "cell_type": "code",
   "execution_count": 9,
   "metadata": {},
   "outputs": [
    {
     "name": "stderr",
     "output_type": "stream",
     "text": [
      "/Users/leima/anaconda3/lib/python3.7/site-packages/IPython/core/interactiveshell.py:3254: DtypeWarning: Columns (10) have mixed types.Specify dtype option on import or set low_memory=False.\n",
      "  if (await self.run_code(code, result,  async_=asy)):\n"
     ]
    }
   ],
   "source": [
    "df_array = [pd.read_csv(csv_file) for csv_file in csv_files]"
   ]
  },
  {
   "cell_type": "markdown",
   "metadata": {},
   "source": [
    "Validate imported data"
   ]
  },
  {
   "cell_type": "code",
   "execution_count": 10,
   "metadata": {},
   "outputs": [
    {
     "name": "stdout",
     "output_type": "stream",
     "text": [
      "columns: 15 ; index: RangeIndex(start=0, stop=118190, step=1) ; length: 118190\n",
      "columns: 15 ; index: RangeIndex(start=0, stop=142872, step=1) ; length: 142872\n",
      "columns: 15 ; index: RangeIndex(start=0, stop=186586, step=1) ; length: 186586\n",
      "columns: 15 ; index: RangeIndex(start=0, stop=269985, step=1) ; length: 269985\n",
      "columns: 14 ; index: RangeIndex(start=0, stop=234946, step=1) ; length: 234946\n",
      "columns: 15 ; index: RangeIndex(start=0, stop=228329, step=1) ; length: 228329\n",
      "columns: 14 ; index: RangeIndex(start=0, stop=201624, step=1) ; length: 201624\n",
      "columns: 14 ; index: RangeIndex(start=0, stop=98993, step=1) ; length: 98993\n",
      "columns: 14 ; index: RangeIndex(start=0, stop=183909, step=1) ; length: 183909\n",
      "columns: 14 ; index: RangeIndex(start=0, stop=107772, step=1) ; length: 107772\n",
      "columns: 14 ; index: RangeIndex(start=0, stop=176119, step=1) ; length: 176119\n",
      "columns: 14 ; index: RangeIndex(start=0, stop=276785, step=1) ; length: 276785\n",
      "columns: 15 ; index: RangeIndex(start=0, stop=166116, step=1) ; length: 166116\n",
      "columns: 15 ; index: RangeIndex(start=0, stop=96593, step=1) ; length: 96593\n",
      "columns: 14 ; index: RangeIndex(start=0, stop=73169, step=1) ; length: 73169\n",
      "columns: 15 ; index: RangeIndex(start=0, stop=206354, step=1) ; length: 206354\n",
      "columns: 14 ; index: RangeIndex(start=0, stop=170824, step=1) ; length: 170824\n",
      "columns: 15 ; index: RangeIndex(start=0, stop=275197, step=1) ; length: 275197\n",
      "columns: 14 ; index: RangeIndex(start=0, stop=220441, step=1) ; length: 220441\n",
      "columns: 14 ; index: RangeIndex(start=0, stop=121783, step=1) ; length: 121783\n",
      "columns: 14 ; index: RangeIndex(start=0, stop=188368, step=1) ; length: 188368\n",
      "columns: 14 ; index: RangeIndex(start=0, stop=119559, step=1) ; length: 119559\n"
     ]
    }
   ],
   "source": [
    "for i in df_array:\n",
    "    print('columns:', len(i.columns), '; index:', i.index, '; length:', len(i))"
   ]
  },
  {
   "cell_type": "code",
   "execution_count": 11,
   "metadata": {},
   "outputs": [
    {
     "data": {
      "text/plain": [
       "Index(['trip_id', 'duration', 'start_time', 'end_time', 'start_station',\n",
       "       'start_lat', 'start_lon', 'end_station', 'end_lat', 'end_lon',\n",
       "       'bike_id', 'plan_duration', 'trip_route_category', 'passholder_type',\n",
       "       'bike_type'],\n",
       "      dtype='object')"
      ]
     },
     "execution_count": 11,
     "metadata": {},
     "output_type": "execute_result"
    }
   ],
   "source": [
    "df_array[0].columns"
   ]
  },
  {
   "cell_type": "code",
   "execution_count": 12,
   "metadata": {},
   "outputs": [
    {
     "data": {
      "text/plain": [
       "Index(['trip_id', 'duration', 'start_time', 'end_time', 'start_station',\n",
       "       'start_lat', 'start_lon', 'end_station', 'end_lat', 'end_lon',\n",
       "       'bike_id', 'plan_duration', 'trip_route_category', 'passholder_type',\n",
       "       'bike_type'],\n",
       "      dtype='object')"
      ]
     },
     "execution_count": 12,
     "metadata": {},
     "output_type": "execute_result"
    }
   ],
   "source": [
    "df_array[1].columns"
   ]
  },
  {
   "cell_type": "code",
   "execution_count": 13,
   "metadata": {},
   "outputs": [
    {
     "data": {
      "text/html": [
       "<div>\n",
       "<style scoped>\n",
       "    .dataframe tbody tr th:only-of-type {\n",
       "        vertical-align: middle;\n",
       "    }\n",
       "\n",
       "    .dataframe tbody tr th {\n",
       "        vertical-align: top;\n",
       "    }\n",
       "\n",
       "    .dataframe thead th {\n",
       "        text-align: right;\n",
       "    }\n",
       "</style>\n",
       "<table border=\"1\" class=\"dataframe\">\n",
       "  <thead>\n",
       "    <tr style=\"text-align: right;\">\n",
       "      <th></th>\n",
       "      <th>trip_id</th>\n",
       "      <th>duration</th>\n",
       "      <th>start_time</th>\n",
       "      <th>end_time</th>\n",
       "      <th>start_station</th>\n",
       "      <th>start_lat</th>\n",
       "      <th>start_lon</th>\n",
       "      <th>end_station</th>\n",
       "      <th>end_lat</th>\n",
       "      <th>end_lon</th>\n",
       "      <th>bike_id</th>\n",
       "      <th>plan_duration</th>\n",
       "      <th>trip_route_category</th>\n",
       "      <th>passholder_type</th>\n",
       "      <th>bike_type</th>\n",
       "    </tr>\n",
       "  </thead>\n",
       "  <tbody>\n",
       "    <tr>\n",
       "      <th>0</th>\n",
       "      <td>333803388</td>\n",
       "      <td>11</td>\n",
       "      <td>1/1/2020 0:13</td>\n",
       "      <td>1/1/2020 0:24</td>\n",
       "      <td>3049</td>\n",
       "      <td>39.945091</td>\n",
       "      <td>-75.142502</td>\n",
       "      <td>3072</td>\n",
       "      <td>39.934448</td>\n",
       "      <td>-75.145409</td>\n",
       "      <td>19794</td>\n",
       "      <td>30</td>\n",
       "      <td>One Way</td>\n",
       "      <td>Indego30</td>\n",
       "      <td>electric</td>\n",
       "    </tr>\n",
       "    <tr>\n",
       "      <th>1</th>\n",
       "      <td>333803387</td>\n",
       "      <td>28</td>\n",
       "      <td>1/1/2020 0:14</td>\n",
       "      <td>1/1/2020 0:42</td>\n",
       "      <td>3124</td>\n",
       "      <td>39.953621</td>\n",
       "      <td>-75.139542</td>\n",
       "      <td>3053</td>\n",
       "      <td>39.932308</td>\n",
       "      <td>-75.181541</td>\n",
       "      <td>19818</td>\n",
       "      <td>30</td>\n",
       "      <td>One Way</td>\n",
       "      <td>Indego30</td>\n",
       "      <td>electric</td>\n",
       "    </tr>\n",
       "  </tbody>\n",
       "</table>\n",
       "</div>"
      ],
      "text/plain": [
       "     trip_id  duration     start_time       end_time  start_station  \\\n",
       "0  333803388        11  1/1/2020 0:13  1/1/2020 0:24           3049   \n",
       "1  333803387        28  1/1/2020 0:14  1/1/2020 0:42           3124   \n",
       "\n",
       "   start_lat  start_lon  end_station    end_lat    end_lon  bike_id  \\\n",
       "0  39.945091 -75.142502         3072  39.934448 -75.145409    19794   \n",
       "1  39.953621 -75.139542         3053  39.932308 -75.181541    19818   \n",
       "\n",
       "   plan_duration trip_route_category passholder_type bike_type  \n",
       "0             30             One Way        Indego30  electric  \n",
       "1             30             One Way        Indego30  electric  "
      ]
     },
     "execution_count": 13,
     "metadata": {},
     "output_type": "execute_result"
    }
   ],
   "source": [
    "df_array[0].head(2)"
   ]
  },
  {
   "cell_type": "code",
   "execution_count": 14,
   "metadata": {},
   "outputs": [
    {
     "data": {
      "text/html": [
       "<div>\n",
       "<style scoped>\n",
       "    .dataframe tbody tr th:only-of-type {\n",
       "        vertical-align: middle;\n",
       "    }\n",
       "\n",
       "    .dataframe tbody tr th {\n",
       "        vertical-align: top;\n",
       "    }\n",
       "\n",
       "    .dataframe thead th {\n",
       "        text-align: right;\n",
       "    }\n",
       "</style>\n",
       "<table border=\"1\" class=\"dataframe\">\n",
       "  <thead>\n",
       "    <tr style=\"text-align: right;\">\n",
       "      <th></th>\n",
       "      <th>trip_id</th>\n",
       "      <th>duration</th>\n",
       "      <th>start_time</th>\n",
       "      <th>end_time</th>\n",
       "      <th>start_station</th>\n",
       "      <th>start_lat</th>\n",
       "      <th>start_lon</th>\n",
       "      <th>end_station</th>\n",
       "      <th>end_lat</th>\n",
       "      <th>end_lon</th>\n",
       "      <th>bike_id</th>\n",
       "      <th>plan_duration</th>\n",
       "      <th>trip_route_category</th>\n",
       "      <th>passholder_type</th>\n",
       "      <th>bike_type</th>\n",
       "    </tr>\n",
       "  </thead>\n",
       "  <tbody>\n",
       "    <tr>\n",
       "      <th>0</th>\n",
       "      <td>299955254</td>\n",
       "      <td>30</td>\n",
       "      <td>2018-10-01 00:03:00</td>\n",
       "      <td>2018-10-01 00:33:00</td>\n",
       "      <td>3038</td>\n",
       "      <td>39.947811</td>\n",
       "      <td>-75.194092</td>\n",
       "      <td>3063</td>\n",
       "      <td>39.947811</td>\n",
       "      <td>-75.194092</td>\n",
       "      <td>11908</td>\n",
       "      <td>30</td>\n",
       "      <td>One Way</td>\n",
       "      <td>Indego30</td>\n",
       "      <td>standard</td>\n",
       "    </tr>\n",
       "    <tr>\n",
       "      <th>1</th>\n",
       "      <td>299955253</td>\n",
       "      <td>7</td>\n",
       "      <td>2018-10-01 00:06:00</td>\n",
       "      <td>2018-10-01 00:13:00</td>\n",
       "      <td>3032</td>\n",
       "      <td>39.945271</td>\n",
       "      <td>-75.179710</td>\n",
       "      <td>3064</td>\n",
       "      <td>39.945271</td>\n",
       "      <td>-75.179710</td>\n",
       "      <td>5382</td>\n",
       "      <td>30</td>\n",
       "      <td>One Way</td>\n",
       "      <td>Indego30</td>\n",
       "      <td>standard</td>\n",
       "    </tr>\n",
       "  </tbody>\n",
       "</table>\n",
       "</div>"
      ],
      "text/plain": [
       "     trip_id  duration           start_time             end_time  \\\n",
       "0  299955254        30  2018-10-01 00:03:00  2018-10-01 00:33:00   \n",
       "1  299955253         7  2018-10-01 00:06:00  2018-10-01 00:13:00   \n",
       "\n",
       "   start_station  start_lat  start_lon  end_station    end_lat    end_lon  \\\n",
       "0           3038  39.947811 -75.194092         3063  39.947811 -75.194092   \n",
       "1           3032  39.945271 -75.179710         3064  39.945271 -75.179710   \n",
       "\n",
       "  bike_id  plan_duration trip_route_category passholder_type bike_type  \n",
       "0   11908             30             One Way        Indego30  standard  \n",
       "1    5382             30             One Way        Indego30  standard  "
      ]
     },
     "execution_count": 14,
     "metadata": {},
     "output_type": "execute_result"
    }
   ],
   "source": [
    "df_array[1].head(2)"
   ]
  },
  {
   "cell_type": "code",
   "execution_count": 15,
   "metadata": {},
   "outputs": [
    {
     "data": {
      "text/html": [
       "<div>\n",
       "<style scoped>\n",
       "    .dataframe tbody tr th:only-of-type {\n",
       "        vertical-align: middle;\n",
       "    }\n",
       "\n",
       "    .dataframe tbody tr th {\n",
       "        vertical-align: top;\n",
       "    }\n",
       "\n",
       "    .dataframe thead th {\n",
       "        text-align: right;\n",
       "    }\n",
       "</style>\n",
       "<table border=\"1\" class=\"dataframe\">\n",
       "  <thead>\n",
       "    <tr style=\"text-align: right;\">\n",
       "      <th></th>\n",
       "      <th>trip_id</th>\n",
       "      <th>duration</th>\n",
       "      <th>start_time</th>\n",
       "      <th>end_time</th>\n",
       "      <th>start_station</th>\n",
       "      <th>start_lat</th>\n",
       "      <th>start_lon</th>\n",
       "      <th>end_station</th>\n",
       "      <th>end_lat</th>\n",
       "      <th>end_lon</th>\n",
       "      <th>bike_id</th>\n",
       "      <th>plan_duration</th>\n",
       "      <th>trip_route_category</th>\n",
       "      <th>passholder_type</th>\n",
       "      <th>bike_type</th>\n",
       "    </tr>\n",
       "  </thead>\n",
       "  <tbody>\n",
       "    <tr>\n",
       "      <th>0</th>\n",
       "      <td>338689875</td>\n",
       "      <td>9</td>\n",
       "      <td>4/1/2020 0:01</td>\n",
       "      <td>4/1/2020 0:10</td>\n",
       "      <td>3086</td>\n",
       "      <td>39.940189</td>\n",
       "      <td>-75.166908</td>\n",
       "      <td>3163</td>\n",
       "      <td>39.949741</td>\n",
       "      <td>-75.180969</td>\n",
       "      <td>5420</td>\n",
       "      <td>30</td>\n",
       "      <td>One Way</td>\n",
       "      <td>Indego30</td>\n",
       "      <td>standard</td>\n",
       "    </tr>\n",
       "    <tr>\n",
       "      <th>1</th>\n",
       "      <td>338689874</td>\n",
       "      <td>2</td>\n",
       "      <td>4/1/2020 0:08</td>\n",
       "      <td>4/1/2020 0:10</td>\n",
       "      <td>3056</td>\n",
       "      <td>39.976688</td>\n",
       "      <td>-75.158127</td>\n",
       "      <td>3039</td>\n",
       "      <td>39.971210</td>\n",
       "      <td>-75.159698</td>\n",
       "      <td>11961</td>\n",
       "      <td>30</td>\n",
       "      <td>One Way</td>\n",
       "      <td>Indego30</td>\n",
       "      <td>standard</td>\n",
       "    </tr>\n",
       "  </tbody>\n",
       "</table>\n",
       "</div>"
      ],
      "text/plain": [
       "     trip_id  duration     start_time       end_time  start_station  \\\n",
       "0  338689875         9  4/1/2020 0:01  4/1/2020 0:10           3086   \n",
       "1  338689874         2  4/1/2020 0:08  4/1/2020 0:10           3056   \n",
       "\n",
       "   start_lat  start_lon  end_station    end_lat    end_lon  bike_id  \\\n",
       "0  39.940189 -75.166908         3163  39.949741 -75.180969     5420   \n",
       "1  39.976688 -75.158127         3039  39.971210 -75.159698    11961   \n",
       "\n",
       "   plan_duration trip_route_category passholder_type bike_type  \n",
       "0             30             One Way        Indego30  standard  \n",
       "1             30             One Way        Indego30  standard  "
      ]
     },
     "execution_count": 15,
     "metadata": {},
     "output_type": "execute_result"
    }
   ],
   "source": [
    "df_array[2].head(2)"
   ]
  },
  {
   "cell_type": "code",
   "execution_count": 16,
   "metadata": {},
   "outputs": [
    {
     "data": {
      "text/plain": [
       "set()"
      ]
     },
     "execution_count": 16,
     "metadata": {},
     "output_type": "execute_result"
    }
   ],
   "source": [
    "set(df_array[1].columns) - set(df_array[0].columns)"
   ]
  },
  {
   "cell_type": "code",
   "execution_count": 17,
   "metadata": {},
   "outputs": [
    {
     "data": {
      "text/plain": [
       "set()"
      ]
     },
     "execution_count": 17,
     "metadata": {},
     "output_type": "execute_result"
    }
   ],
   "source": [
    "set(df_array[0].columns) - set(df_array[1].columns)"
   ]
  },
  {
   "cell_type": "markdown",
   "metadata": {},
   "source": [
    "end_station/start_station and end_station_id/start_station_id are the same thing"
   ]
  },
  {
   "cell_type": "code",
   "execution_count": 18,
   "metadata": {},
   "outputs": [],
   "source": [
    "df_array = [\n",
    "    df_temp.rename( columns={'end_station': 'end_station_id', 'start_station': 'start_station_id'} )\n",
    "    for df_temp in df_array\n",
    "]"
   ]
  },
  {
   "cell_type": "code",
   "execution_count": 19,
   "metadata": {},
   "outputs": [
    {
     "data": {
      "text/plain": [
       "set()"
      ]
     },
     "execution_count": 19,
     "metadata": {},
     "output_type": "execute_result"
    }
   ],
   "source": [
    "set(df_array[1].columns) - set(df_array[0].columns)"
   ]
  },
  {
   "cell_type": "code",
   "execution_count": 20,
   "metadata": {},
   "outputs": [
    {
     "data": {
      "text/plain": [
       "set()"
      ]
     },
     "execution_count": 20,
     "metadata": {},
     "output_type": "execute_result"
    }
   ],
   "source": [
    "set(df_array[0].columns) - set(df_array[1].columns)"
   ]
  },
  {
   "cell_type": "markdown",
   "metadata": {},
   "source": [
    "### Check Data Quality"
   ]
  },
  {
   "cell_type": "code",
   "execution_count": 21,
   "metadata": {},
   "outputs": [],
   "source": [
    "df_all = pd.concat(df_array)"
   ]
  },
  {
   "cell_type": "code",
   "execution_count": 22,
   "metadata": {},
   "outputs": [
    {
     "data": {
      "text/html": [
       "<div>\n",
       "<style scoped>\n",
       "    .dataframe tbody tr th:only-of-type {\n",
       "        vertical-align: middle;\n",
       "    }\n",
       "\n",
       "    .dataframe tbody tr th {\n",
       "        vertical-align: top;\n",
       "    }\n",
       "\n",
       "    .dataframe thead th {\n",
       "        text-align: right;\n",
       "    }\n",
       "</style>\n",
       "<table border=\"1\" class=\"dataframe\">\n",
       "  <thead>\n",
       "    <tr style=\"text-align: right;\">\n",
       "      <th></th>\n",
       "      <th>trip_id</th>\n",
       "      <th>duration</th>\n",
       "      <th>start_station_id</th>\n",
       "      <th>end_station_id</th>\n",
       "      <th>plan_duration</th>\n",
       "    </tr>\n",
       "  </thead>\n",
       "  <tbody>\n",
       "    <tr>\n",
       "      <th>count</th>\n",
       "      <td>3.864514e+06</td>\n",
       "      <td>3.864514e+06</td>\n",
       "      <td>3.864504e+06</td>\n",
       "      <td>3.864514e+06</td>\n",
       "      <td>3.864507e+06</td>\n",
       "    </tr>\n",
       "    <tr>\n",
       "      <th>mean</th>\n",
       "      <td>1.992145e+08</td>\n",
       "      <td>4.611330e+02</td>\n",
       "      <td>3.066179e+03</td>\n",
       "      <td>3.124119e+03</td>\n",
       "      <td>5.673563e+01</td>\n",
       "    </tr>\n",
       "    <tr>\n",
       "      <th>std</th>\n",
       "      <td>1.295494e+08</td>\n",
       "      <td>2.437676e+03</td>\n",
       "      <td>1.944352e+02</td>\n",
       "      <td>2.269244e+03</td>\n",
       "      <td>9.926635e+01</td>\n",
       "    </tr>\n",
       "    <tr>\n",
       "      <th>min</th>\n",
       "      <td>4.001912e+06</td>\n",
       "      <td>1.000000e+00</td>\n",
       "      <td>3.000000e+03</td>\n",
       "      <td>3.000000e+03</td>\n",
       "      <td>0.000000e+00</td>\n",
       "    </tr>\n",
       "    <tr>\n",
       "      <th>25%</th>\n",
       "      <td>6.535494e+07</td>\n",
       "      <td>9.000000e+00</td>\n",
       "      <td>3.027000e+03</td>\n",
       "      <td>3.025000e+03</td>\n",
       "      <td>3.000000e+01</td>\n",
       "    </tr>\n",
       "    <tr>\n",
       "      <th>50%</th>\n",
       "      <td>2.342893e+08</td>\n",
       "      <td>1.900000e+01</td>\n",
       "      <td>3.053000e+03</td>\n",
       "      <td>3.052000e+03</td>\n",
       "      <td>3.000000e+01</td>\n",
       "    </tr>\n",
       "    <tr>\n",
       "      <th>75%</th>\n",
       "      <td>3.213802e+08</td>\n",
       "      <td>4.200000e+02</td>\n",
       "      <td>3.098000e+03</td>\n",
       "      <td>3.098000e+03</td>\n",
       "      <td>3.000000e+01</td>\n",
       "    </tr>\n",
       "    <tr>\n",
       "      <th>max</th>\n",
       "      <td>3.565667e+08</td>\n",
       "      <td>8.640000e+04</td>\n",
       "      <td>9.001800e+04</td>\n",
       "      <td>9.025500e+04</td>\n",
       "      <td>3.650000e+02</td>\n",
       "    </tr>\n",
       "  </tbody>\n",
       "</table>\n",
       "</div>"
      ],
      "text/plain": [
       "            trip_id      duration  start_station_id  end_station_id  \\\n",
       "count  3.864514e+06  3.864514e+06      3.864504e+06    3.864514e+06   \n",
       "mean   1.992145e+08  4.611330e+02      3.066179e+03    3.124119e+03   \n",
       "std    1.295494e+08  2.437676e+03      1.944352e+02    2.269244e+03   \n",
       "min    4.001912e+06  1.000000e+00      3.000000e+03    3.000000e+03   \n",
       "25%    6.535494e+07  9.000000e+00      3.027000e+03    3.025000e+03   \n",
       "50%    2.342893e+08  1.900000e+01      3.053000e+03    3.052000e+03   \n",
       "75%    3.213802e+08  4.200000e+02      3.098000e+03    3.098000e+03   \n",
       "max    3.565667e+08  8.640000e+04      9.001800e+04    9.025500e+04   \n",
       "\n",
       "       plan_duration  \n",
       "count   3.864507e+06  \n",
       "mean    5.673563e+01  \n",
       "std     9.926635e+01  \n",
       "min     0.000000e+00  \n",
       "25%     3.000000e+01  \n",
       "50%     3.000000e+01  \n",
       "75%     3.000000e+01  \n",
       "max     3.650000e+02  "
      ]
     },
     "execution_count": 22,
     "metadata": {},
     "output_type": "execute_result"
    }
   ],
   "source": [
    "df_all.describe()"
   ]
  },
  {
   "cell_type": "code",
   "execution_count": 23,
   "metadata": {},
   "outputs": [
    {
     "data": {
      "text/html": [
       "<div>\n",
       "<style scoped>\n",
       "    .dataframe tbody tr th:only-of-type {\n",
       "        vertical-align: middle;\n",
       "    }\n",
       "\n",
       "    .dataframe tbody tr th {\n",
       "        vertical-align: top;\n",
       "    }\n",
       "\n",
       "    .dataframe thead th {\n",
       "        text-align: right;\n",
       "    }\n",
       "</style>\n",
       "<table border=\"1\" class=\"dataframe\">\n",
       "  <thead>\n",
       "    <tr style=\"text-align: right;\">\n",
       "      <th></th>\n",
       "      <th>trip_id</th>\n",
       "      <th>duration</th>\n",
       "      <th>start_time</th>\n",
       "      <th>end_time</th>\n",
       "      <th>start_station_id</th>\n",
       "      <th>start_lat</th>\n",
       "      <th>start_lon</th>\n",
       "      <th>end_station_id</th>\n",
       "      <th>end_lat</th>\n",
       "      <th>end_lon</th>\n",
       "      <th>bike_id</th>\n",
       "      <th>plan_duration</th>\n",
       "      <th>trip_route_category</th>\n",
       "      <th>passholder_type</th>\n",
       "      <th>bike_type</th>\n",
       "    </tr>\n",
       "  </thead>\n",
       "  <tbody>\n",
       "    <tr>\n",
       "      <th>0</th>\n",
       "      <td>333803388</td>\n",
       "      <td>11</td>\n",
       "      <td>1/1/2020 0:13</td>\n",
       "      <td>1/1/2020 0:24</td>\n",
       "      <td>3049.0</td>\n",
       "      <td>39.9451</td>\n",
       "      <td>-75.1425</td>\n",
       "      <td>3072</td>\n",
       "      <td>39.9344</td>\n",
       "      <td>-75.1454</td>\n",
       "      <td>19794</td>\n",
       "      <td>30.0</td>\n",
       "      <td>One Way</td>\n",
       "      <td>Indego30</td>\n",
       "      <td>electric</td>\n",
       "    </tr>\n",
       "    <tr>\n",
       "      <th>1</th>\n",
       "      <td>333803387</td>\n",
       "      <td>28</td>\n",
       "      <td>1/1/2020 0:14</td>\n",
       "      <td>1/1/2020 0:42</td>\n",
       "      <td>3124.0</td>\n",
       "      <td>39.9536</td>\n",
       "      <td>-75.1395</td>\n",
       "      <td>3053</td>\n",
       "      <td>39.9323</td>\n",
       "      <td>-75.1815</td>\n",
       "      <td>19818</td>\n",
       "      <td>30.0</td>\n",
       "      <td>One Way</td>\n",
       "      <td>Indego30</td>\n",
       "      <td>electric</td>\n",
       "    </tr>\n",
       "  </tbody>\n",
       "</table>\n",
       "</div>"
      ],
      "text/plain": [
       "     trip_id  duration     start_time       end_time  start_station_id  \\\n",
       "0  333803388        11  1/1/2020 0:13  1/1/2020 0:24            3049.0   \n",
       "1  333803387        28  1/1/2020 0:14  1/1/2020 0:42            3124.0   \n",
       "\n",
       "  start_lat start_lon  end_station_id  end_lat  end_lon bike_id  \\\n",
       "0   39.9451  -75.1425            3072  39.9344 -75.1454   19794   \n",
       "1   39.9536  -75.1395            3053  39.9323 -75.1815   19818   \n",
       "\n",
       "   plan_duration trip_route_category passholder_type bike_type  \n",
       "0           30.0             One Way        Indego30  electric  \n",
       "1           30.0             One Way        Indego30  electric  "
      ]
     },
     "execution_count": 23,
     "metadata": {},
     "output_type": "execute_result"
    }
   ],
   "source": [
    "df_all.head(2)"
   ]
  },
  {
   "cell_type": "markdown",
   "metadata": {},
   "source": [
    "#### Solving bike_type problem"
   ]
  },
  {
   "cell_type": "code",
   "execution_count": 24,
   "metadata": {},
   "outputs": [
    {
     "data": {
      "text/html": [
       "<div>\n",
       "<style scoped>\n",
       "    .dataframe tbody tr th:only-of-type {\n",
       "        vertical-align: middle;\n",
       "    }\n",
       "\n",
       "    .dataframe tbody tr th {\n",
       "        vertical-align: top;\n",
       "    }\n",
       "\n",
       "    .dataframe thead th {\n",
       "        text-align: right;\n",
       "    }\n",
       "</style>\n",
       "<table border=\"1\" class=\"dataframe\">\n",
       "  <thead>\n",
       "    <tr style=\"text-align: right;\">\n",
       "      <th></th>\n",
       "      <th>bike_id</th>\n",
       "    </tr>\n",
       "    <tr>\n",
       "      <th>bike_type</th>\n",
       "      <th></th>\n",
       "    </tr>\n",
       "  </thead>\n",
       "  <tbody>\n",
       "    <tr>\n",
       "      <th>electric</th>\n",
       "      <td>670</td>\n",
       "    </tr>\n",
       "    <tr>\n",
       "      <th>standard</th>\n",
       "      <td>3528</td>\n",
       "    </tr>\n",
       "  </tbody>\n",
       "</table>\n",
       "</div>"
      ],
      "text/plain": [
       "           bike_id\n",
       "bike_type         \n",
       "electric       670\n",
       "standard      3528"
      ]
     },
     "execution_count": 24,
     "metadata": {},
     "output_type": "execute_result"
    }
   ],
   "source": [
    "df_all.groupby('bike_type')[['bike_id']].nunique()"
   ]
  },
  {
   "cell_type": "markdown",
   "metadata": {},
   "source": [
    "hmmm I thought they had a hell lot more bikes than this. Anyway, 3000 bikes for Philadelphia is within the reasonable range."
   ]
  },
  {
   "cell_type": "markdown",
   "metadata": {},
   "source": [
    "So we have a lot of missing data, which basically confims what we have seen previously. Is it possible that we can create a mapping dictionary to map bike_id to types for the whole dataframe?"
   ]
  },
  {
   "cell_type": "code",
   "execution_count": 25,
   "metadata": {},
   "outputs": [
    {
     "name": "stdout",
     "output_type": "stream",
     "text": [
      "all unique bike_ids: 4547 unique bike_ids with bike_type: 4197\n"
     ]
    }
   ],
   "source": [
    "print(\n",
    "    'all unique bike_ids:', df_all.bike_id.nunique(), \n",
    "    'unique bike_ids with bike_type:', df_all[~df_all.bike_type.isna()].bike_id.nunique()\n",
    ")"
   ]
  },
  {
   "cell_type": "markdown",
   "metadata": {},
   "source": [
    "It is around 80%. Seems to be okay to fill data. Will fill undefined as 'missing'"
   ]
  },
  {
   "cell_type": "code",
   "execution_count": 26,
   "metadata": {},
   "outputs": [],
   "source": [
    "df_bike_type = df_all[['bike_id', 'bike_type']].drop_duplicates()"
   ]
  },
  {
   "cell_type": "code",
   "execution_count": 27,
   "metadata": {},
   "outputs": [
    {
     "data": {
      "text/html": [
       "<div>\n",
       "<style scoped>\n",
       "    .dataframe tbody tr th:only-of-type {\n",
       "        vertical-align: middle;\n",
       "    }\n",
       "\n",
       "    .dataframe tbody tr th {\n",
       "        vertical-align: top;\n",
       "    }\n",
       "\n",
       "    .dataframe thead th {\n",
       "        text-align: right;\n",
       "    }\n",
       "</style>\n",
       "<table border=\"1\" class=\"dataframe\">\n",
       "  <thead>\n",
       "    <tr style=\"text-align: right;\">\n",
       "      <th></th>\n",
       "      <th>bike_id</th>\n",
       "      <th>bike_type</th>\n",
       "    </tr>\n",
       "  </thead>\n",
       "  <tbody>\n",
       "    <tr>\n",
       "      <th>count</th>\n",
       "      <td>6147</td>\n",
       "      <td>4198</td>\n",
       "    </tr>\n",
       "    <tr>\n",
       "      <th>unique</th>\n",
       "      <td>4547</td>\n",
       "      <td>2</td>\n",
       "    </tr>\n",
       "    <tr>\n",
       "      <th>top</th>\n",
       "      <td>11954</td>\n",
       "      <td>standard</td>\n",
       "    </tr>\n",
       "    <tr>\n",
       "      <th>freq</th>\n",
       "      <td>2</td>\n",
       "      <td>3528</td>\n",
       "    </tr>\n",
       "  </tbody>\n",
       "</table>\n",
       "</div>"
      ],
      "text/plain": [
       "        bike_id bike_type\n",
       "count      6147      4198\n",
       "unique     4547         2\n",
       "top       11954  standard\n",
       "freq          2      3528"
      ]
     },
     "execution_count": 27,
     "metadata": {},
     "output_type": "execute_result"
    }
   ],
   "source": [
    "df_bike_type.describe()"
   ]
  },
  {
   "cell_type": "code",
   "execution_count": 28,
   "metadata": {},
   "outputs": [
    {
     "data": {
      "text/html": [
       "<div>\n",
       "<style scoped>\n",
       "    .dataframe tbody tr th:only-of-type {\n",
       "        vertical-align: middle;\n",
       "    }\n",
       "\n",
       "    .dataframe tbody tr th {\n",
       "        vertical-align: top;\n",
       "    }\n",
       "\n",
       "    .dataframe thead th {\n",
       "        text-align: right;\n",
       "    }\n",
       "</style>\n",
       "<table border=\"1\" class=\"dataframe\">\n",
       "  <thead>\n",
       "    <tr style=\"text-align: right;\">\n",
       "      <th></th>\n",
       "      <th>bike_id</th>\n",
       "      <th>bike_type</th>\n",
       "    </tr>\n",
       "  </thead>\n",
       "  <tbody>\n",
       "    <tr>\n",
       "      <th>0</th>\n",
       "      <td>19794</td>\n",
       "      <td>electric</td>\n",
       "    </tr>\n",
       "    <tr>\n",
       "      <th>1</th>\n",
       "      <td>19818</td>\n",
       "      <td>electric</td>\n",
       "    </tr>\n",
       "  </tbody>\n",
       "</table>\n",
       "</div>"
      ],
      "text/plain": [
       "  bike_id bike_type\n",
       "0   19794  electric\n",
       "1   19818  electric"
      ]
     },
     "execution_count": 28,
     "metadata": {},
     "output_type": "execute_result"
    }
   ],
   "source": [
    "df_bike_type.head(2)"
   ]
  },
  {
   "cell_type": "code",
   "execution_count": 29,
   "metadata": {},
   "outputs": [
    {
     "data": {
      "text/html": [
       "<div>\n",
       "<style scoped>\n",
       "    .dataframe tbody tr th:only-of-type {\n",
       "        vertical-align: middle;\n",
       "    }\n",
       "\n",
       "    .dataframe tbody tr th {\n",
       "        vertical-align: top;\n",
       "    }\n",
       "\n",
       "    .dataframe thead th {\n",
       "        text-align: right;\n",
       "    }\n",
       "</style>\n",
       "<table border=\"1\" class=\"dataframe\">\n",
       "  <thead>\n",
       "    <tr style=\"text-align: right;\">\n",
       "      <th></th>\n",
       "      <th>bike_type</th>\n",
       "    </tr>\n",
       "    <tr>\n",
       "      <th>bike_id</th>\n",
       "      <th></th>\n",
       "    </tr>\n",
       "  </thead>\n",
       "  <tbody>\n",
       "    <tr>\n",
       "      <th>15067</th>\n",
       "      <td>2</td>\n",
       "    </tr>\n",
       "    <tr>\n",
       "      <th>03362</th>\n",
       "      <td>1</td>\n",
       "    </tr>\n",
       "  </tbody>\n",
       "</table>\n",
       "</div>"
      ],
      "text/plain": [
       "         bike_type\n",
       "bike_id           \n",
       "15067            2\n",
       "03362            1"
      ]
     },
     "execution_count": 29,
     "metadata": {},
     "output_type": "execute_result"
    }
   ],
   "source": [
    "df_bike_type.groupby('bike_id').count().sort_values(by = 'bike_type', ascending=False).head(2)"
   ]
  },
  {
   "cell_type": "code",
   "execution_count": 32,
   "metadata": {},
   "outputs": [],
   "source": [
    "# df_bike_type.drop('15067').groupby('bike_id').count().sort_values(by = 'bike_type', ascending=False).head(2)"
   ]
  },
  {
   "cell_type": "markdown",
   "metadata": {},
   "source": [
    "Make the mapping dataframe"
   ]
  },
  {
   "cell_type": "code",
   "execution_count": 33,
   "metadata": {},
   "outputs": [
    {
     "data": {
      "text/html": [
       "<div>\n",
       "<style scoped>\n",
       "    .dataframe tbody tr th:only-of-type {\n",
       "        vertical-align: middle;\n",
       "    }\n",
       "\n",
       "    .dataframe tbody tr th {\n",
       "        vertical-align: top;\n",
       "    }\n",
       "\n",
       "    .dataframe thead th {\n",
       "        text-align: right;\n",
       "    }\n",
       "</style>\n",
       "<table border=\"1\" class=\"dataframe\">\n",
       "  <thead>\n",
       "    <tr style=\"text-align: right;\">\n",
       "      <th></th>\n",
       "      <th>bike_type</th>\n",
       "    </tr>\n",
       "    <tr>\n",
       "      <th>bike_id</th>\n",
       "      <th></th>\n",
       "    </tr>\n",
       "  </thead>\n",
       "  <tbody>\n",
       "  </tbody>\n",
       "</table>\n",
       "</div>"
      ],
      "text/plain": [
       "Empty DataFrame\n",
       "Columns: [bike_type]\n",
       "Index: []"
      ]
     },
     "execution_count": 33,
     "metadata": {},
     "output_type": "execute_result"
    }
   ],
   "source": [
    "# Rerunning this requires the reconstruction of df_bike_type\n",
    "df_bike_type.set_index('bike_id', inplace=True)\n",
    "df_bike_type.drop('15067', inplace=True)\n",
    "df_bike_type[df_bike_type.index == '15067']"
   ]
  },
  {
   "cell_type": "code",
   "execution_count": 66,
   "metadata": {},
   "outputs": [],
   "source": [
    "df_bike_type.reset_index(inplace=True)\n",
    "df_all_bike_type_filled = pd.merge( df_all, df_bike_type, how='left', on='bike_id' )"
   ]
  },
  {
   "cell_type": "code",
   "execution_count": 67,
   "metadata": {},
   "outputs": [
    {
     "data": {
      "text/html": [
       "<div>\n",
       "<style scoped>\n",
       "    .dataframe tbody tr th:only-of-type {\n",
       "        vertical-align: middle;\n",
       "    }\n",
       "\n",
       "    .dataframe tbody tr th {\n",
       "        vertical-align: top;\n",
       "    }\n",
       "\n",
       "    .dataframe thead th {\n",
       "        text-align: right;\n",
       "    }\n",
       "</style>\n",
       "<table border=\"1\" class=\"dataframe\">\n",
       "  <thead>\n",
       "    <tr style=\"text-align: right;\">\n",
       "      <th></th>\n",
       "      <th>trip_id</th>\n",
       "      <th>duration</th>\n",
       "      <th>start_time</th>\n",
       "      <th>end_time</th>\n",
       "      <th>start_station_id</th>\n",
       "      <th>start_lat</th>\n",
       "      <th>start_lon</th>\n",
       "      <th>end_station_id</th>\n",
       "      <th>end_lat</th>\n",
       "      <th>end_lon</th>\n",
       "      <th>bike_id</th>\n",
       "      <th>plan_duration</th>\n",
       "      <th>trip_route_category</th>\n",
       "      <th>passholder_type</th>\n",
       "      <th>bike_type_x</th>\n",
       "      <th>index</th>\n",
       "      <th>bike_type_y</th>\n",
       "    </tr>\n",
       "  </thead>\n",
       "  <tbody>\n",
       "    <tr>\n",
       "      <th>5</th>\n",
       "      <td>333803384</td>\n",
       "      <td>21</td>\n",
       "      <td>1/1/2020 0:17</td>\n",
       "      <td>1/1/2020 0:38</td>\n",
       "      <td>3005.0</td>\n",
       "      <td>39.9473</td>\n",
       "      <td>-75.144</td>\n",
       "      <td>3018</td>\n",
       "      <td>39.9527</td>\n",
       "      <td>-75.1598</td>\n",
       "      <td>3423</td>\n",
       "      <td>30.0</td>\n",
       "      <td>One Way</td>\n",
       "      <td>Indego30</td>\n",
       "      <td>standard</td>\n",
       "      <td>4618.0</td>\n",
       "      <td>NaN</td>\n",
       "    </tr>\n",
       "    <tr>\n",
       "      <th>7</th>\n",
       "      <td>333803383</td>\n",
       "      <td>25</td>\n",
       "      <td>1/1/2020 0:18</td>\n",
       "      <td>1/1/2020 0:43</td>\n",
       "      <td>3124.0</td>\n",
       "      <td>39.9536</td>\n",
       "      <td>-75.1395</td>\n",
       "      <td>3052</td>\n",
       "      <td>39.9473</td>\n",
       "      <td>-75.157</td>\n",
       "      <td>3716</td>\n",
       "      <td>365.0</td>\n",
       "      <td>One Way</td>\n",
       "      <td>Indego365</td>\n",
       "      <td>standard</td>\n",
       "      <td>4890.0</td>\n",
       "      <td>NaN</td>\n",
       "    </tr>\n",
       "  </tbody>\n",
       "</table>\n",
       "</div>"
      ],
      "text/plain": [
       "     trip_id  duration     start_time       end_time  start_station_id  \\\n",
       "5  333803384        21  1/1/2020 0:17  1/1/2020 0:38            3005.0   \n",
       "7  333803383        25  1/1/2020 0:18  1/1/2020 0:43            3124.0   \n",
       "\n",
       "  start_lat start_lon  end_station_id  end_lat  end_lon bike_id  \\\n",
       "5   39.9473   -75.144            3018  39.9527 -75.1598    3423   \n",
       "7   39.9536  -75.1395            3052  39.9473  -75.157    3716   \n",
       "\n",
       "   plan_duration trip_route_category passholder_type bike_type_x   index  \\\n",
       "5           30.0             One Way        Indego30    standard  4618.0   \n",
       "7          365.0             One Way       Indego365    standard  4890.0   \n",
       "\n",
       "  bike_type_y  \n",
       "5         NaN  \n",
       "7         NaN  "
      ]
     },
     "execution_count": 67,
     "metadata": {},
     "output_type": "execute_result"
    }
   ],
   "source": [
    "df_all_bike_type_filled[df_all_bike_type_filled.bike_type_x != df_all_bike_type_filled.bike_type_y].head(2)"
   ]
  },
  {
   "cell_type": "code",
   "execution_count": 68,
   "metadata": {},
   "outputs": [
    {
     "data": {
      "text/html": [
       "<div>\n",
       "<style scoped>\n",
       "    .dataframe tbody tr th:only-of-type {\n",
       "        vertical-align: middle;\n",
       "    }\n",
       "\n",
       "    .dataframe tbody tr th {\n",
       "        vertical-align: top;\n",
       "    }\n",
       "\n",
       "    .dataframe thead th {\n",
       "        text-align: right;\n",
       "    }\n",
       "</style>\n",
       "<table border=\"1\" class=\"dataframe\">\n",
       "  <thead>\n",
       "    <tr style=\"text-align: right;\">\n",
       "      <th></th>\n",
       "      <th>bike_id</th>\n",
       "      <th>bike_type_x</th>\n",
       "      <th>bike_type_y</th>\n",
       "    </tr>\n",
       "  </thead>\n",
       "  <tbody>\n",
       "    <tr>\n",
       "      <th>count</th>\n",
       "      <td>6913514</td>\n",
       "      <td>6914424</td>\n",
       "      <td>3736912</td>\n",
       "    </tr>\n",
       "    <tr>\n",
       "      <th>unique</th>\n",
       "      <td>4547</td>\n",
       "      <td>2</td>\n",
       "      <td>2</td>\n",
       "    </tr>\n",
       "    <tr>\n",
       "      <th>top</th>\n",
       "      <td>2679</td>\n",
       "      <td>standard</td>\n",
       "      <td>standard</td>\n",
       "    </tr>\n",
       "    <tr>\n",
       "      <th>freq</th>\n",
       "      <td>7746</td>\n",
       "      <td>6681726</td>\n",
       "      <td>3504515</td>\n",
       "    </tr>\n",
       "  </tbody>\n",
       "</table>\n",
       "</div>"
      ],
      "text/plain": [
       "        bike_id bike_type_x bike_type_y\n",
       "count   6913514     6914424     3736912\n",
       "unique     4547           2           2\n",
       "top        2679    standard    standard\n",
       "freq       7746     6681726     3504515"
      ]
     },
     "execution_count": 68,
     "metadata": {},
     "output_type": "execute_result"
    }
   ],
   "source": [
    "df_all_bike_type_filled[ ['bike_id', 'bike_type_x', 'bike_type_y'] ].describe()"
   ]
  },
  {
   "cell_type": "markdown",
   "metadata": {},
   "source": [
    "**Need more work on this. Have to move on. Though maybe important but let's talk about none electric first. None electric seems to be all standard bikes**\n",
    "\n",
    "Indego introduced electric bikes in q3 of 2019. [Read in this blog post](https://www.rideindego.com/blog/indego-electric-is-back/). So it if safe to assume all bikes were standard bikes if it is not labelled as electric. **So we will fill in the NAs with standard for now.**"
   ]
  },
  {
   "cell_type": "code",
   "execution_count": 69,
   "metadata": {},
   "outputs": [],
   "source": [
    "df_all['bike_type'] = df_all.bike_type.fillna('standard')"
   ]
  },
  {
   "cell_type": "markdown",
   "metadata": {},
   "source": [
    "#### Do we have duplications of bike_ids?"
   ]
  },
  {
   "cell_type": "code",
   "execution_count": 70,
   "metadata": {},
   "outputs": [
    {
     "data": {
      "text/html": [
       "<div>\n",
       "<style scoped>\n",
       "    .dataframe tbody tr th:only-of-type {\n",
       "        vertical-align: middle;\n",
       "    }\n",
       "\n",
       "    .dataframe tbody tr th {\n",
       "        vertical-align: top;\n",
       "    }\n",
       "\n",
       "    .dataframe thead th {\n",
       "        text-align: right;\n",
       "    }\n",
       "</style>\n",
       "<table border=\"1\" class=\"dataframe\">\n",
       "  <thead>\n",
       "    <tr style=\"text-align: right;\">\n",
       "      <th></th>\n",
       "      <th>trip_id</th>\n",
       "    </tr>\n",
       "    <tr>\n",
       "      <th>trip_id</th>\n",
       "      <th></th>\n",
       "    </tr>\n",
       "  </thead>\n",
       "  <tbody>\n",
       "    <tr>\n",
       "      <th>4001912</th>\n",
       "      <td>1</td>\n",
       "    </tr>\n",
       "    <tr>\n",
       "      <th>4001916</th>\n",
       "      <td>1</td>\n",
       "    </tr>\n",
       "    <tr>\n",
       "      <th>4001918</th>\n",
       "      <td>1</td>\n",
       "    </tr>\n",
       "    <tr>\n",
       "      <th>4001938</th>\n",
       "      <td>1</td>\n",
       "    </tr>\n",
       "    <tr>\n",
       "      <th>4001955</th>\n",
       "      <td>1</td>\n",
       "    </tr>\n",
       "    <tr>\n",
       "      <th>...</th>\n",
       "      <td>...</td>\n",
       "    </tr>\n",
       "    <tr>\n",
       "      <th>356437765</th>\n",
       "      <td>1</td>\n",
       "    </tr>\n",
       "    <tr>\n",
       "      <th>356438541</th>\n",
       "      <td>1</td>\n",
       "    </tr>\n",
       "    <tr>\n",
       "      <th>356438809</th>\n",
       "      <td>1</td>\n",
       "    </tr>\n",
       "    <tr>\n",
       "      <th>356565976</th>\n",
       "      <td>1</td>\n",
       "    </tr>\n",
       "    <tr>\n",
       "      <th>356566659</th>\n",
       "      <td>1</td>\n",
       "    </tr>\n",
       "  </tbody>\n",
       "</table>\n",
       "<p>3864514 rows × 1 columns</p>\n",
       "</div>"
      ],
      "text/plain": [
       "           trip_id\n",
       "trip_id           \n",
       "4001912          1\n",
       "4001916          1\n",
       "4001918          1\n",
       "4001938          1\n",
       "4001955          1\n",
       "...            ...\n",
       "356437765        1\n",
       "356438541        1\n",
       "356438809        1\n",
       "356565976        1\n",
       "356566659        1\n",
       "\n",
       "[3864514 rows x 1 columns]"
      ]
     },
     "execution_count": 70,
     "metadata": {},
     "output_type": "execute_result"
    }
   ],
   "source": [
    "# Check for duplications\n",
    "df_all.groupby('trip_id')[['trip_id']].count()"
   ]
  },
  {
   "cell_type": "code",
   "execution_count": 71,
   "metadata": {},
   "outputs": [
    {
     "data": {
      "text/html": [
       "<div>\n",
       "<style scoped>\n",
       "    .dataframe tbody tr th:only-of-type {\n",
       "        vertical-align: middle;\n",
       "    }\n",
       "\n",
       "    .dataframe tbody tr th {\n",
       "        vertical-align: top;\n",
       "    }\n",
       "\n",
       "    .dataframe thead th {\n",
       "        text-align: right;\n",
       "    }\n",
       "</style>\n",
       "<table border=\"1\" class=\"dataframe\">\n",
       "  <thead>\n",
       "    <tr style=\"text-align: right;\">\n",
       "      <th></th>\n",
       "      <th>trips</th>\n",
       "    </tr>\n",
       "    <tr>\n",
       "      <th>trip_id</th>\n",
       "      <th></th>\n",
       "    </tr>\n",
       "  </thead>\n",
       "  <tbody>\n",
       "    <tr>\n",
       "      <th>4001912</th>\n",
       "      <td>1</td>\n",
       "    </tr>\n",
       "    <tr>\n",
       "      <th>309034819</th>\n",
       "      <td>1</td>\n",
       "    </tr>\n",
       "  </tbody>\n",
       "</table>\n",
       "</div>"
      ],
      "text/plain": [
       "           trips\n",
       "trip_id         \n",
       "4001912        1\n",
       "309034819      1"
      ]
     },
     "execution_count": 71,
     "metadata": {},
     "output_type": "execute_result"
    }
   ],
   "source": [
    "# Check for duplications\n",
    "df_all.groupby('trip_id').agg(\n",
    "    {\n",
    "        \"trip_id\": [\n",
    "            (\"trips\", \"count\")\n",
    "        ]\n",
    "    }\n",
    ").droplevel(0, axis=1).sort_values(by='trips', ascending=False).head(2)"
   ]
  },
  {
   "cell_type": "markdown",
   "metadata": {},
   "source": [
    "#### Understand passholder_type"
   ]
  },
  {
   "cell_type": "markdown",
   "metadata": {},
   "source": [
    "The name of the passholder’s plan"
   ]
  },
  {
   "cell_type": "code",
   "execution_count": 72,
   "metadata": {},
   "outputs": [
    {
     "data": {
      "text/html": [
       "<div>\n",
       "<style scoped>\n",
       "    .dataframe tbody tr th:only-of-type {\n",
       "        vertical-align: middle;\n",
       "    }\n",
       "\n",
       "    .dataframe tbody tr th {\n",
       "        vertical-align: top;\n",
       "    }\n",
       "\n",
       "    .dataframe thead th {\n",
       "        text-align: right;\n",
       "    }\n",
       "</style>\n",
       "<table border=\"1\" class=\"dataframe\">\n",
       "  <thead>\n",
       "    <tr style=\"text-align: right;\">\n",
       "      <th></th>\n",
       "      <th>trip_id</th>\n",
       "      <th>duration</th>\n",
       "      <th>start_time</th>\n",
       "      <th>end_time</th>\n",
       "      <th>start_station_id</th>\n",
       "      <th>start_lat</th>\n",
       "      <th>start_lon</th>\n",
       "      <th>end_station_id</th>\n",
       "      <th>end_lat</th>\n",
       "      <th>end_lon</th>\n",
       "      <th>bike_id</th>\n",
       "      <th>plan_duration</th>\n",
       "      <th>trip_route_category</th>\n",
       "      <th>bike_type</th>\n",
       "    </tr>\n",
       "    <tr>\n",
       "      <th>passholder_type</th>\n",
       "      <th></th>\n",
       "      <th></th>\n",
       "      <th></th>\n",
       "      <th></th>\n",
       "      <th></th>\n",
       "      <th></th>\n",
       "      <th></th>\n",
       "      <th></th>\n",
       "      <th></th>\n",
       "      <th></th>\n",
       "      <th></th>\n",
       "      <th></th>\n",
       "      <th></th>\n",
       "      <th></th>\n",
       "    </tr>\n",
       "  </thead>\n",
       "  <tbody>\n",
       "    <tr>\n",
       "      <th>Day Pass</th>\n",
       "      <td>251114</td>\n",
       "      <td>251114</td>\n",
       "      <td>251114</td>\n",
       "      <td>251114</td>\n",
       "      <td>251114</td>\n",
       "      <td>251074</td>\n",
       "      <td>251074</td>\n",
       "      <td>251114</td>\n",
       "      <td>246101</td>\n",
       "      <td>246101</td>\n",
       "      <td>251114</td>\n",
       "      <td>251114</td>\n",
       "      <td>251114</td>\n",
       "      <td>251114</td>\n",
       "    </tr>\n",
       "    <tr>\n",
       "      <th>Indego30</th>\n",
       "      <td>2926347</td>\n",
       "      <td>2926347</td>\n",
       "      <td>2926347</td>\n",
       "      <td>2926347</td>\n",
       "      <td>2926337</td>\n",
       "      <td>2925949</td>\n",
       "      <td>2925949</td>\n",
       "      <td>2926347</td>\n",
       "      <td>2901279</td>\n",
       "      <td>2901279</td>\n",
       "      <td>2925738</td>\n",
       "      <td>2926347</td>\n",
       "      <td>2926347</td>\n",
       "      <td>2926347</td>\n",
       "    </tr>\n",
       "    <tr>\n",
       "      <th>Indego365</th>\n",
       "      <td>329611</td>\n",
       "      <td>329611</td>\n",
       "      <td>329611</td>\n",
       "      <td>329611</td>\n",
       "      <td>329611</td>\n",
       "      <td>329445</td>\n",
       "      <td>329445</td>\n",
       "      <td>329611</td>\n",
       "      <td>325118</td>\n",
       "      <td>325118</td>\n",
       "      <td>329611</td>\n",
       "      <td>329611</td>\n",
       "      <td>329611</td>\n",
       "      <td>329611</td>\n",
       "    </tr>\n",
       "    <tr>\n",
       "      <th>IndegoFlex</th>\n",
       "      <td>29778</td>\n",
       "      <td>29778</td>\n",
       "      <td>29778</td>\n",
       "      <td>29778</td>\n",
       "      <td>29778</td>\n",
       "      <td>29777</td>\n",
       "      <td>29777</td>\n",
       "      <td>29778</td>\n",
       "      <td>29617</td>\n",
       "      <td>29617</td>\n",
       "      <td>29746</td>\n",
       "      <td>29778</td>\n",
       "      <td>29778</td>\n",
       "      <td>29778</td>\n",
       "    </tr>\n",
       "    <tr>\n",
       "      <th>One Day Pass</th>\n",
       "      <td>6767</td>\n",
       "      <td>6767</td>\n",
       "      <td>6767</td>\n",
       "      <td>6767</td>\n",
       "      <td>6767</td>\n",
       "      <td>6757</td>\n",
       "      <td>6757</td>\n",
       "      <td>6767</td>\n",
       "      <td>6677</td>\n",
       "      <td>6677</td>\n",
       "      <td>6767</td>\n",
       "      <td>6767</td>\n",
       "      <td>6767</td>\n",
       "      <td>6767</td>\n",
       "    </tr>\n",
       "    <tr>\n",
       "      <th>Two Day Pass</th>\n",
       "      <td>1603</td>\n",
       "      <td>1603</td>\n",
       "      <td>1603</td>\n",
       "      <td>1603</td>\n",
       "      <td>1603</td>\n",
       "      <td>1603</td>\n",
       "      <td>1603</td>\n",
       "      <td>1603</td>\n",
       "      <td>1594</td>\n",
       "      <td>1594</td>\n",
       "      <td>1603</td>\n",
       "      <td>1603</td>\n",
       "      <td>1603</td>\n",
       "      <td>1603</td>\n",
       "    </tr>\n",
       "    <tr>\n",
       "      <th>Walk-up</th>\n",
       "      <td>319259</td>\n",
       "      <td>319259</td>\n",
       "      <td>319259</td>\n",
       "      <td>319259</td>\n",
       "      <td>319259</td>\n",
       "      <td>319258</td>\n",
       "      <td>319258</td>\n",
       "      <td>319259</td>\n",
       "      <td>317186</td>\n",
       "      <td>317186</td>\n",
       "      <td>318990</td>\n",
       "      <td>319259</td>\n",
       "      <td>319259</td>\n",
       "      <td>319259</td>\n",
       "    </tr>\n",
       "  </tbody>\n",
       "</table>\n",
       "</div>"
      ],
      "text/plain": [
       "                 trip_id  duration  start_time  end_time  start_station_id  \\\n",
       "passholder_type                                                              \n",
       "Day Pass          251114    251114      251114    251114            251114   \n",
       "Indego30         2926347   2926347     2926347   2926347           2926337   \n",
       "Indego365         329611    329611      329611    329611            329611   \n",
       "IndegoFlex         29778     29778       29778     29778             29778   \n",
       "One Day Pass        6767      6767        6767      6767              6767   \n",
       "Two Day Pass        1603      1603        1603      1603              1603   \n",
       "Walk-up           319259    319259      319259    319259            319259   \n",
       "\n",
       "                 start_lat  start_lon  end_station_id  end_lat  end_lon  \\\n",
       "passholder_type                                                           \n",
       "Day Pass            251074     251074          251114   246101   246101   \n",
       "Indego30           2925949    2925949         2926347  2901279  2901279   \n",
       "Indego365           329445     329445          329611   325118   325118   \n",
       "IndegoFlex           29777      29777           29778    29617    29617   \n",
       "One Day Pass          6757       6757            6767     6677     6677   \n",
       "Two Day Pass          1603       1603            1603     1594     1594   \n",
       "Walk-up             319258     319258          319259   317186   317186   \n",
       "\n",
       "                 bike_id  plan_duration  trip_route_category  bike_type  \n",
       "passholder_type                                                          \n",
       "Day Pass          251114         251114               251114     251114  \n",
       "Indego30         2925738        2926347              2926347    2926347  \n",
       "Indego365         329611         329611               329611     329611  \n",
       "IndegoFlex         29746          29778                29778      29778  \n",
       "One Day Pass        6767           6767                 6767       6767  \n",
       "Two Day Pass        1603           1603                 1603       1603  \n",
       "Walk-up           318990         319259               319259     319259  "
      ]
     },
     "execution_count": 72,
     "metadata": {},
     "output_type": "execute_result"
    }
   ],
   "source": [
    "df_all.groupby('passholder_type').count()"
   ]
  },
  {
   "cell_type": "markdown",
   "metadata": {},
   "source": [
    "## We will need date, and time of day separately"
   ]
  },
  {
   "cell_type": "code",
   "execution_count": 107,
   "metadata": {},
   "outputs": [],
   "source": [
    "df_all['date'] = df_all.start_time.apply(lambda x: x.split(' ')[0] if x else None)"
   ]
  },
  {
   "cell_type": "code",
   "execution_count": 108,
   "metadata": {},
   "outputs": [
    {
     "name": "stdout",
     "output_type": "stream",
     "text": [
      "290 µs ± 12.6 µs per loop (mean ± std. dev. of 7 runs, 1000 loops each)\n"
     ]
    }
   ],
   "source": [
    "%%timeit\n",
    "pd.to_datetime(df_all.iloc[0].date)"
   ]
  },
  {
   "cell_type": "code",
   "execution_count": 80,
   "metadata": {},
   "outputs": [
    {
     "name": "stdout",
     "output_type": "stream",
     "text": [
      "279 µs ± 11.7 µs per loop (mean ± std. dev. of 7 runs, 1000 loops each)\n"
     ]
    }
   ],
   "source": [
    "%%timeit\n",
    "pd.to_datetime(df_all.iloc[0].date)"
   ]
  },
  {
   "cell_type": "code",
   "execution_count": 90,
   "metadata": {},
   "outputs": [
    {
     "data": {
      "text/plain": [
       "Timestamp('2015-07-09 00:00:00')"
      ]
     },
     "execution_count": 90,
     "metadata": {},
     "output_type": "execute_result"
    }
   ],
   "source": [
    "pd.to_datetime(\"2015-07-09\")"
   ]
  },
  {
   "cell_type": "code",
   "execution_count": 105,
   "metadata": {},
   "outputs": [
    {
     "data": {
      "text/plain": [
       "Timestamp('2018-07-19 00:00:00')"
      ]
     },
     "execution_count": 105,
     "metadata": {},
     "output_type": "execute_result"
    }
   ],
   "source": [
    "pd.to_datetime(\"19/07/2018\")"
   ]
  },
  {
   "cell_type": "code",
   "execution_count": 118,
   "metadata": {},
   "outputs": [],
   "source": [
    "df_all['date'] = pd.to_datetime(df_all.date)"
   ]
  },
  {
   "cell_type": "code",
   "execution_count": 119,
   "metadata": {},
   "outputs": [],
   "source": [
    "df_all['hour'] = df_all.start_time.apply(lambda x: int(float(x.split(' ')[-1].split(':')[0])) )"
   ]
  },
  {
   "cell_type": "markdown",
   "metadata": {},
   "source": [
    "## Duration <= 2017 Q1 are in seconds?"
   ]
  },
  {
   "cell_type": "code",
   "execution_count": 157,
   "metadata": {},
   "outputs": [
    {
     "data": {
      "text/plain": [
       "Timestamp('2017-04-01 00:00:00')"
      ]
     },
     "execution_count": 157,
     "metadata": {},
     "output_type": "execute_result"
    }
   ],
   "source": [
    "pd.to_datetime(\"2017-04-01\")"
   ]
  },
  {
   "cell_type": "code",
   "execution_count": 158,
   "metadata": {},
   "outputs": [],
   "source": [
    "df_all_before_2017q1 = df_all.loc[df_all.date < pd.to_datetime(\"2017-04-01\")]\n",
    "df_all_after_2017q1 = df_all.loc[df_all.date >= pd.to_datetime(\"2017-04-01\")]"
   ]
  },
  {
   "cell_type": "code",
   "execution_count": 159,
   "metadata": {},
   "outputs": [
    {
     "data": {
      "text/plain": [
       "12.0"
      ]
     },
     "execution_count": 159,
     "metadata": {},
     "output_type": "execute_result"
    }
   ],
   "source": [
    "df_all_before_2017q1.duration.median()/60"
   ]
  },
  {
   "cell_type": "code",
   "execution_count": 160,
   "metadata": {},
   "outputs": [
    {
     "data": {
      "text/plain": [
       "12.0"
      ]
     },
     "execution_count": 160,
     "metadata": {},
     "output_type": "execute_result"
    }
   ],
   "source": [
    "df_all_after_2017q1.duration.median()"
   ]
  },
  {
   "cell_type": "code",
   "execution_count": 161,
   "metadata": {},
   "outputs": [
    {
     "data": {
      "text/plain": [
       "<matplotlib.axes._subplots.AxesSubplot at 0x7fd9d6c8bfd0>"
      ]
     },
     "execution_count": 161,
     "metadata": {},
     "output_type": "execute_result"
    },
    {
     "data": {
      "image/png": "[encoded data removed]",
      "text/plain": [
       "<Figure size 432x288 with 1 Axes>"
      ]
     },
     "metadata": {
      "needs_background": "light"
     },
     "output_type": "display_data"
    }
   ],
   "source": [
    "df_all.loc[\n",
    "    (\n",
    "        df_all.duration < df_all.duration.quantile(0.9)\n",
    "    ) & (\n",
    "        df_all.date < pd.to_datetime(\"2017-04-01\")\n",
    "    )\n",
    "].duration.plot.hist(bins=100)"
   ]
  },
  {
   "cell_type": "code",
   "execution_count": 162,
   "metadata": {},
   "outputs": [
    {
     "data": {
      "text/plain": [
       "<matplotlib.axes._subplots.AxesSubplot at 0x7fd9d49b9e50>"
      ]
     },
     "execution_count": 162,
     "metadata": {},
     "output_type": "execute_result"
    },
    {
     "data": {
      "image/png": "[encoded data removed]",
      "text/plain": [
       "<Figure size 432x288 with 1 Axes>"
      ]
     },
     "metadata": {
      "needs_background": "light"
     },
     "output_type": "display_data"
    }
   ],
   "source": [
    "df_all.loc[\n",
    "    (\n",
    "        df_all.duration < df_all.duration.quantile(0.9)\n",
    "    ) & (\n",
    "        df_all.date > pd.to_datetime(\"2020-01-01\")\n",
    "    )\n",
    "].duration.plot.hist(bins=100)"
   ]
  },
  {
   "cell_type": "markdown",
   "metadata": {},
   "source": [
    "It is clear that the units are changed."
   ]
  },
  {
   "cell_type": "code",
   "execution_count": 168,
   "metadata": {},
   "outputs": [
    {
     "name": "stderr",
     "output_type": "stream",
     "text": [
      "/Users/leima/anaconda3/lib/python3.7/site-packages/ipykernel_launcher.py:1: SettingWithCopyWarning: \n",
      "A value is trying to be set on a copy of a slice from a DataFrame.\n",
      "Try using .loc[row_indexer,col_indexer] = value instead\n",
      "\n",
      "See the caveats in the documentation: https://pandas.pydata.org/pandas-docs/stable/user_guide/indexing.html#returning-a-view-versus-a-copy\n",
      "  \"\"\"Entry point for launching an IPython kernel.\n"
     ]
    }
   ],
   "source": [
    "df_all_before_2017q1['duration'] = df_all_before_2017q1.duration/60"
   ]
  },
  {
   "cell_type": "code",
   "execution_count": 169,
   "metadata": {},
   "outputs": [],
   "source": [
    "# df_all[\"duration\"] = \n",
    "# df_all.apply(lambda x: x.duration/60 if x.date < pd.to_datetime(\"2017-04-01\") else x.duration, axis=1)"
   ]
  },
  {
   "cell_type": "code",
   "execution_count": 170,
   "metadata": {},
   "outputs": [],
   "source": [
    "df_all_clean = pd.concat([df_all_before_2017q1, df_all_after_2017q1])"
   ]
  },
  {
   "cell_type": "code",
   "execution_count": 171,
   "metadata": {},
   "outputs": [
    {
     "data": {
      "text/plain": [
       "3864514"
      ]
     },
     "execution_count": 171,
     "metadata": {},
     "output_type": "execute_result"
    }
   ],
   "source": [
    "len(df_all_clean)"
   ]
  },
  {
   "cell_type": "code",
   "execution_count": 172,
   "metadata": {},
   "outputs": [
    {
     "data": {
      "text/plain": [
       "3864514"
      ]
     },
     "execution_count": 172,
     "metadata": {},
     "output_type": "execute_result"
    }
   ],
   "source": [
    "len(df_all)"
   ]
  },
  {
   "cell_type": "markdown",
   "metadata": {},
   "source": [
    "## Day of Week Matters"
   ]
  },
  {
   "cell_type": "code",
   "execution_count": 173,
   "metadata": {},
   "outputs": [],
   "source": [
    "df_all_clean['weekday'] = df_all_clean.date.apply(lambda x: x.weekday())"
   ]
  },
  {
   "cell_type": "code",
   "execution_count": 175,
   "metadata": {},
   "outputs": [
    {
     "data": {
      "text/plain": [
       "0"
      ]
     },
     "execution_count": 175,
     "metadata": {},
     "output_type": "execute_result"
    }
   ],
   "source": [
    "pd.to_datetime(\"2020-11-16\").weekday()"
   ]
  },
  {
   "cell_type": "markdown",
   "metadata": {},
   "source": [
    "## Month of Year Matters"
   ]
  },
  {
   "cell_type": "code",
   "execution_count": 238,
   "metadata": {},
   "outputs": [],
   "source": [
    "df_all_clean['month'] = df_all_clean.date.apply(lambda x: x.month)"
   ]
  },
  {
   "cell_type": "code",
   "execution_count": 239,
   "metadata": {},
   "outputs": [
    {
     "data": {
      "text/plain": [
       "array([ 7,  8,  9,  1,  2,  3, 10, 11, 12,  4,  5,  6])"
      ]
     },
     "execution_count": 239,
     "metadata": {},
     "output_type": "execute_result"
    }
   ],
   "source": [
    "df_all_clean['month'].unique()"
   ]
  },
  {
   "cell_type": "markdown",
   "metadata": {},
   "source": [
    "## Plan of duration"
   ]
  },
  {
   "cell_type": "code",
   "execution_count": 245,
   "metadata": {},
   "outputs": [
    {
     "data": {
      "text/plain": [
       "<matplotlib.axes._subplots.AxesSubplot at 0x11a0b2518>"
      ]
     },
     "execution_count": 245,
     "metadata": {},
     "output_type": "execute_result"
    },
    {
     "data": {
      "image/png": "[encoded data removed]",
      "text/plain": [
       "<Figure size 720x444.96 with 1 Axes>"
      ]
     },
     "metadata": {},
     "output_type": "display_data"
    }
   ],
   "source": [
    "fig, ax = plt.subplots(figsize=(10,6.18))\n",
    "df_all_clean[df_all_clean.date >= datetime.date(2017,1,1)].groupby('plan_duration')[['duration']].nunique().plot.bar(ax=ax)"
   ]
  },
  {
   "cell_type": "code",
   "execution_count": 247,
   "metadata": {},
   "outputs": [
    {
     "data": {
      "text/html": [
       "<div>\n",
       "<style scoped>\n",
       "    .dataframe tbody tr th:only-of-type {\n",
       "        vertical-align: middle;\n",
       "    }\n",
       "\n",
       "    .dataframe tbody tr th {\n",
       "        vertical-align: top;\n",
       "    }\n",
       "\n",
       "    .dataframe thead th {\n",
       "        text-align: right;\n",
       "    }\n",
       "</style>\n",
       "<table border=\"1\" class=\"dataframe\">\n",
       "  <thead>\n",
       "    <tr style=\"text-align: right;\">\n",
       "      <th></th>\n",
       "      <th>bike_id</th>\n",
       "      <th>bike_type</th>\n",
       "      <th>duration</th>\n",
       "      <th>end_lat</th>\n",
       "      <th>end_lon</th>\n",
       "      <th>end_station_id</th>\n",
       "      <th>end_time</th>\n",
       "      <th>passholder_type</th>\n",
       "      <th>plan_duration</th>\n",
       "      <th>start_lat</th>\n",
       "      <th>start_lon</th>\n",
       "      <th>start_station_id</th>\n",
       "      <th>start_time</th>\n",
       "      <th>trip_id</th>\n",
       "      <th>trip_route_category</th>\n",
       "      <th>date</th>\n",
       "      <th>hour</th>\n",
       "      <th>weekday</th>\n",
       "      <th>month</th>\n",
       "    </tr>\n",
       "  </thead>\n",
       "  <tbody>\n",
       "    <tr>\n",
       "      <th>98318</th>\n",
       "      <td>5206</td>\n",
       "      <td>standard</td>\n",
       "      <td>326.0</td>\n",
       "      <td>39.9505</td>\n",
       "      <td>-75.1729</td>\n",
       "      <td>3023</td>\n",
       "      <td>2017-08-03 15:16:00</td>\n",
       "      <td>Two Day Pass</td>\n",
       "      <td>2</td>\n",
       "      <td>39.9505</td>\n",
       "      <td>-75.1729</td>\n",
       "      <td>3023.0</td>\n",
       "      <td>2017-08-03 09:50:00</td>\n",
       "      <td>159949063</td>\n",
       "      <td>Round Trip</td>\n",
       "      <td>2017-08-03</td>\n",
       "      <td>9</td>\n",
       "      <td>3</td>\n",
       "      <td>8</td>\n",
       "    </tr>\n",
       "    <tr>\n",
       "      <th>98447</th>\n",
       "      <td>3666</td>\n",
       "      <td>standard</td>\n",
       "      <td>25.0</td>\n",
       "      <td>39.9646</td>\n",
       "      <td>-75.18</td>\n",
       "      <td>3057</td>\n",
       "      <td>2017-08-03 11:21:00</td>\n",
       "      <td>Two Day Pass</td>\n",
       "      <td>2</td>\n",
       "      <td>39.9614</td>\n",
       "      <td>-75.1524</td>\n",
       "      <td>3073.0</td>\n",
       "      <td>2017-08-03 10:56:00</td>\n",
       "      <td>159857055</td>\n",
       "      <td>One Way</td>\n",
       "      <td>2017-08-03</td>\n",
       "      <td>10</td>\n",
       "      <td>3</td>\n",
       "      <td>8</td>\n",
       "    </tr>\n",
       "    <tr>\n",
       "      <th>99041</th>\n",
       "      <td>11775</td>\n",
       "      <td>standard</td>\n",
       "      <td>40.0</td>\n",
       "      <td>39.943</td>\n",
       "      <td>-75.1596</td>\n",
       "      <td>3101</td>\n",
       "      <td>2017-08-03 16:04:00</td>\n",
       "      <td>Two Day Pass</td>\n",
       "      <td>2</td>\n",
       "      <td>39.9646</td>\n",
       "      <td>-75.18</td>\n",
       "      <td>3057.0</td>\n",
       "      <td>2017-08-03 15:24:00</td>\n",
       "      <td>159971668</td>\n",
       "      <td>One Way</td>\n",
       "      <td>2017-08-03</td>\n",
       "      <td>15</td>\n",
       "      <td>3</td>\n",
       "      <td>8</td>\n",
       "    </tr>\n",
       "    <tr>\n",
       "      <th>99055</th>\n",
       "      <td>3670</td>\n",
       "      <td>standard</td>\n",
       "      <td>18.0</td>\n",
       "      <td>39.9532</td>\n",
       "      <td>-75.1655</td>\n",
       "      <td>3108</td>\n",
       "      <td>2017-08-03 15:48:00</td>\n",
       "      <td>Two Day Pass</td>\n",
       "      <td>2</td>\n",
       "      <td>39.9501</td>\n",
       "      <td>-75.1447</td>\n",
       "      <td>3046.0</td>\n",
       "      <td>2017-08-03 15:30:00</td>\n",
       "      <td>159948179</td>\n",
       "      <td>One Way</td>\n",
       "      <td>2017-08-03</td>\n",
       "      <td>15</td>\n",
       "      <td>3</td>\n",
       "      <td>8</td>\n",
       "    </tr>\n",
       "    <tr>\n",
       "      <th>99060</th>\n",
       "      <td>2572</td>\n",
       "      <td>standard</td>\n",
       "      <td>17.0</td>\n",
       "      <td>39.9532</td>\n",
       "      <td>-75.1655</td>\n",
       "      <td>3108</td>\n",
       "      <td>2017-08-03 15:48:00</td>\n",
       "      <td>Two Day Pass</td>\n",
       "      <td>2</td>\n",
       "      <td>39.9501</td>\n",
       "      <td>-75.1447</td>\n",
       "      <td>3046.0</td>\n",
       "      <td>2017-08-03 15:31:00</td>\n",
       "      <td>159948176</td>\n",
       "      <td>One Way</td>\n",
       "      <td>2017-08-03</td>\n",
       "      <td>15</td>\n",
       "      <td>3</td>\n",
       "      <td>8</td>\n",
       "    </tr>\n",
       "  </tbody>\n",
       "</table>\n",
       "</div>"
      ],
      "text/plain": [
       "      bike_id bike_type  duration  end_lat  end_lon  end_station_id  \\\n",
       "98318    5206  standard     326.0  39.9505 -75.1729            3023   \n",
       "98447    3666  standard      25.0  39.9646   -75.18            3057   \n",
       "99041   11775  standard      40.0   39.943 -75.1596            3101   \n",
       "99055    3670  standard      18.0  39.9532 -75.1655            3108   \n",
       "99060    2572  standard      17.0  39.9532 -75.1655            3108   \n",
       "\n",
       "                  end_time passholder_type  plan_duration start_lat start_lon  \\\n",
       "98318  2017-08-03 15:16:00    Two Day Pass              2   39.9505  -75.1729   \n",
       "98447  2017-08-03 11:21:00    Two Day Pass              2   39.9614  -75.1524   \n",
       "99041  2017-08-03 16:04:00    Two Day Pass              2   39.9646    -75.18   \n",
       "99055  2017-08-03 15:48:00    Two Day Pass              2   39.9501  -75.1447   \n",
       "99060  2017-08-03 15:48:00    Two Day Pass              2   39.9501  -75.1447   \n",
       "\n",
       "       start_station_id           start_time    trip_id trip_route_category  \\\n",
       "98318            3023.0  2017-08-03 09:50:00  159949063          Round Trip   \n",
       "98447            3073.0  2017-08-03 10:56:00  159857055             One Way   \n",
       "99041            3057.0  2017-08-03 15:24:00  159971668             One Way   \n",
       "99055            3046.0  2017-08-03 15:30:00  159948179             One Way   \n",
       "99060            3046.0  2017-08-03 15:31:00  159948176             One Way   \n",
       "\n",
       "            date  hour  weekday  month  \n",
       "98318 2017-08-03     9        3      8  \n",
       "98447 2017-08-03    10        3      8  \n",
       "99041 2017-08-03    15        3      8  \n",
       "99055 2017-08-03    15        3      8  \n",
       "99060 2017-08-03    15        3      8  "
      ]
     },
     "execution_count": 247,
     "metadata": {},
     "output_type": "execute_result"
    }
   ],
   "source": [
    "df_all_clean[df_all_clean.plan_duration == 2].head()"
   ]
  },
  {
   "cell_type": "markdown",
   "metadata": {},
   "source": [
    "So there was two day pass"
   ]
  },
  {
   "cell_type": "markdown",
   "metadata": {},
   "source": [
    "## Standard Bikes"
   ]
  },
  {
   "cell_type": "code",
   "execution_count": 228,
   "metadata": {},
   "outputs": [],
   "source": [
    "#df_standard = df_all[~(df_all.bike_type=='electric')]\n",
    "df_standard = df_all_clean[(df_all_clean.bike_type=='standard')]"
   ]
  },
  {
   "cell_type": "code",
   "execution_count": 229,
   "metadata": {},
   "outputs": [
    {
     "data": {
      "text/html": [
       "<div>\n",
       "<style scoped>\n",
       "    .dataframe tbody tr th:only-of-type {\n",
       "        vertical-align: middle;\n",
       "    }\n",
       "\n",
       "    .dataframe tbody tr th {\n",
       "        vertical-align: top;\n",
       "    }\n",
       "\n",
       "    .dataframe thead th {\n",
       "        text-align: right;\n",
       "    }\n",
       "</style>\n",
       "<table border=\"1\" class=\"dataframe\">\n",
       "  <thead>\n",
       "    <tr style=\"text-align: right;\">\n",
       "      <th></th>\n",
       "      <th>duration</th>\n",
       "      <th>end_station_id</th>\n",
       "      <th>plan_duration</th>\n",
       "      <th>start_station_id</th>\n",
       "      <th>trip_id</th>\n",
       "      <th>hour</th>\n",
       "    </tr>\n",
       "  </thead>\n",
       "  <tbody>\n",
       "    <tr>\n",
       "      <th>count</th>\n",
       "      <td>2.637706e+06</td>\n",
       "      <td>2.637706e+06</td>\n",
       "      <td>2.637706e+06</td>\n",
       "      <td>2.637696e+06</td>\n",
       "      <td>2.637706e+06</td>\n",
       "      <td>2.637706e+06</td>\n",
       "    </tr>\n",
       "    <tr>\n",
       "      <th>mean</th>\n",
       "      <td>2.267345e+01</td>\n",
       "      <td>3.141290e+03</td>\n",
       "      <td>4.476082e+01</td>\n",
       "      <td>3.055904e+03</td>\n",
       "      <td>1.368817e+08</td>\n",
       "      <td>1.388234e+01</td>\n",
       "    </tr>\n",
       "    <tr>\n",
       "      <th>std</th>\n",
       "      <td>6.822291e+01</td>\n",
       "      <td>2.746232e+03</td>\n",
       "      <td>8.026433e+01</td>\n",
       "      <td>2.308623e+02</td>\n",
       "      <td>1.108039e+08</td>\n",
       "      <td>4.993990e+00</td>\n",
       "    </tr>\n",
       "    <tr>\n",
       "      <th>min</th>\n",
       "      <td>1.000000e+00</td>\n",
       "      <td>3.000000e+03</td>\n",
       "      <td>0.000000e+00</td>\n",
       "      <td>3.000000e+03</td>\n",
       "      <td>4.001912e+06</td>\n",
       "      <td>0.000000e+00</td>\n",
       "    </tr>\n",
       "    <tr>\n",
       "      <th>25%</th>\n",
       "      <td>8.000000e+00</td>\n",
       "      <td>3.023000e+03</td>\n",
       "      <td>3.000000e+01</td>\n",
       "      <td>3.023000e+03</td>\n",
       "      <td>4.810930e+06</td>\n",
       "      <td>1.000000e+01</td>\n",
       "    </tr>\n",
       "    <tr>\n",
       "      <th>50%</th>\n",
       "      <td>1.200000e+01</td>\n",
       "      <td>3.046000e+03</td>\n",
       "      <td>3.000000e+01</td>\n",
       "      <td>3.047000e+03</td>\n",
       "      <td>1.288614e+08</td>\n",
       "      <td>1.500000e+01</td>\n",
       "    </tr>\n",
       "    <tr>\n",
       "      <th>75%</th>\n",
       "      <td>1.900000e+01</td>\n",
       "      <td>3.070000e+03</td>\n",
       "      <td>3.000000e+01</td>\n",
       "      <td>3.070000e+03</td>\n",
       "      <td>2.426794e+08</td>\n",
       "      <td>1.800000e+01</td>\n",
       "    </tr>\n",
       "    <tr>\n",
       "      <th>max</th>\n",
       "      <td>1.440000e+03</td>\n",
       "      <td>9.025500e+04</td>\n",
       "      <td>3.650000e+02</td>\n",
       "      <td>9.001800e+04</td>\n",
       "      <td>3.133633e+08</td>\n",
       "      <td>2.300000e+01</td>\n",
       "    </tr>\n",
       "  </tbody>\n",
       "</table>\n",
       "</div>"
      ],
      "text/plain": [
       "           duration  end_station_id  plan_duration  start_station_id  \\\n",
       "count  2.637706e+06    2.637706e+06   2.637706e+06      2.637696e+06   \n",
       "mean   2.267345e+01    3.141290e+03   4.476082e+01      3.055904e+03   \n",
       "std    6.822291e+01    2.746232e+03   8.026433e+01      2.308623e+02   \n",
       "min    1.000000e+00    3.000000e+03   0.000000e+00      3.000000e+03   \n",
       "25%    8.000000e+00    3.023000e+03   3.000000e+01      3.023000e+03   \n",
       "50%    1.200000e+01    3.046000e+03   3.000000e+01      3.047000e+03   \n",
       "75%    1.900000e+01    3.070000e+03   3.000000e+01      3.070000e+03   \n",
       "max    1.440000e+03    9.025500e+04   3.650000e+02      9.001800e+04   \n",
       "\n",
       "            trip_id          hour  \n",
       "count  2.637706e+06  2.637706e+06  \n",
       "mean   1.368817e+08  1.388234e+01  \n",
       "std    1.108039e+08  4.993990e+00  \n",
       "min    4.001912e+06  0.000000e+00  \n",
       "25%    4.810930e+06  1.000000e+01  \n",
       "50%    1.288614e+08  1.500000e+01  \n",
       "75%    2.426794e+08  1.800000e+01  \n",
       "max    3.133633e+08  2.300000e+01  "
      ]
     },
     "execution_count": 229,
     "metadata": {},
     "output_type": "execute_result"
    }
   ],
   "source": [
    "df_standard.describe()"
   ]
  },
  {
   "cell_type": "code",
   "execution_count": 230,
   "metadata": {},
   "outputs": [
    {
     "data": {
      "text/html": [
       "<div>\n",
       "<style scoped>\n",
       "    .dataframe tbody tr th:only-of-type {\n",
       "        vertical-align: middle;\n",
       "    }\n",
       "\n",
       "    .dataframe tbody tr th {\n",
       "        vertical-align: top;\n",
       "    }\n",
       "\n",
       "    .dataframe thead th {\n",
       "        text-align: right;\n",
       "    }\n",
       "</style>\n",
       "<table border=\"1\" class=\"dataframe\">\n",
       "  <thead>\n",
       "    <tr style=\"text-align: right;\">\n",
       "      <th></th>\n",
       "      <th>bike_id</th>\n",
       "      <th>bike_type</th>\n",
       "      <th>duration</th>\n",
       "      <th>end_lat</th>\n",
       "      <th>end_lon</th>\n",
       "      <th>end_station_id</th>\n",
       "      <th>end_time</th>\n",
       "      <th>passholder_type</th>\n",
       "      <th>plan_duration</th>\n",
       "      <th>start_lat</th>\n",
       "      <th>start_lon</th>\n",
       "      <th>start_station_id</th>\n",
       "      <th>start_time</th>\n",
       "      <th>trip_id</th>\n",
       "      <th>trip_route_category</th>\n",
       "      <th>date</th>\n",
       "      <th>hour</th>\n",
       "    </tr>\n",
       "  </thead>\n",
       "  <tbody>\n",
       "    <tr>\n",
       "      <th>0</th>\n",
       "      <td>3640</td>\n",
       "      <td>standard</td>\n",
       "      <td>4.0</td>\n",
       "      <td>39.9384</td>\n",
       "      <td>-75.173271</td>\n",
       "      <td>3064</td>\n",
       "      <td>7/1/2016 0:11</td>\n",
       "      <td>Indego30</td>\n",
       "      <td>30</td>\n",
       "      <td>39.946331</td>\n",
       "      <td>-75.1698</td>\n",
       "      <td>3063.0</td>\n",
       "      <td>7/1/2016 0:07</td>\n",
       "      <td>25183529</td>\n",
       "      <td>One Way</td>\n",
       "      <td>2016-07-01</td>\n",
       "      <td>0</td>\n",
       "    </tr>\n",
       "    <tr>\n",
       "      <th>1</th>\n",
       "      <td>3349</td>\n",
       "      <td>standard</td>\n",
       "      <td>8.0</td>\n",
       "      <td>39.94138</td>\n",
       "      <td>-75.145638</td>\n",
       "      <td>3026</td>\n",
       "      <td>7/1/2016 0:18</td>\n",
       "      <td>Indego30</td>\n",
       "      <td>30</td>\n",
       "      <td>39.95295</td>\n",
       "      <td>-75.139793</td>\n",
       "      <td>3124.0</td>\n",
       "      <td>7/1/2016 0:10</td>\n",
       "      <td>25183528</td>\n",
       "      <td>One Way</td>\n",
       "      <td>2016-07-01</td>\n",
       "      <td>0</td>\n",
       "    </tr>\n",
       "    <tr>\n",
       "      <th>2</th>\n",
       "      <td>5279</td>\n",
       "      <td>standard</td>\n",
       "      <td>17.0</td>\n",
       "      <td>39.933151</td>\n",
       "      <td>-75.162483</td>\n",
       "      <td>3034</td>\n",
       "      <td>7/1/2016 0:28</td>\n",
       "      <td>Indego30</td>\n",
       "      <td>30</td>\n",
       "      <td>39.93082</td>\n",
       "      <td>-75.174744</td>\n",
       "      <td>3043.0</td>\n",
       "      <td>7/1/2016 0:11</td>\n",
       "      <td>25183527</td>\n",
       "      <td>One Way</td>\n",
       "      <td>2016-07-01</td>\n",
       "      <td>0</td>\n",
       "    </tr>\n",
       "    <tr>\n",
       "      <th>3</th>\n",
       "      <td>5198</td>\n",
       "      <td>standard</td>\n",
       "      <td>25.0</td>\n",
       "      <td>39.94138</td>\n",
       "      <td>-75.145638</td>\n",
       "      <td>3026</td>\n",
       "      <td>7/1/2016 0:38</td>\n",
       "      <td>Walk-up</td>\n",
       "      <td>0</td>\n",
       "      <td>39.94138</td>\n",
       "      <td>-75.145638</td>\n",
       "      <td>3026.0</td>\n",
       "      <td>7/1/2016 0:13</td>\n",
       "      <td>25183526</td>\n",
       "      <td>Round Trip</td>\n",
       "      <td>2016-07-01</td>\n",
       "      <td>0</td>\n",
       "    </tr>\n",
       "    <tr>\n",
       "      <th>4</th>\n",
       "      <td>3382</td>\n",
       "      <td>standard</td>\n",
       "      <td>45.0</td>\n",
       "      <td>39.947109</td>\n",
       "      <td>-75.166183</td>\n",
       "      <td>3010</td>\n",
       "      <td>7/1/2016 0:58</td>\n",
       "      <td>Walk-up</td>\n",
       "      <td>0</td>\n",
       "      <td>39.954239</td>\n",
       "      <td>-75.161377</td>\n",
       "      <td>3037.0</td>\n",
       "      <td>7/1/2016 0:13</td>\n",
       "      <td>25183525</td>\n",
       "      <td>One Way</td>\n",
       "      <td>2016-07-01</td>\n",
       "      <td>0</td>\n",
       "    </tr>\n",
       "  </tbody>\n",
       "</table>\n",
       "</div>"
      ],
      "text/plain": [
       "  bike_id bike_type  duration    end_lat     end_lon  end_station_id  \\\n",
       "0    3640  standard       4.0    39.9384  -75.173271            3064   \n",
       "1    3349  standard       8.0   39.94138  -75.145638            3026   \n",
       "2    5279  standard      17.0  39.933151  -75.162483            3034   \n",
       "3    5198  standard      25.0   39.94138  -75.145638            3026   \n",
       "4    3382  standard      45.0  39.947109  -75.166183            3010   \n",
       "\n",
       "        end_time passholder_type  plan_duration  start_lat   start_lon  \\\n",
       "0  7/1/2016 0:11        Indego30             30  39.946331    -75.1698   \n",
       "1  7/1/2016 0:18        Indego30             30   39.95295  -75.139793   \n",
       "2  7/1/2016 0:28        Indego30             30   39.93082  -75.174744   \n",
       "3  7/1/2016 0:38         Walk-up              0   39.94138  -75.145638   \n",
       "4  7/1/2016 0:58         Walk-up              0  39.954239  -75.161377   \n",
       "\n",
       "   start_station_id     start_time   trip_id trip_route_category       date  \\\n",
       "0            3063.0  7/1/2016 0:07  25183529             One Way 2016-07-01   \n",
       "1            3124.0  7/1/2016 0:10  25183528             One Way 2016-07-01   \n",
       "2            3043.0  7/1/2016 0:11  25183527             One Way 2016-07-01   \n",
       "3            3026.0  7/1/2016 0:13  25183526          Round Trip 2016-07-01   \n",
       "4            3037.0  7/1/2016 0:13  25183525             One Way 2016-07-01   \n",
       "\n",
       "   hour  \n",
       "0     0  \n",
       "1     0  \n",
       "2     0  \n",
       "3     0  \n",
       "4     0  "
      ]
     },
     "execution_count": 230,
     "metadata": {},
     "output_type": "execute_result"
    }
   ],
   "source": [
    "df_standard.head()"
   ]
  },
  {
   "cell_type": "code",
   "execution_count": 231,
   "metadata": {},
   "outputs": [],
   "source": [
    "df_standard.to_csv('/tmp/tmp.csv', index=False)"
   ]
  },
  {
   "cell_type": "code",
   "execution_count": null,
   "metadata": {},
   "outputs": [],
   "source": []
  }
 ],
 "metadata": {
  "kernelspec": {
   "display_name": "Python 3",
   "language": "python",
   "name": "python3"
  },
  "language_info": {
   "codemirror_mode": {
    "name": "ipython",
    "version": 3
   },
   "file_extension": ".py",
   "mimetype": "text/x-python",
   "name": "python",
   "nbconvert_exporter": "python",
   "pygments_lexer": "ipython3",
   "version": "3.7.6"
  }
 },
 "nbformat": 4,
 "nbformat_minor": 4
}
