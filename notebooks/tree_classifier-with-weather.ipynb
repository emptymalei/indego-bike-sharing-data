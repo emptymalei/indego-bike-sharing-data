{
 "cells": [
  {
   "cell_type": "markdown",
   "metadata": {},
   "source": [
    "# Tree-based classifier"
   ]
  },
  {
   "cell_type": "markdown",
   "metadata": {},
   "source": [
    "Include all possible dimensions and train a treebased classifier"
   ]
  },
  {
   "cell_type": "code",
   "execution_count": 1,
   "metadata": {},
   "outputs": [],
   "source": [
    "import pandas as pd"
   ]
  },
  {
   "cell_type": "code",
   "execution_count": 2,
   "metadata": {},
   "outputs": [],
   "source": [
    "from sklearn.model_selection import train_test_split, GridSearchCV\n",
    "from sklearn.pipeline import Pipeline\n",
    "from sklearn.preprocessing import StandardScaler, LabelEncoder\n",
    "from sklearn import metrics\n",
    "from sklearn import utils\n",
    "from sklearn.tree import DecisionTreeClassifier"
   ]
  },
  {
   "cell_type": "code",
   "execution_count": 4,
   "metadata": {},
   "outputs": [],
   "source": [
    "from sklearn.metrics import confusion_matrix\n",
    "from sklearn.metrics import classification_report\n",
    "from sklearn.tree import export_graphviz\n",
    "import graphviz\n"
   ]
  },
  {
   "cell_type": "markdown",
   "metadata": {},
   "source": [
    "## Load Data"
   ]
  },
  {
   "cell_type": "code",
   "execution_count": 5,
   "metadata": {},
   "outputs": [
    {
     "name": "stderr",
     "output_type": "stream",
     "text": [
      "/Users/leima/anaconda/envs/saloodo/lib/python3.7/site-packages/IPython/core/interactiveshell.py:3057: DtypeWarning: Columns (0,3,4,9,10) have mixed types. Specify dtype option on import or set low_memory=False.\n",
      "  interactivity=interactivity, compiler=compiler, result=result)\n"
     ]
    }
   ],
   "source": [
    "df = pd.read_csv('/Users/leima/data_store/rideindego_all.csv')\n",
    "df['date'] = pd.to_datetime(df.date)\n",
    "df_weather = pd.read_csv('data/philadelphia_weather.csv')[['date', 'hour', 'avg_temp', 'avg_humid', 'avg_wind_speed', 'avg_pressure']]\n",
    "df_weather['date'] = pd.to_datetime(df_weather.date)\n",
    "df = pd.merge(df, df_weather, how='left', left_on=['date', 'hour'], right_on=['date', 'hour'])"
   ]
  },
  {
   "cell_type": "code",
   "execution_count": 4,
   "metadata": {},
   "outputs": [],
   "source": [
    "df['date'] = pd.to_datetime(df.date)"
   ]
  },
  {
   "cell_type": "code",
   "execution_count": 6,
   "metadata": {},
   "outputs": [
    {
     "data": {
      "text/html": [
       "<div>\n",
       "<style scoped>\n",
       "    .dataframe tbody tr th:only-of-type {\n",
       "        vertical-align: middle;\n",
       "    }\n",
       "\n",
       "    .dataframe tbody tr th {\n",
       "        vertical-align: top;\n",
       "    }\n",
       "\n",
       "    .dataframe thead th {\n",
       "        text-align: right;\n",
       "    }\n",
       "</style>\n",
       "<table border=\"1\" class=\"dataframe\">\n",
       "  <thead>\n",
       "    <tr style=\"text-align: right;\">\n",
       "      <th></th>\n",
       "      <th>bike_id</th>\n",
       "      <th>bike_type</th>\n",
       "      <th>duration</th>\n",
       "      <th>end_lat</th>\n",
       "      <th>end_lon</th>\n",
       "      <th>end_station_id</th>\n",
       "      <th>end_time</th>\n",
       "      <th>passholder_type</th>\n",
       "      <th>plan_duration</th>\n",
       "      <th>start_lat</th>\n",
       "      <th>...</th>\n",
       "      <th>trip_id</th>\n",
       "      <th>trip_route_category</th>\n",
       "      <th>date</th>\n",
       "      <th>hour</th>\n",
       "      <th>weekday</th>\n",
       "      <th>month</th>\n",
       "      <th>avg_temp</th>\n",
       "      <th>avg_humid</th>\n",
       "      <th>avg_wind_speed</th>\n",
       "      <th>avg_pressure</th>\n",
       "    </tr>\n",
       "  </thead>\n",
       "  <tbody>\n",
       "    <tr>\n",
       "      <th>0</th>\n",
       "      <td>3640</td>\n",
       "      <td>standard</td>\n",
       "      <td>4.0</td>\n",
       "      <td>39.9384</td>\n",
       "      <td>-75.173271</td>\n",
       "      <td>3064</td>\n",
       "      <td>7/1/2016 0:11</td>\n",
       "      <td>Indego30</td>\n",
       "      <td>30</td>\n",
       "      <td>39.946331</td>\n",
       "      <td>...</td>\n",
       "      <td>25183529</td>\n",
       "      <td>One Way</td>\n",
       "      <td>2016-07-01</td>\n",
       "      <td>0</td>\n",
       "      <td>4</td>\n",
       "      <td>7</td>\n",
       "      <td>78.1</td>\n",
       "      <td>58.0</td>\n",
       "      <td>9.2</td>\n",
       "      <td>1016.6</td>\n",
       "    </tr>\n",
       "    <tr>\n",
       "      <th>1</th>\n",
       "      <td>3349</td>\n",
       "      <td>standard</td>\n",
       "      <td>8.0</td>\n",
       "      <td>39.94138</td>\n",
       "      <td>-75.145638</td>\n",
       "      <td>3026</td>\n",
       "      <td>7/1/2016 0:18</td>\n",
       "      <td>Indego30</td>\n",
       "      <td>30</td>\n",
       "      <td>39.95295</td>\n",
       "      <td>...</td>\n",
       "      <td>25183528</td>\n",
       "      <td>One Way</td>\n",
       "      <td>2016-07-01</td>\n",
       "      <td>0</td>\n",
       "      <td>4</td>\n",
       "      <td>7</td>\n",
       "      <td>78.1</td>\n",
       "      <td>58.0</td>\n",
       "      <td>9.2</td>\n",
       "      <td>1016.6</td>\n",
       "    </tr>\n",
       "    <tr>\n",
       "      <th>2</th>\n",
       "      <td>5279</td>\n",
       "      <td>standard</td>\n",
       "      <td>17.0</td>\n",
       "      <td>39.933151</td>\n",
       "      <td>-75.162483</td>\n",
       "      <td>3034</td>\n",
       "      <td>7/1/2016 0:28</td>\n",
       "      <td>Indego30</td>\n",
       "      <td>30</td>\n",
       "      <td>39.93082</td>\n",
       "      <td>...</td>\n",
       "      <td>25183527</td>\n",
       "      <td>One Way</td>\n",
       "      <td>2016-07-01</td>\n",
       "      <td>0</td>\n",
       "      <td>4</td>\n",
       "      <td>7</td>\n",
       "      <td>78.1</td>\n",
       "      <td>58.0</td>\n",
       "      <td>9.2</td>\n",
       "      <td>1016.6</td>\n",
       "    </tr>\n",
       "    <tr>\n",
       "      <th>3</th>\n",
       "      <td>5198</td>\n",
       "      <td>standard</td>\n",
       "      <td>25.0</td>\n",
       "      <td>39.94138</td>\n",
       "      <td>-75.145638</td>\n",
       "      <td>3026</td>\n",
       "      <td>7/1/2016 0:38</td>\n",
       "      <td>Walk-up</td>\n",
       "      <td>0</td>\n",
       "      <td>39.94138</td>\n",
       "      <td>...</td>\n",
       "      <td>25183526</td>\n",
       "      <td>Round Trip</td>\n",
       "      <td>2016-07-01</td>\n",
       "      <td>0</td>\n",
       "      <td>4</td>\n",
       "      <td>7</td>\n",
       "      <td>78.1</td>\n",
       "      <td>58.0</td>\n",
       "      <td>9.2</td>\n",
       "      <td>1016.6</td>\n",
       "    </tr>\n",
       "    <tr>\n",
       "      <th>4</th>\n",
       "      <td>3382</td>\n",
       "      <td>standard</td>\n",
       "      <td>45.0</td>\n",
       "      <td>39.947109</td>\n",
       "      <td>-75.166183</td>\n",
       "      <td>3010</td>\n",
       "      <td>7/1/2016 0:58</td>\n",
       "      <td>Walk-up</td>\n",
       "      <td>0</td>\n",
       "      <td>39.954239</td>\n",
       "      <td>...</td>\n",
       "      <td>25183525</td>\n",
       "      <td>One Way</td>\n",
       "      <td>2016-07-01</td>\n",
       "      <td>0</td>\n",
       "      <td>4</td>\n",
       "      <td>7</td>\n",
       "      <td>78.1</td>\n",
       "      <td>58.0</td>\n",
       "      <td>9.2</td>\n",
       "      <td>1016.6</td>\n",
       "    </tr>\n",
       "  </tbody>\n",
       "</table>\n",
       "<p>5 rows × 23 columns</p>\n",
       "</div>"
      ],
      "text/plain": [
       "  bike_id bike_type  duration    end_lat     end_lon  end_station_id  \\\n",
       "0    3640  standard       4.0    39.9384  -75.173271            3064   \n",
       "1    3349  standard       8.0   39.94138  -75.145638            3026   \n",
       "2    5279  standard      17.0  39.933151  -75.162483            3034   \n",
       "3    5198  standard      25.0   39.94138  -75.145638            3026   \n",
       "4    3382  standard      45.0  39.947109  -75.166183            3010   \n",
       "\n",
       "        end_time passholder_type  plan_duration  start_lat  ...   trip_id  \\\n",
       "0  7/1/2016 0:11        Indego30             30  39.946331  ...  25183529   \n",
       "1  7/1/2016 0:18        Indego30             30   39.95295  ...  25183528   \n",
       "2  7/1/2016 0:28        Indego30             30   39.93082  ...  25183527   \n",
       "3  7/1/2016 0:38         Walk-up              0   39.94138  ...  25183526   \n",
       "4  7/1/2016 0:58         Walk-up              0  39.954239  ...  25183525   \n",
       "\n",
       "   trip_route_category       date  hour weekday month  avg_temp  avg_humid  \\\n",
       "0              One Way 2016-07-01     0       4     7      78.1       58.0   \n",
       "1              One Way 2016-07-01     0       4     7      78.1       58.0   \n",
       "2              One Way 2016-07-01     0       4     7      78.1       58.0   \n",
       "3           Round Trip 2016-07-01     0       4     7      78.1       58.0   \n",
       "4              One Way 2016-07-01     0       4     7      78.1       58.0   \n",
       "\n",
       "   avg_wind_speed  avg_pressure  \n",
       "0             9.2        1016.6  \n",
       "1             9.2        1016.6  \n",
       "2             9.2        1016.6  \n",
       "3             9.2        1016.6  \n",
       "4             9.2        1016.6  \n",
       "\n",
       "[5 rows x 23 columns]"
      ]
     },
     "execution_count": 6,
     "metadata": {},
     "output_type": "execute_result"
    }
   ],
   "source": [
    "df.head()"
   ]
  },
  {
   "cell_type": "code",
   "execution_count": 7,
   "metadata": {},
   "outputs": [],
   "source": [
    "df['duration_original'] = df.duration"
   ]
  },
  {
   "cell_type": "code",
   "execution_count": 8,
   "metadata": {},
   "outputs": [],
   "source": [
    "df['duration'] = df.duration.apply(lambda x: int(x/5)*5 )"
   ]
  },
  {
   "cell_type": "code",
   "execution_count": 9,
   "metadata": {},
   "outputs": [
    {
     "data": {
      "text/html": [
       "<div>\n",
       "<style scoped>\n",
       "    .dataframe tbody tr th:only-of-type {\n",
       "        vertical-align: middle;\n",
       "    }\n",
       "\n",
       "    .dataframe tbody tr th {\n",
       "        vertical-align: top;\n",
       "    }\n",
       "\n",
       "    .dataframe thead th {\n",
       "        text-align: right;\n",
       "    }\n",
       "</style>\n",
       "<table border=\"1\" class=\"dataframe\">\n",
       "  <thead>\n",
       "    <tr style=\"text-align: right;\">\n",
       "      <th></th>\n",
       "      <th>bike_id</th>\n",
       "      <th>bike_type</th>\n",
       "      <th>duration</th>\n",
       "      <th>end_lat</th>\n",
       "      <th>end_lon</th>\n",
       "      <th>end_station_id</th>\n",
       "      <th>end_time</th>\n",
       "      <th>passholder_type</th>\n",
       "      <th>plan_duration</th>\n",
       "      <th>start_lat</th>\n",
       "      <th>...</th>\n",
       "      <th>trip_route_category</th>\n",
       "      <th>date</th>\n",
       "      <th>hour</th>\n",
       "      <th>weekday</th>\n",
       "      <th>month</th>\n",
       "      <th>avg_temp</th>\n",
       "      <th>avg_humid</th>\n",
       "      <th>avg_wind_speed</th>\n",
       "      <th>avg_pressure</th>\n",
       "      <th>duration_original</th>\n",
       "    </tr>\n",
       "  </thead>\n",
       "  <tbody>\n",
       "    <tr>\n",
       "      <th>0</th>\n",
       "      <td>3640</td>\n",
       "      <td>standard</td>\n",
       "      <td>0</td>\n",
       "      <td>39.9384</td>\n",
       "      <td>-75.173271</td>\n",
       "      <td>3064</td>\n",
       "      <td>7/1/2016 0:11</td>\n",
       "      <td>Indego30</td>\n",
       "      <td>30</td>\n",
       "      <td>39.946331</td>\n",
       "      <td>...</td>\n",
       "      <td>One Way</td>\n",
       "      <td>2016-07-01</td>\n",
       "      <td>0</td>\n",
       "      <td>4</td>\n",
       "      <td>7</td>\n",
       "      <td>78.1</td>\n",
       "      <td>58.0</td>\n",
       "      <td>9.2</td>\n",
       "      <td>1016.6</td>\n",
       "      <td>4.0</td>\n",
       "    </tr>\n",
       "    <tr>\n",
       "      <th>1</th>\n",
       "      <td>3349</td>\n",
       "      <td>standard</td>\n",
       "      <td>5</td>\n",
       "      <td>39.94138</td>\n",
       "      <td>-75.145638</td>\n",
       "      <td>3026</td>\n",
       "      <td>7/1/2016 0:18</td>\n",
       "      <td>Indego30</td>\n",
       "      <td>30</td>\n",
       "      <td>39.95295</td>\n",
       "      <td>...</td>\n",
       "      <td>One Way</td>\n",
       "      <td>2016-07-01</td>\n",
       "      <td>0</td>\n",
       "      <td>4</td>\n",
       "      <td>7</td>\n",
       "      <td>78.1</td>\n",
       "      <td>58.0</td>\n",
       "      <td>9.2</td>\n",
       "      <td>1016.6</td>\n",
       "      <td>8.0</td>\n",
       "    </tr>\n",
       "    <tr>\n",
       "      <th>2</th>\n",
       "      <td>5279</td>\n",
       "      <td>standard</td>\n",
       "      <td>15</td>\n",
       "      <td>39.933151</td>\n",
       "      <td>-75.162483</td>\n",
       "      <td>3034</td>\n",
       "      <td>7/1/2016 0:28</td>\n",
       "      <td>Indego30</td>\n",
       "      <td>30</td>\n",
       "      <td>39.93082</td>\n",
       "      <td>...</td>\n",
       "      <td>One Way</td>\n",
       "      <td>2016-07-01</td>\n",
       "      <td>0</td>\n",
       "      <td>4</td>\n",
       "      <td>7</td>\n",
       "      <td>78.1</td>\n",
       "      <td>58.0</td>\n",
       "      <td>9.2</td>\n",
       "      <td>1016.6</td>\n",
       "      <td>17.0</td>\n",
       "    </tr>\n",
       "    <tr>\n",
       "      <th>3</th>\n",
       "      <td>5198</td>\n",
       "      <td>standard</td>\n",
       "      <td>25</td>\n",
       "      <td>39.94138</td>\n",
       "      <td>-75.145638</td>\n",
       "      <td>3026</td>\n",
       "      <td>7/1/2016 0:38</td>\n",
       "      <td>Walk-up</td>\n",
       "      <td>0</td>\n",
       "      <td>39.94138</td>\n",
       "      <td>...</td>\n",
       "      <td>Round Trip</td>\n",
       "      <td>2016-07-01</td>\n",
       "      <td>0</td>\n",
       "      <td>4</td>\n",
       "      <td>7</td>\n",
       "      <td>78.1</td>\n",
       "      <td>58.0</td>\n",
       "      <td>9.2</td>\n",
       "      <td>1016.6</td>\n",
       "      <td>25.0</td>\n",
       "    </tr>\n",
       "    <tr>\n",
       "      <th>4</th>\n",
       "      <td>3382</td>\n",
       "      <td>standard</td>\n",
       "      <td>45</td>\n",
       "      <td>39.947109</td>\n",
       "      <td>-75.166183</td>\n",
       "      <td>3010</td>\n",
       "      <td>7/1/2016 0:58</td>\n",
       "      <td>Walk-up</td>\n",
       "      <td>0</td>\n",
       "      <td>39.954239</td>\n",
       "      <td>...</td>\n",
       "      <td>One Way</td>\n",
       "      <td>2016-07-01</td>\n",
       "      <td>0</td>\n",
       "      <td>4</td>\n",
       "      <td>7</td>\n",
       "      <td>78.1</td>\n",
       "      <td>58.0</td>\n",
       "      <td>9.2</td>\n",
       "      <td>1016.6</td>\n",
       "      <td>45.0</td>\n",
       "    </tr>\n",
       "  </tbody>\n",
       "</table>\n",
       "<p>5 rows × 24 columns</p>\n",
       "</div>"
      ],
      "text/plain": [
       "  bike_id bike_type  duration    end_lat     end_lon  end_station_id  \\\n",
       "0    3640  standard         0    39.9384  -75.173271            3064   \n",
       "1    3349  standard         5   39.94138  -75.145638            3026   \n",
       "2    5279  standard        15  39.933151  -75.162483            3034   \n",
       "3    5198  standard        25   39.94138  -75.145638            3026   \n",
       "4    3382  standard        45  39.947109  -75.166183            3010   \n",
       "\n",
       "        end_time passholder_type  plan_duration  start_lat  ...  \\\n",
       "0  7/1/2016 0:11        Indego30             30  39.946331  ...   \n",
       "1  7/1/2016 0:18        Indego30             30   39.95295  ...   \n",
       "2  7/1/2016 0:28        Indego30             30   39.93082  ...   \n",
       "3  7/1/2016 0:38         Walk-up              0   39.94138  ...   \n",
       "4  7/1/2016 0:58         Walk-up              0  39.954239  ...   \n",
       "\n",
       "  trip_route_category       date hour  weekday month avg_temp  avg_humid  \\\n",
       "0             One Way 2016-07-01    0        4     7     78.1       58.0   \n",
       "1             One Way 2016-07-01    0        4     7     78.1       58.0   \n",
       "2             One Way 2016-07-01    0        4     7     78.1       58.0   \n",
       "3          Round Trip 2016-07-01    0        4     7     78.1       58.0   \n",
       "4             One Way 2016-07-01    0        4     7     78.1       58.0   \n",
       "\n",
       "   avg_wind_speed  avg_pressure  duration_original  \n",
       "0             9.2        1016.6                4.0  \n",
       "1             9.2        1016.6                8.0  \n",
       "2             9.2        1016.6               17.0  \n",
       "3             9.2        1016.6               25.0  \n",
       "4             9.2        1016.6               45.0  \n",
       "\n",
       "[5 rows x 24 columns]"
      ]
     },
     "execution_count": 9,
     "metadata": {},
     "output_type": "execute_result"
    }
   ],
   "source": [
    "df.head()"
   ]
  },
  {
   "cell_type": "code",
   "execution_count": 10,
   "metadata": {},
   "outputs": [],
   "source": [
    "df = df[df.bike_type == 'standard']\n",
    "coi = [\n",
    "    'plan_duration', \n",
    "    'trip_route_category', 'hour', 'weekday', 'month', 'avg_temp', 'avg_wind_speed', 'avg_pressure'\n",
    "]\n",
    "#avg_humid is correlated to the hour of the day\n",
    "cot = ['duration']\n",
    "df = df[coi+cot]\n",
    "df.dropna(inplace=True)"
   ]
  },
  {
   "cell_type": "code",
   "execution_count": 11,
   "metadata": {},
   "outputs": [
    {
     "data": {
      "text/html": [
       "<div>\n",
       "<style scoped>\n",
       "    .dataframe tbody tr th:only-of-type {\n",
       "        vertical-align: middle;\n",
       "    }\n",
       "\n",
       "    .dataframe tbody tr th {\n",
       "        vertical-align: top;\n",
       "    }\n",
       "\n",
       "    .dataframe thead th {\n",
       "        text-align: right;\n",
       "    }\n",
       "</style>\n",
       "<table border=\"1\" class=\"dataframe\">\n",
       "  <thead>\n",
       "    <tr style=\"text-align: right;\">\n",
       "      <th></th>\n",
       "      <th>plan_duration</th>\n",
       "      <th>trip_route_category</th>\n",
       "      <th>hour</th>\n",
       "      <th>weekday</th>\n",
       "      <th>month</th>\n",
       "      <th>avg_temp</th>\n",
       "      <th>avg_wind_speed</th>\n",
       "      <th>avg_pressure</th>\n",
       "      <th>duration</th>\n",
       "    </tr>\n",
       "  </thead>\n",
       "  <tbody>\n",
       "    <tr>\n",
       "      <th>0</th>\n",
       "      <td>30</td>\n",
       "      <td>One Way</td>\n",
       "      <td>0</td>\n",
       "      <td>4</td>\n",
       "      <td>7</td>\n",
       "      <td>78.1</td>\n",
       "      <td>9.2</td>\n",
       "      <td>1016.6</td>\n",
       "      <td>0</td>\n",
       "    </tr>\n",
       "    <tr>\n",
       "      <th>1</th>\n",
       "      <td>30</td>\n",
       "      <td>One Way</td>\n",
       "      <td>0</td>\n",
       "      <td>4</td>\n",
       "      <td>7</td>\n",
       "      <td>78.1</td>\n",
       "      <td>9.2</td>\n",
       "      <td>1016.6</td>\n",
       "      <td>5</td>\n",
       "    </tr>\n",
       "    <tr>\n",
       "      <th>2</th>\n",
       "      <td>30</td>\n",
       "      <td>One Way</td>\n",
       "      <td>0</td>\n",
       "      <td>4</td>\n",
       "      <td>7</td>\n",
       "      <td>78.1</td>\n",
       "      <td>9.2</td>\n",
       "      <td>1016.6</td>\n",
       "      <td>15</td>\n",
       "    </tr>\n",
       "    <tr>\n",
       "      <th>3</th>\n",
       "      <td>0</td>\n",
       "      <td>Round Trip</td>\n",
       "      <td>0</td>\n",
       "      <td>4</td>\n",
       "      <td>7</td>\n",
       "      <td>78.1</td>\n",
       "      <td>9.2</td>\n",
       "      <td>1016.6</td>\n",
       "      <td>25</td>\n",
       "    </tr>\n",
       "    <tr>\n",
       "      <th>4</th>\n",
       "      <td>0</td>\n",
       "      <td>One Way</td>\n",
       "      <td>0</td>\n",
       "      <td>4</td>\n",
       "      <td>7</td>\n",
       "      <td>78.1</td>\n",
       "      <td>9.2</td>\n",
       "      <td>1016.6</td>\n",
       "      <td>45</td>\n",
       "    </tr>\n",
       "  </tbody>\n",
       "</table>\n",
       "</div>"
      ],
      "text/plain": [
       "   plan_duration trip_route_category  hour  weekday  month  avg_temp  \\\n",
       "0             30             One Way     0        4      7      78.1   \n",
       "1             30             One Way     0        4      7      78.1   \n",
       "2             30             One Way     0        4      7      78.1   \n",
       "3              0          Round Trip     0        4      7      78.1   \n",
       "4              0             One Way     0        4      7      78.1   \n",
       "\n",
       "   avg_wind_speed  avg_pressure  duration  \n",
       "0             9.2        1016.6         0  \n",
       "1             9.2        1016.6         5  \n",
       "2             9.2        1016.6        15  \n",
       "3             9.2        1016.6        25  \n",
       "4             9.2        1016.6        45  "
      ]
     },
     "execution_count": 11,
     "metadata": {},
     "output_type": "execute_result"
    }
   ],
   "source": [
    "df.head()"
   ]
  },
  {
   "cell_type": "code",
   "execution_count": 12,
   "metadata": {},
   "outputs": [
    {
     "name": "stdout",
     "output_type": "stream",
     "text": [
      "plan_duration :  False\n",
      "trip_route_category :  False\n",
      "hour :  False\n",
      "weekday :  False\n",
      "month :  False\n",
      "avg_temp :  False\n",
      "avg_wind_speed :  False\n",
      "avg_pressure :  False\n",
      "duration :  False\n"
     ]
    }
   ],
   "source": [
    "for i in df.columns:\n",
    "    print(\n",
    "        i, ': ',\n",
    "        df[i].isnull().any()\n",
    "    )"
   ]
  },
  {
   "cell_type": "code",
   "execution_count": 13,
   "metadata": {},
   "outputs": [],
   "source": [
    "scaler = StandardScaler()"
   ]
  },
  {
   "cell_type": "code",
   "execution_count": 15,
   "metadata": {},
   "outputs": [],
   "source": [
    "X = df[coi]\n",
    "y = df[cot]\n",
    "\n",
    "X_train, X_test, y_train, y_test = train_test_split(\n",
    "    X, y,\n",
    "    test_size=0.3, random_state=42\n",
    "    #,stratify=Y\n",
    ")"
   ]
  },
  {
   "cell_type": "code",
   "execution_count": 16,
   "metadata": {},
   "outputs": [],
   "source": [
    "class MultiColumnLabelEncoder:\n",
    "    def __init__(self, encoders = None, columns = None):\n",
    "        self.columns = columns # array of column names to encode\n",
    "        if encoders:\n",
    "            self.encoders = encoders\n",
    "        else:\n",
    "            self.encoders = {}\n",
    "\n",
    "    def fit(self,X,y=None):\n",
    "        self.check_encoders = []\n",
    "        return self # not relevant here\n",
    "\n",
    "    def transform(self, X):\n",
    "        '''\n",
    "        Transforms columns of X specified in self.columns using\n",
    "        LabelEncoder(). If no columns specified, transforms all\n",
    "        columns in X.\n",
    "        '''\n",
    "        output = X.copy()\n",
    "        if self.columns is not None:\n",
    "            for col in self.columns:\n",
    "                _le = LabelEncoder()\n",
    "                if self.encoders.get(col):\n",
    "                    output[col] = self.encoders.get(col).transform(output[col])\n",
    "                else:\n",
    "                    output[col] = _le.fit_transform(output[col])\n",
    "                    print(f'1. preparing encoder for {col}')\n",
    "                    self.encoders[col] = _le\n",
    "                    self.check_encoders.append({col: _le})\n",
    "        else:\n",
    "            for colname,col in output.iteritems():\n",
    "                _le = LabelEncoder()\n",
    "                if self.encoders.get(col):\n",
    "                    output[colname] = self.encoders.get(col).transform(col)\n",
    "                else:\n",
    "                    output[colname] = _le.fit_transform(col)\n",
    "                    print(f'2. preparing encoder for {col}')\n",
    "                    self.encoders[col] = _le\n",
    "                    self.check_encoders.append({col: _le})\n",
    "        return output\n",
    "\n",
    "    def fit_transform(self,X,y=None):\n",
    "        return self.fit(X,y).transform(X)"
   ]
  },
  {
   "cell_type": "code",
   "execution_count": 17,
   "metadata": {},
   "outputs": [
    {
     "name": "stdout",
     "output_type": "stream",
     "text": [
      "1. preparing encoder for plan_duration\n",
      "1. preparing encoder for trip_route_category\n",
      "1. preparing encoder for hour\n",
      "1. preparing encoder for weekday\n",
      "1. preparing encoder for month\n",
      "1. preparing encoder for avg_temp\n",
      "1. preparing encoder for avg_wind_speed\n",
      "1. preparing encoder for avg_pressure\n",
      "1. preparing encoder for duration\n"
     ]
    }
   ],
   "source": [
    "encoders_obj = MultiColumnLabelEncoder(columns=coi+['duration'])\n",
    "encoders_obj.fit_transform(df)\n",
    "dt_encoders = encoders_obj.encoders"
   ]
  },
  {
   "cell_type": "code",
   "execution_count": 18,
   "metadata": {},
   "outputs": [
    {
     "data": {
      "text/plain": [
       "['plan_duration',\n",
       " 'trip_route_category',\n",
       " 'hour',\n",
       " 'weekday',\n",
       " 'month',\n",
       " 'avg_temp',\n",
       " 'avg_wind_speed',\n",
       " 'avg_pressure']"
      ]
     },
     "execution_count": 18,
     "metadata": {},
     "output_type": "execute_result"
    }
   ],
   "source": [
    "coi"
   ]
  },
  {
   "cell_type": "code",
   "execution_count": 19,
   "metadata": {},
   "outputs": [],
   "source": [
    "dt_classifier = GridSearchCV(\n",
    "    DecisionTreeClassifier(random_state=42), cv=3, \n",
    "    param_grid={\"max_depth\": [1,2,3,4,5,6,7,8]}\n",
    ")\n",
    "\n",
    "pipeline_steps = [\n",
    "    ('encoding', MultiColumnLabelEncoder(columns=coi, encoders=dt_encoders)),\n",
    "    ('dt_classifier', dt_classifier)\n",
    "    # add more pipeline steps as needed\n",
    "]"
   ]
  },
  {
   "cell_type": "code",
   "execution_count": 20,
   "metadata": {},
   "outputs": [],
   "source": [
    "model = Pipeline(pipeline_steps)"
   ]
  },
  {
   "cell_type": "code",
   "execution_count": 31,
   "metadata": {},
   "outputs": [
    {
     "data": {
      "text/plain": [
       "Pipeline(memory=None,\n",
       "         steps=[('encoding',\n",
       "                 <__main__.MultiColumnLabelEncoder object at 0x1a27621550>),\n",
       "                ('dt_classifier',\n",
       "                 GridSearchCV(cv=3, error_score='raise-deprecating',\n",
       "                              estimator=DecisionTreeClassifier(class_weight=None,\n",
       "                                                               criterion='gini',\n",
       "                                                               max_depth=None,\n",
       "                                                               max_features=None,\n",
       "                                                               max_leaf_nodes=None,\n",
       "                                                               min_impurity_decrease=0.0,\n",
       "                                                               min_impurity_split=None,\n",
       "                                                               min_samples_leaf=1,\n",
       "                                                               min_samples_split=2,\n",
       "                                                               min_weight_fraction_leaf=0.0,\n",
       "                                                               presort=False,\n",
       "                                                               random_state=42,\n",
       "                                                               splitter='best'),\n",
       "                              iid='warn', n_jobs=None,\n",
       "                              param_grid={'max_depth': [1, 2, 3, 4, 5, 6, 7,\n",
       "                                                        8]},\n",
       "                              pre_dispatch='2*n_jobs', refit=True,\n",
       "                              return_train_score=False, scoring=None,\n",
       "                              verbose=0))],\n",
       "         verbose=False)"
      ]
     },
     "execution_count": 31,
     "metadata": {},
     "output_type": "execute_result"
    }
   ],
   "source": [
    "model.fit(X_train, y_train)"
   ]
  },
  {
   "cell_type": "code",
   "execution_count": 32,
   "metadata": {},
   "outputs": [
    {
     "data": {
      "text/plain": [
       "0.3242"
      ]
     },
     "execution_count": 32,
     "metadata": {},
     "output_type": "execute_result"
    }
   ],
   "source": [
    "model.score(X_test[:20000], y_test[:20000])"
   ]
  },
  {
   "cell_type": "code",
   "execution_count": 33,
   "metadata": {},
   "outputs": [
    {
     "data": {
      "text/plain": [
       "0.32158081103011454"
      ]
     },
     "execution_count": 33,
     "metadata": {},
     "output_type": "execute_result"
    }
   ],
   "source": [
    "model.score(X_train, y_train)"
   ]
  },
  {
   "cell_type": "code",
   "execution_count": 34,
   "metadata": {},
   "outputs": [
    {
     "name": "stdout",
     "output_type": "stream",
     "text": [
      "plan_duration\n",
      "trip_route_category\n",
      "hour\n",
      "weekday\n",
      "month\n",
      "avg_temp\n",
      "avg_wind_speed\n",
      "avg_pressure\n"
     ]
    }
   ],
   "source": [
    "X_train_transformed = pd.DataFrame()\n",
    "for col in X_train.columns:\n",
    "    X_train_transformed[col] = dt_encoders.get(col).transform(X_train[col].values)\n",
    "    print(col)"
   ]
  },
  {
   "cell_type": "code",
   "execution_count": 35,
   "metadata": {},
   "outputs": [
    {
     "name": "stdout",
     "output_type": "stream",
     "text": [
      "duration\n"
     ]
    }
   ],
   "source": [
    "model.named_steps"
   ]
  },
  {
   "cell_type": "code",
   "execution_count": 36,
   "metadata": {},
   "outputs": [
    {
     "name": "stderr",
     "output_type": "stream",
     "text": [
      "/Users/leima/anaconda/envs/saloodo/lib/python3.7/site-packages/sklearn/metrics/classification.py:1437: UndefinedMetricWarning: Precision and F-score are ill-defined and being set to 0.0 in labels with no predicted samples.\n",
      "  'precision', 'predicted', average, warn_for)\n"
     ]
    },
    {
     "name": "stdout",
     "output_type": "stream",
     "text": [
      "              precision    recall  f1-score   support\n",
      "\n",
      "           0       0.30      0.26      0.27     62092\n",
      "           5       0.35      0.94      0.51    232066\n",
      "          10       0.21      0.06      0.09    191682\n",
      "          15       0.16      0.07      0.09    104679\n",
      "          20       0.10      0.00      0.00     57605\n",
      "          25       0.12      0.02      0.03     33666\n",
      "          30       0.10      0.00      0.01     20255\n",
      "          35       0.00      0.00      0.00     13516\n",
      "          40       0.00      0.00      0.00      9882\n",
      "          45       0.00      0.00      0.00      8183\n",
      "          50       0.00      0.00      0.00      7466\n",
      "          55       0.00      0.00      0.00      6034\n",
      "          60       0.00      0.00      0.00      4112\n",
      "          65       0.00      0.00      0.00      3023\n",
      "          70       0.00      0.00      0.00      2477\n",
      "          75       0.00      0.00      0.00      2233\n",
      "          80       0.00      0.00      0.00      1953\n",
      "          85       0.00      0.00      0.00      1771\n",
      "          90       0.00      0.00      0.00      1429\n",
      "          95       0.00      0.00      0.00      1322\n",
      "         100       0.00      0.00      0.00      1131\n",
      "         105       0.00      0.00      0.00       988\n",
      "         110       0.00      0.00      0.00       947\n",
      "         115       0.00      0.00      0.00       793\n",
      "         120       0.00      0.00      0.00       660\n",
      "         125       0.00      0.00      0.00       610\n",
      "         130       0.00      0.00      0.00       575\n",
      "         135       0.00      0.00      0.00       505\n",
      "         140       0.00      0.00      0.00       468\n",
      "         145       0.00      0.00      0.00       379\n",
      "         150       0.00      0.00      0.00       354\n",
      "         155       0.00      0.00      0.00       367\n",
      "         160       0.00      0.00      0.00       329\n",
      "         165       0.00      0.00      0.00       276\n",
      "         170       0.00      0.00      0.00       286\n",
      "         175       0.00      0.00      0.00       280\n",
      "         180       0.00      0.00      0.00       786\n",
      "         185       0.00      0.00      0.00       529\n",
      "         190       0.00      0.00      0.00       399\n",
      "         195       0.00      0.00      0.00       357\n",
      "         200       0.00      0.00      0.00       231\n",
      "         205       0.00      0.00      0.00       224\n",
      "         210       0.00      0.00      0.00       181\n",
      "         215       0.00      0.00      0.00       178\n",
      "         220       0.00      0.00      0.00       175\n",
      "         225       0.00      0.00      0.00       147\n",
      "         230       0.00      0.00      0.00       121\n",
      "         235       0.00      0.00      0.00       134\n",
      "         240       0.00      0.00      0.00       147\n",
      "         245       0.00      0.00      0.00       127\n",
      "         250       0.00      0.00      0.00       123\n",
      "         255       0.00      0.00      0.00       107\n",
      "         260       0.00      0.00      0.00        97\n",
      "         265       0.00      0.00      0.00        80\n",
      "         270       0.00      0.00      0.00        77\n",
      "         275       0.00      0.00      0.00        97\n",
      "         280       0.00      0.00      0.00        79\n",
      "         285       0.00      0.00      0.00        81\n",
      "         290       0.00      0.00      0.00        60\n",
      "         295       0.00      0.00      0.00        64\n",
      "         300       0.00      0.00      0.00        73\n",
      "         305       0.00      0.00      0.00        81\n",
      "         310       0.00      0.00      0.00        62\n",
      "         315       0.00      0.00      0.00        53\n",
      "         320       0.00      0.00      0.00        42\n",
      "         325       0.00      0.00      0.00        55\n",
      "         330       0.00      0.00      0.00        45\n",
      "         335       0.00      0.00      0.00        49\n",
      "         340       0.00      0.00      0.00        53\n",
      "         345       0.00      0.00      0.00        52\n",
      "         350       0.00      0.00      0.00        45\n",
      "         355       0.00      0.00      0.00        44\n",
      "         360       0.00      0.00      0.00        42\n",
      "         365       0.00      0.00      0.00        45\n",
      "         370       0.00      0.00      0.00        51\n",
      "         375       0.00      0.00      0.00        38\n",
      "         380       0.00      0.00      0.00        40\n",
      "         385       0.00      0.00      0.00        43\n",
      "         390       0.00      0.00      0.00        34\n",
      "         395       0.00      0.00      0.00        41\n",
      "         400       0.00      0.00      0.00        37\n",
      "         405       0.00      0.00      0.00        38\n",
      "         410       0.00      0.00      0.00        28\n",
      "         415       0.00      0.00      0.00        39\n",
      "         420       0.00      0.00      0.00        48\n",
      "         425       0.00      0.00      0.00        36\n",
      "         430       0.00      0.00      0.00        38\n",
      "         435       0.00      0.00      0.00        40\n",
      "         440       0.00      0.00      0.00        32\n",
      "         445       0.00      0.00      0.00        34\n",
      "         450       0.00      0.00      0.00        27\n",
      "         455       0.00      0.00      0.00        30\n",
      "         460       0.00      0.00      0.00        39\n",
      "         465       0.00      0.00      0.00        33\n",
      "         470       0.00      0.00      0.00        38\n",
      "         475       0.00      0.00      0.00        35\n",
      "         480       0.00      0.00      0.00        34\n",
      "         485       0.00      0.00      0.00        43\n",
      "         490       0.00      0.00      0.00        33\n",
      "         495       0.00      0.00      0.00        36\n",
      "         500       0.00      0.00      0.00        21\n",
      "         505       0.00      0.00      0.00        36\n",
      "         510       0.00      0.00      0.00        28\n",
      "         515       0.00      0.00      0.00        33\n",
      "         520       0.00      0.00      0.00        25\n",
      "         525       0.00      0.00      0.00        29\n",
      "         530       0.00      0.00      0.00        29\n",
      "         535       0.00      0.00      0.00        35\n",
      "         540       0.00      0.00      0.00        30\n",
      "         545       0.00      0.00      0.00        29\n",
      "         550       0.00      0.00      0.00        35\n",
      "         555       0.00      0.00      0.00        25\n",
      "         560       0.00      0.00      0.00        30\n",
      "         565       0.00      0.00      0.00        27\n",
      "         570       0.00      0.00      0.00        26\n",
      "         575       0.00      0.00      0.00        21\n",
      "         580       0.00      0.00      0.00        30\n",
      "         585       0.00      0.00      0.00        25\n",
      "         590       0.00      0.00      0.00        31\n",
      "         595       0.00      0.00      0.00        23\n",
      "         600       0.00      0.00      0.00        27\n",
      "         605       0.00      0.00      0.00        20\n",
      "         610       0.00      0.00      0.00        19\n",
      "         615       0.00      0.00      0.00        26\n",
      "         620       0.00      0.00      0.00        23\n",
      "         625       0.00      0.00      0.00        22\n",
      "         630       0.00      0.00      0.00        31\n",
      "         635       0.00      0.00      0.00        27\n",
      "         640       0.00      0.00      0.00        22\n",
      "         645       0.00      0.00      0.00        14\n",
      "         650       0.00      0.00      0.00        27\n",
      "         655       0.00      0.00      0.00        20\n",
      "         660       0.00      0.00      0.00        15\n",
      "         665       0.00      0.00      0.00        20\n",
      "         670       0.00      0.00      0.00        15\n",
      "         675       0.00      0.00      0.00        21\n",
      "         680       0.00      0.00      0.00        17\n",
      "         685       0.00      0.00      0.00        21\n",
      "         690       0.00      0.00      0.00        22\n",
      "         695       0.00      0.00      0.00        17\n",
      "         700       0.00      0.00      0.00        21\n",
      "         705       0.00      0.00      0.00        16\n",
      "         710       0.00      0.00      0.00        19\n",
      "         715       0.00      0.00      0.00        20\n",
      "         720       0.00      0.00      0.00        21\n",
      "         725       0.00      0.00      0.00        17\n",
      "         730       0.00      0.00      0.00        17\n",
      "         735       0.00      0.00      0.00        11\n",
      "         740       0.00      0.00      0.00        30\n",
      "         745       0.00      0.00      0.00        20\n",
      "         750       0.00      0.00      0.00        17\n",
      "         755       0.00      0.00      0.00        19\n",
      "         760       0.00      0.00      0.00        19\n",
      "         765       0.00      0.00      0.00        19\n",
      "         770       0.00      0.00      0.00        25\n",
      "         775       0.00      0.00      0.00        26\n",
      "         780       0.00      0.00      0.00        12\n",
      "         785       0.00      0.00      0.00        23\n",
      "         790       0.00      0.00      0.00        20\n",
      "         795       0.00      0.00      0.00        15\n",
      "         800       0.00      0.00      0.00        18\n",
      "         805       0.00      0.00      0.00        13\n",
      "         810       0.00      0.00      0.00        19\n",
      "         815       0.00      0.00      0.00        11\n",
      "         820       0.00      0.00      0.00        12\n",
      "         825       0.00      0.00      0.00        12\n",
      "         830       0.00      0.00      0.00        15\n",
      "         835       0.00      0.00      0.00        20\n",
      "         840       0.00      0.00      0.00        18\n",
      "         845       0.00      0.00      0.00        12\n",
      "         850       0.00      0.00      0.00        17\n",
      "         855       0.00      0.00      0.00        18\n",
      "         860       0.00      0.00      0.00        11\n",
      "         865       0.00      0.00      0.00        10\n",
      "         870       0.00      0.00      0.00        10\n",
      "         875       0.00      0.00      0.00        14\n",
      "         880       0.00      0.00      0.00         9\n",
      "         885       0.00      0.00      0.00        15\n",
      "         890       0.00      0.00      0.00        18\n",
      "         895       0.00      0.00      0.00        12\n",
      "         900       0.00      0.00      0.00         9\n",
      "         905       0.00      0.00      0.00        15\n",
      "         910       0.00      0.00      0.00        13\n",
      "         915       0.00      0.00      0.00         9\n",
      "         920       0.00      0.00      0.00        11\n",
      "         925       0.00      0.00      0.00        14\n",
      "         930       0.00      0.00      0.00        12\n",
      "         935       0.00      0.00      0.00        15\n",
      "         940       0.00      0.00      0.00        13\n",
      "         945       0.00      0.00      0.00        13\n",
      "         950       0.00      0.00      0.00        16\n",
      "         955       0.00      0.00      0.00        10\n",
      "         960       0.00      0.00      0.00        16\n",
      "         965       0.00      0.00      0.00        17\n",
      "         970       0.00      0.00      0.00         7\n",
      "         975       0.00      0.00      0.00        12\n",
      "         980       0.00      0.00      0.00        10\n",
      "         985       0.00      0.00      0.00        13\n",
      "         990       0.00      0.00      0.00        13\n",
      "         995       0.00      0.00      0.00         7\n",
      "        1000       0.00      0.00      0.00        14\n",
      "        1005       0.00      0.00      0.00         8\n",
      "        1010       0.00      0.00      0.00        11\n",
      "        1015       0.00      0.00      0.00         6\n",
      "        1020       0.00      0.00      0.00         7\n",
      "        1025       0.00      0.00      0.00         7\n",
      "        1030       0.00      0.00      0.00        12\n",
      "        1035       0.00      0.00      0.00        10\n",
      "        1040       0.00      0.00      0.00         7\n",
      "        1045       0.00      0.00      0.00         8\n",
      "        1050       0.00      0.00      0.00         8\n",
      "        1055       0.00      0.00      0.00        12\n",
      "        1060       0.00      0.00      0.00         7\n",
      "        1065       0.00      0.00      0.00         7\n",
      "        1070       0.00      0.00      0.00         9\n",
      "        1075       0.00      0.00      0.00         5\n",
      "        1080       0.00      0.00      0.00        13\n",
      "        1085       0.00      0.00      0.00        11\n",
      "        1090       0.00      0.00      0.00         9\n",
      "        1095       0.00      0.00      0.00         6\n",
      "        1100       0.00      0.00      0.00         9\n",
      "        1105       0.00      0.00      0.00         8\n",
      "        1110       0.00      0.00      0.00         6\n",
      "        1115       0.00      0.00      0.00         6\n",
      "        1120       0.00      0.00      0.00        12\n",
      "        1125       0.00      0.00      0.00         6\n",
      "        1130       0.00      0.00      0.00         7\n",
      "        1135       0.00      0.00      0.00         9\n",
      "        1140       0.00      0.00      0.00         5\n",
      "        1145       0.00      0.00      0.00         8\n",
      "        1150       0.00      0.00      0.00         7\n",
      "        1155       0.00      0.00      0.00         9\n",
      "        1160       0.00      0.00      0.00         5\n",
      "        1165       0.00      0.00      0.00        11\n",
      "        1170       0.00      0.00      0.00         6\n",
      "        1175       0.00      0.00      0.00        10\n",
      "        1180       0.00      0.00      0.00         9\n",
      "        1185       0.00      0.00      0.00         7\n",
      "        1190       0.00      0.00      0.00         8\n",
      "        1195       0.00      0.00      0.00        10\n",
      "        1200       0.00      0.00      0.00         9\n",
      "        1205       0.00      0.00      0.00         5\n",
      "        1210       0.00      0.00      0.00         5\n",
      "        1215       0.00      0.00      0.00         8\n",
      "        1220       0.00      0.00      0.00         6\n",
      "        1225       0.00      0.00      0.00         3\n",
      "        1230       0.00      0.00      0.00         5\n",
      "        1235       0.00      0.00      0.00         7\n",
      "        1240       0.00      0.00      0.00         7\n",
      "        1245       0.00      0.00      0.00        10\n",
      "        1250       0.00      0.00      0.00         6\n",
      "        1255       0.00      0.00      0.00         5\n",
      "        1260       0.00      0.00      0.00         3\n",
      "        1265       0.00      0.00      0.00         9\n",
      "        1270       0.00      0.00      0.00         6\n",
      "        1275       0.00      0.00      0.00        11\n",
      "        1280       0.00      0.00      0.00         9\n",
      "        1285       0.00      0.00      0.00         3\n",
      "        1290       0.00      0.00      0.00         4\n",
      "        1295       0.00      0.00      0.00         8\n",
      "        1300       0.00      0.00      0.00         9\n",
      "        1305       0.00      0.00      0.00         4\n",
      "        1310       0.00      0.00      0.00         7\n",
      "        1315       0.00      0.00      0.00         9\n",
      "        1320       0.00      0.00      0.00         6\n",
      "        1325       0.00      0.00      0.00         3\n",
      "        1330       0.00      0.00      0.00         3\n",
      "        1335       0.00      0.00      0.00         4\n",
      "        1340       0.00      0.00      0.00         9\n",
      "        1345       0.00      0.00      0.00         6\n",
      "        1350       0.00      0.00      0.00         4\n",
      "        1355       0.00      0.00      0.00         4\n",
      "        1360       0.00      0.00      0.00        10\n",
      "        1365       0.00      0.00      0.00         5\n",
      "        1370       0.00      0.00      0.00         7\n",
      "        1375       0.00      0.00      0.00         6\n",
      "        1380       0.00      0.00      0.00         3\n",
      "        1385       0.00      0.00      0.00         4\n",
      "        1390       0.00      0.00      0.00         7\n",
      "        1395       0.00      0.00      0.00         6\n",
      "        1400       0.00      0.00      0.00         3\n",
      "        1405       0.00      0.00      0.00         4\n",
      "        1410       0.00      0.00      0.00         1\n",
      "        1415       0.00      0.00      0.00         4\n",
      "        1420       0.00      0.00      0.00         7\n",
      "        1425       0.00      0.00      0.00         4\n",
      "        1430       0.00      0.00      0.00         6\n",
      "        1435       0.00      0.00      0.00         5\n",
      "        1440       0.00      0.00      0.00       583\n",
      "\n",
      "    accuracy                           0.32    783808\n",
      "   macro avg       0.00      0.00      0.00    783808\n",
      "weighted avg       0.21      0.32      0.21    783808\n",
      "\n"
     ]
    }
   ],
   "source": [
    "print(\n",
    "    classification_report(y_test, model.predict(X_test))\n",
    ")"
   ]
  },
  {
   "cell_type": "code",
   "execution_count": 37,
   "metadata": {},
   "outputs": [
    {
     "data": {
      "text/plain": [
       "{'max_depth': 7}"
      ]
     },
     "execution_count": 37,
     "metadata": {},
     "output_type": "execute_result"
    }
   ],
   "source": [
    "model.named_steps['dt_classifier'].best_params_"
   ]
  },
  {
   "cell_type": "code",
   "execution_count": 43,
   "metadata": {},
   "outputs": [
    {
     "data": {
      "text/plain": [
       "DecisionTreeClassifier(class_weight=None, criterion='gini', max_depth=7,\n",
       "                       max_features=None, max_leaf_nodes=None,\n",
       "                       min_impurity_decrease=0.0, min_impurity_split=None,\n",
       "                       min_samples_leaf=1, min_samples_split=2,\n",
       "                       min_weight_fraction_leaf=0.0, presort=False,\n",
       "                       random_state=42, splitter='best')"
      ]
     },
     "execution_count": 43,
     "metadata": {},
     "output_type": "execute_result"
    }
   ],
   "source": [
    "dt_classifier_n = DecisionTreeClassifier(random_state=42, max_depth=7)\n",
    "\n",
    "dt_classifier_n.fit(X_train_transformed[:100000], y_train_transformed[:100000])"
   ]
  },
  {
   "cell_type": "code",
   "execution_count": 44,
   "metadata": {},
   "outputs": [
    {
     "name": "stdout",
     "output_type": "stream",
     "text": [
      "plan_duration 0.16\n",
      "trip_route_category 0.12\n",
      "hour 0.034\n",
      "weekday 0.13\n",
      "month 0.1\n",
      "avg_temp 0.21\n",
      "avg_wind_speed 0.14\n",
      "avg_pressure 0.1\n"
     ]
    }
   ],
   "source": [
    "for name, importance in zip(X_train.columns, dt_classifier_6.feature_importances_):\n",
    "    print(name, f'{importance:.2}')"
   ]
  },
  {
   "cell_type": "code",
   "execution_count": 140,
   "metadata": {},
   "outputs": [],
   "source": [
    "export_graphviz(\n",
    "    dt_classifier_6, \n",
    "    feature_names=X_train.columns,\n",
    "    out_file='dt_classifier_6.dot'\n",
    ")"
   ]
  },
  {
   "cell_type": "code",
   "execution_count": 154,
   "metadata": {},
   "outputs": [],
   "source": [
    "graph = graphviz.Source(\n",
    "    export_graphviz(\n",
    "    dt_classifier_6, \n",
    "    feature_names=X_train.columns,\n",
    "    out_file=None\n",
    ")\n",
    ")"
   ]
  },
  {
   "cell_type": "code",
   "execution_count": 155,
   "metadata": {},
   "outputs": [],
   "source": [
    "graph.format = 'png'"
   ]
  },
  {
   "cell_type": "code",
   "execution_count": 156,
   "metadata": {},
   "outputs": [
    {
     "data": {
      "text/plain": [
       "'dt_classifier_6.dot.png'"
      ]
     },
     "execution_count": 156,
     "metadata": {},
     "output_type": "execute_result"
    }
   ],
   "source": [
    "graph.render('dt_classifier_6.dot')"
   ]
  },
  {
   "cell_type": "code",
   "execution_count": null,
   "metadata": {},
   "outputs": [],
   "source": []
  },
  {
   "cell_type": "markdown",
   "metadata": {},
   "source": [
    "### Tests"
   ]
  },
  {
   "cell_type": "code",
   "execution_count": null,
   "metadata": {},
   "outputs": [],
   "source": [
    "df_test = X_test.sample(n=2)"
   ]
  },
  {
   "cell_type": "code",
   "execution_count": null,
   "metadata": {},
   "outputs": [],
   "source": [
    "df_test.info()"
   ]
  },
  {
   "cell_type": "code",
   "execution_count": null,
   "metadata": {},
   "outputs": [],
   "source": [
    "model.predict(df_test)"
   ]
  },
  {
   "cell_type": "code",
   "execution_count": null,
   "metadata": {},
   "outputs": [],
   "source": [
    "'{}'.format(model.predict(df_test))"
   ]
  },
  {
   "cell_type": "code",
   "execution_count": null,
   "metadata": {},
   "outputs": [],
   "source": [
    "scaler.inverse_transform(model.predict(df_test))"
   ]
  },
  {
   "cell_type": "code",
   "execution_count": null,
   "metadata": {},
   "outputs": [],
   "source": [
    "df_test = X_test.sample(n=1)"
   ]
  },
  {
   "cell_type": "code",
   "execution_count": null,
   "metadata": {},
   "outputs": [],
   "source": [
    "df_test.to_json(orient='records')"
   ]
  },
  {
   "cell_type": "code",
   "execution_count": null,
   "metadata": {},
   "outputs": [],
   "source": [
    "record = json.loads('{\"passholder_type\":\"Indego30\",\"trip_route_category\":\"One Way\",\"hour\":15,\"weekday\":3,\"month\":6}')"
   ]
  },
  {
   "cell_type": "code",
   "execution_count": null,
   "metadata": {},
   "outputs": [],
   "source": [
    "df_test_recon = pd.DataFrame.from_records([record])"
   ]
  },
  {
   "cell_type": "code",
   "execution_count": null,
   "metadata": {},
   "outputs": [],
   "source": [
    "df_test_recon"
   ]
  }
 ],
 "metadata": {
  "kernelspec": {
   "display_name": "saloodo",
   "language": "python",
   "name": "saloodo"
  },
  "language_info": {
   "codemirror_mode": {
    "name": "ipython",
    "version": 3
   },
   "file_extension": ".py",
   "mimetype": "text/x-python",
   "name": "python",
   "nbconvert_exporter": "python",
   "pygments_lexer": "ipython3",
   "version": "3.7.3"
  }
 },
 "nbformat": 4,
 "nbformat_minor": 2
}
