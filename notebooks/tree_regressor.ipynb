{
 "cells": [
  {
   "cell_type": "markdown",
   "metadata": {},
   "source": [
    "# Tree-based classifier"
   ]
  },
  {
   "cell_type": "markdown",
   "metadata": {},
   "source": [
    "Include all possible dimensions and train a treebased classifier"
   ]
  },
  {
   "cell_type": "code",
   "execution_count": 1,
   "metadata": {},
   "outputs": [],
   "source": [
    "import pandas as pd"
   ]
  },
  {
   "cell_type": "code",
   "execution_count": 20,
   "metadata": {},
   "outputs": [],
   "source": [
    "from sklearn.model_selection import train_test_split\n",
    "from sklearn.pipeline import Pipeline\n",
    "from sklearn.preprocessing import StandardScaler, LabelEncoder\n",
    "from sklearn import metrics\n",
    "from sklearn import utils\n",
    "from sklearn.tree import DecisionTreeRegressor"
   ]
  },
  {
   "cell_type": "markdown",
   "metadata": {},
   "source": [
    "## Load Data"
   ]
  },
  {
   "cell_type": "code",
   "execution_count": 63,
   "metadata": {},
   "outputs": [
    {
     "name": "stderr",
     "output_type": "stream",
     "text": [
      "/Users/leima/anaconda/lib/python3.6/site-packages/IPython/core/interactiveshell.py:2728: DtypeWarning: Columns (0,3,4,9,10) have mixed types. Specify dtype option on import or set low_memory=False.\n",
      "  interactivity=interactivity, compiler=compiler, result=result)\n"
     ]
    }
   ],
   "source": [
    "df = pd.read_csv('/tmp/rideindego_all.csv')"
   ]
  },
  {
   "cell_type": "code",
   "execution_count": 64,
   "metadata": {},
   "outputs": [],
   "source": [
    "df['date'] = pd.to_datetime(df.date)"
   ]
  },
  {
   "cell_type": "code",
   "execution_count": 65,
   "metadata": {},
   "outputs": [
    {
     "data": {
      "text/html": [
       "<div>\n",
       "<style scoped>\n",
       "    .dataframe tbody tr th:only-of-type {\n",
       "        vertical-align: middle;\n",
       "    }\n",
       "\n",
       "    .dataframe tbody tr th {\n",
       "        vertical-align: top;\n",
       "    }\n",
       "\n",
       "    .dataframe thead th {\n",
       "        text-align: right;\n",
       "    }\n",
       "</style>\n",
       "<table border=\"1\" class=\"dataframe\">\n",
       "  <thead>\n",
       "    <tr style=\"text-align: right;\">\n",
       "      <th></th>\n",
       "      <th>bike_id</th>\n",
       "      <th>bike_type</th>\n",
       "      <th>duration</th>\n",
       "      <th>end_lat</th>\n",
       "      <th>end_lon</th>\n",
       "      <th>end_station_id</th>\n",
       "      <th>end_time</th>\n",
       "      <th>passholder_type</th>\n",
       "      <th>plan_duration</th>\n",
       "      <th>start_lat</th>\n",
       "      <th>start_lon</th>\n",
       "      <th>start_station_id</th>\n",
       "      <th>start_time</th>\n",
       "      <th>trip_id</th>\n",
       "      <th>trip_route_category</th>\n",
       "      <th>date</th>\n",
       "      <th>hour</th>\n",
       "      <th>weekday</th>\n",
       "      <th>month</th>\n",
       "    </tr>\n",
       "  </thead>\n",
       "  <tbody>\n",
       "    <tr>\n",
       "      <th>0</th>\n",
       "      <td>3640</td>\n",
       "      <td>standard</td>\n",
       "      <td>4.0</td>\n",
       "      <td>39.9384</td>\n",
       "      <td>-75.173271</td>\n",
       "      <td>3064</td>\n",
       "      <td>7/1/2016 0:11</td>\n",
       "      <td>Indego30</td>\n",
       "      <td>30</td>\n",
       "      <td>39.946331</td>\n",
       "      <td>-75.1698</td>\n",
       "      <td>3063.0</td>\n",
       "      <td>7/1/2016 0:07</td>\n",
       "      <td>25183529</td>\n",
       "      <td>One Way</td>\n",
       "      <td>2016-07-01</td>\n",
       "      <td>0</td>\n",
       "      <td>4</td>\n",
       "      <td>7</td>\n",
       "    </tr>\n",
       "    <tr>\n",
       "      <th>1</th>\n",
       "      <td>3349</td>\n",
       "      <td>standard</td>\n",
       "      <td>8.0</td>\n",
       "      <td>39.94138</td>\n",
       "      <td>-75.145638</td>\n",
       "      <td>3026</td>\n",
       "      <td>7/1/2016 0:18</td>\n",
       "      <td>Indego30</td>\n",
       "      <td>30</td>\n",
       "      <td>39.95295</td>\n",
       "      <td>-75.139793</td>\n",
       "      <td>3124.0</td>\n",
       "      <td>7/1/2016 0:10</td>\n",
       "      <td>25183528</td>\n",
       "      <td>One Way</td>\n",
       "      <td>2016-07-01</td>\n",
       "      <td>0</td>\n",
       "      <td>4</td>\n",
       "      <td>7</td>\n",
       "    </tr>\n",
       "    <tr>\n",
       "      <th>2</th>\n",
       "      <td>5279</td>\n",
       "      <td>standard</td>\n",
       "      <td>17.0</td>\n",
       "      <td>39.933151</td>\n",
       "      <td>-75.162483</td>\n",
       "      <td>3034</td>\n",
       "      <td>7/1/2016 0:28</td>\n",
       "      <td>Indego30</td>\n",
       "      <td>30</td>\n",
       "      <td>39.93082</td>\n",
       "      <td>-75.174744</td>\n",
       "      <td>3043.0</td>\n",
       "      <td>7/1/2016 0:11</td>\n",
       "      <td>25183527</td>\n",
       "      <td>One Way</td>\n",
       "      <td>2016-07-01</td>\n",
       "      <td>0</td>\n",
       "      <td>4</td>\n",
       "      <td>7</td>\n",
       "    </tr>\n",
       "    <tr>\n",
       "      <th>3</th>\n",
       "      <td>5198</td>\n",
       "      <td>standard</td>\n",
       "      <td>25.0</td>\n",
       "      <td>39.94138</td>\n",
       "      <td>-75.145638</td>\n",
       "      <td>3026</td>\n",
       "      <td>7/1/2016 0:38</td>\n",
       "      <td>Walk-up</td>\n",
       "      <td>0</td>\n",
       "      <td>39.94138</td>\n",
       "      <td>-75.145638</td>\n",
       "      <td>3026.0</td>\n",
       "      <td>7/1/2016 0:13</td>\n",
       "      <td>25183526</td>\n",
       "      <td>Round Trip</td>\n",
       "      <td>2016-07-01</td>\n",
       "      <td>0</td>\n",
       "      <td>4</td>\n",
       "      <td>7</td>\n",
       "    </tr>\n",
       "    <tr>\n",
       "      <th>4</th>\n",
       "      <td>3382</td>\n",
       "      <td>standard</td>\n",
       "      <td>45.0</td>\n",
       "      <td>39.947109</td>\n",
       "      <td>-75.166183</td>\n",
       "      <td>3010</td>\n",
       "      <td>7/1/2016 0:58</td>\n",
       "      <td>Walk-up</td>\n",
       "      <td>0</td>\n",
       "      <td>39.954239</td>\n",
       "      <td>-75.161377</td>\n",
       "      <td>3037.0</td>\n",
       "      <td>7/1/2016 0:13</td>\n",
       "      <td>25183525</td>\n",
       "      <td>One Way</td>\n",
       "      <td>2016-07-01</td>\n",
       "      <td>0</td>\n",
       "      <td>4</td>\n",
       "      <td>7</td>\n",
       "    </tr>\n",
       "  </tbody>\n",
       "</table>\n",
       "</div>"
      ],
      "text/plain": [
       "  bike_id bike_type  duration    end_lat     end_lon  end_station_id  \\\n",
       "0    3640  standard       4.0    39.9384  -75.173271            3064   \n",
       "1    3349  standard       8.0   39.94138  -75.145638            3026   \n",
       "2    5279  standard      17.0  39.933151  -75.162483            3034   \n",
       "3    5198  standard      25.0   39.94138  -75.145638            3026   \n",
       "4    3382  standard      45.0  39.947109  -75.166183            3010   \n",
       "\n",
       "        end_time passholder_type  plan_duration  start_lat   start_lon  \\\n",
       "0  7/1/2016 0:11        Indego30             30  39.946331    -75.1698   \n",
       "1  7/1/2016 0:18        Indego30             30   39.95295  -75.139793   \n",
       "2  7/1/2016 0:28        Indego30             30   39.93082  -75.174744   \n",
       "3  7/1/2016 0:38         Walk-up              0   39.94138  -75.145638   \n",
       "4  7/1/2016 0:58         Walk-up              0  39.954239  -75.161377   \n",
       "\n",
       "   start_station_id     start_time   trip_id trip_route_category       date  \\\n",
       "0            3063.0  7/1/2016 0:07  25183529             One Way 2016-07-01   \n",
       "1            3124.0  7/1/2016 0:10  25183528             One Way 2016-07-01   \n",
       "2            3043.0  7/1/2016 0:11  25183527             One Way 2016-07-01   \n",
       "3            3026.0  7/1/2016 0:13  25183526          Round Trip 2016-07-01   \n",
       "4            3037.0  7/1/2016 0:13  25183525             One Way 2016-07-01   \n",
       "\n",
       "   hour  weekday  month  \n",
       "0     0        4      7  \n",
       "1     0        4      7  \n",
       "2     0        4      7  \n",
       "3     0        4      7  \n",
       "4     0        4      7  "
      ]
     },
     "execution_count": 65,
     "metadata": {},
     "output_type": "execute_result"
    }
   ],
   "source": [
    "df.head()"
   ]
  },
  {
   "cell_type": "code",
   "execution_count": 66,
   "metadata": {},
   "outputs": [],
   "source": [
    "df = df[df.bike_type == 'standard']\n",
    "coi = [\n",
    "    'passholder_type', \n",
    "    'trip_route_category', 'hour', 'weekday', 'month'\n",
    "]\n",
    "cot = ['duration']\n",
    "df = df[coi+cot]"
   ]
  },
  {
   "cell_type": "code",
   "execution_count": 77,
   "metadata": {},
   "outputs": [
    {
     "data": {
      "text/html": [
       "<div>\n",
       "<style scoped>\n",
       "    .dataframe tbody tr th:only-of-type {\n",
       "        vertical-align: middle;\n",
       "    }\n",
       "\n",
       "    .dataframe tbody tr th {\n",
       "        vertical-align: top;\n",
       "    }\n",
       "\n",
       "    .dataframe thead th {\n",
       "        text-align: right;\n",
       "    }\n",
       "</style>\n",
       "<table border=\"1\" class=\"dataframe\">\n",
       "  <thead>\n",
       "    <tr style=\"text-align: right;\">\n",
       "      <th></th>\n",
       "      <th>passholder_type</th>\n",
       "      <th>trip_route_category</th>\n",
       "      <th>hour</th>\n",
       "      <th>weekday</th>\n",
       "      <th>month</th>\n",
       "      <th>duration</th>\n",
       "    </tr>\n",
       "  </thead>\n",
       "  <tbody>\n",
       "    <tr>\n",
       "      <th>0</th>\n",
       "      <td>Indego30</td>\n",
       "      <td>One Way</td>\n",
       "      <td>0</td>\n",
       "      <td>4</td>\n",
       "      <td>7</td>\n",
       "      <td>4.0</td>\n",
       "    </tr>\n",
       "    <tr>\n",
       "      <th>1</th>\n",
       "      <td>Indego30</td>\n",
       "      <td>One Way</td>\n",
       "      <td>0</td>\n",
       "      <td>4</td>\n",
       "      <td>7</td>\n",
       "      <td>8.0</td>\n",
       "    </tr>\n",
       "    <tr>\n",
       "      <th>2</th>\n",
       "      <td>Indego30</td>\n",
       "      <td>One Way</td>\n",
       "      <td>0</td>\n",
       "      <td>4</td>\n",
       "      <td>7</td>\n",
       "      <td>17.0</td>\n",
       "    </tr>\n",
       "    <tr>\n",
       "      <th>3</th>\n",
       "      <td>Walk-up</td>\n",
       "      <td>Round Trip</td>\n",
       "      <td>0</td>\n",
       "      <td>4</td>\n",
       "      <td>7</td>\n",
       "      <td>25.0</td>\n",
       "    </tr>\n",
       "    <tr>\n",
       "      <th>4</th>\n",
       "      <td>Walk-up</td>\n",
       "      <td>One Way</td>\n",
       "      <td>0</td>\n",
       "      <td>4</td>\n",
       "      <td>7</td>\n",
       "      <td>45.0</td>\n",
       "    </tr>\n",
       "  </tbody>\n",
       "</table>\n",
       "</div>"
      ],
      "text/plain": [
       "  passholder_type trip_route_category  hour  weekday  month  duration\n",
       "0        Indego30             One Way     0        4      7       4.0\n",
       "1        Indego30             One Way     0        4      7       8.0\n",
       "2        Indego30             One Way     0        4      7      17.0\n",
       "3         Walk-up          Round Trip     0        4      7      25.0\n",
       "4         Walk-up             One Way     0        4      7      45.0"
      ]
     },
     "execution_count": 77,
     "metadata": {},
     "output_type": "execute_result"
    }
   ],
   "source": [
    "df.head()"
   ]
  },
  {
   "cell_type": "code",
   "execution_count": 67,
   "metadata": {},
   "outputs": [
    {
     "name": "stdout",
     "output_type": "stream",
     "text": [
      "passholder_type :  False\n",
      "trip_route_category :  False\n",
      "hour :  False\n",
      "weekday :  False\n",
      "month :  False\n",
      "duration :  False\n"
     ]
    }
   ],
   "source": [
    "for i in df.columns:\n",
    "    print(\n",
    "        i, ': ',\n",
    "        df[i].isnull().any()\n",
    "    )"
   ]
  },
  {
   "cell_type": "code",
   "execution_count": 68,
   "metadata": {},
   "outputs": [],
   "source": [
    "scaler = StandardScaler()"
   ]
  },
  {
   "cell_type": "code",
   "execution_count": 145,
   "metadata": {},
   "outputs": [],
   "source": [
    "X = df[coi]\n",
    "#X = pd.get_dummies(X)\n",
    "y = df[cot]\n",
    "y = scaler.fit_transform(y)\n",
    "\n",
    "X_train, X_test, y_train, y_test = train_test_split(\n",
    "    X, y,\n",
    "    test_size=0.3, random_state=42\n",
    "    #,stratify=Y\n",
    ")"
   ]
  },
  {
   "cell_type": "code",
   "execution_count": 146,
   "metadata": {},
   "outputs": [],
   "source": [
    "class MultiColumnLabelEncoder:\n",
    "    def __init__(self, encoders = None, columns = None):\n",
    "        self.columns = columns # array of column names to encode\n",
    "        if encoders:\n",
    "            self.encoders = encoders\n",
    "        else:\n",
    "            self.encoders = {}\n",
    "\n",
    "    def fit(self,X,y=None):\n",
    "        self.check_encoders = []\n",
    "        return self # not relevant here\n",
    "\n",
    "    def transform(self, X):\n",
    "        '''\n",
    "        Transforms columns of X specified in self.columns using\n",
    "        LabelEncoder(). If no columns specified, transforms all\n",
    "        columns in X.\n",
    "        '''\n",
    "        output = X.copy()\n",
    "        if self.columns is not None:\n",
    "            for col in self.columns:\n",
    "                _le = LabelEncoder()\n",
    "                if self.encoders.get(col):\n",
    "                    output[col] = self.encoders.get(col).transform(output[col])\n",
    "                else:\n",
    "                    output[col] = _le.fit_transform(output[col])\n",
    "                    print(f'1. preparing encoder for {col}')\n",
    "                    self.encoders[col] = _le\n",
    "                    self.check_encoders.append({col: _le})\n",
    "        else:\n",
    "            for colname,col in output.iteritems():\n",
    "                _le = LabelEncoder()\n",
    "                if self.encoders.get(col):\n",
    "                    output[colname] = self.encoders.get(col).transform(col)\n",
    "                else:\n",
    "                    output[colname] = _le.fit_transform(col)\n",
    "                    print(f'2. preparing encoder for {col}')\n",
    "                    self.encoders[col] = _le\n",
    "                    self.check_encoders.append({col: _le})\n",
    "        return output\n",
    "\n",
    "    def fit_transform(self,X,y=None):\n",
    "        return self.fit(X,y).transform(X)"
   ]
  },
  {
   "cell_type": "code",
   "execution_count": 147,
   "metadata": {},
   "outputs": [
    {
     "name": "stdout",
     "output_type": "stream",
     "text": [
      "1. preparing encoder for passholder_type\n",
      "1. preparing encoder for trip_route_category\n",
      "1. preparing encoder for hour\n",
      "1. preparing encoder for weekday\n",
      "1. preparing encoder for month\n"
     ]
    }
   ],
   "source": [
    "encoders_obj = MultiColumnLabelEncoder(columns=coi)\n",
    "encoders_obj.fit_transform(df)\n",
    "dt_encoders = encoders_obj.encoders"
   ]
  },
  {
   "cell_type": "code",
   "execution_count": 148,
   "metadata": {},
   "outputs": [
    {
     "data": {
      "text/plain": [
       "['passholder_type', 'trip_route_category', 'hour', 'weekday', 'month']"
      ]
     },
     "execution_count": 148,
     "metadata": {},
     "output_type": "execute_result"
    }
   ],
   "source": [
    "coi"
   ]
  },
  {
   "cell_type": "code",
   "execution_count": 163,
   "metadata": {},
   "outputs": [],
   "source": [
    "dt_regressor = GridSearchCV(\n",
    "    DecisionTreeRegressor(random_state=42), cv=3, \n",
    "    param_grid={\"max_depth\": [1,2,3,4,5,6,7,8]}\n",
    ")\n",
    "\n",
    "pipeline_steps = [\n",
    "    ('encoding', MultiColumnLabelEncoder(columns=coi, encoders=dt_encoders)),\n",
    "    ('dt_classifier', dt_regressor)\n",
    "    # add more pipeline steps as needed\n",
    "]"
   ]
  },
  {
   "cell_type": "code",
   "execution_count": 164,
   "metadata": {},
   "outputs": [],
   "source": [
    "model = Pipeline(pipeline_steps)"
   ]
  },
  {
   "cell_type": "code",
   "execution_count": 165,
   "metadata": {},
   "outputs": [
    {
     "data": {
      "text/plain": [
       "Pipeline(memory=None,\n",
       "     steps=[('encoding', <__main__.MultiColumnLabelEncoder object at 0x1a2c45e828>), ('dt_classifier', GridSearchCV(cv=3, error_score='raise',\n",
       "       estimator=DecisionTreeRegressor(criterion='mse', max_depth=None, max_features=None,\n",
       "           max_leaf_nodes=None, min_impurity_decrease=0.0,\n",
       "           m...   pre_dispatch='2*n_jobs', refit=True, return_train_score='warn',\n",
       "       scoring=None, verbose=0))])"
      ]
     },
     "execution_count": 165,
     "metadata": {},
     "output_type": "execute_result"
    }
   ],
   "source": [
    "model.fit(X_train, y_train)"
   ]
  },
  {
   "cell_type": "code",
   "execution_count": 166,
   "metadata": {},
   "outputs": [
    {
     "data": {
      "text/plain": [
       "0.03406175535828204"
      ]
     },
     "execution_count": 166,
     "metadata": {},
     "output_type": "execute_result"
    }
   ],
   "source": [
    "model.score(X_test, y_test)"
   ]
  },
  {
   "cell_type": "code",
   "execution_count": 167,
   "metadata": {},
   "outputs": [
    {
     "data": {
      "text/plain": [
       "0.03549311276539002"
      ]
     },
     "execution_count": 167,
     "metadata": {},
     "output_type": "execute_result"
    }
   ],
   "source": [
    "model.score(X_train, y_train)"
   ]
  },
  {
   "cell_type": "code",
   "execution_count": 168,
   "metadata": {},
   "outputs": [
    {
     "data": {
      "text/plain": [
       "{'max_depth': 6}"
      ]
     },
     "execution_count": 168,
     "metadata": {},
     "output_type": "execute_result"
    }
   ],
   "source": [
    "dt_regressor.best_params_"
   ]
  },
  {
   "cell_type": "code",
   "execution_count": 275,
   "metadata": {},
   "outputs": [],
   "source": [
    "df_test = X_test.sample(n=2)"
   ]
  },
  {
   "cell_type": "code",
   "execution_count": 276,
   "metadata": {},
   "outputs": [
    {
     "name": "stdout",
     "output_type": "stream",
     "text": [
      "<class 'pandas.core.frame.DataFrame'>\n",
      "Int64Index: 2 entries, 516568 to 1065860\n",
      "Data columns (total 5 columns):\n",
      "passholder_type        2 non-null object\n",
      "trip_route_category    2 non-null object\n",
      "hour                   2 non-null int64\n",
      "weekday                2 non-null int64\n",
      "month                  2 non-null int64\n",
      "dtypes: int64(3), object(2)\n",
      "memory usage: 96.0+ bytes\n"
     ]
    }
   ],
   "source": [
    "df_test.info()"
   ]
  },
  {
   "cell_type": "code",
   "execution_count": 277,
   "metadata": {},
   "outputs": [
    {
     "data": {
      "text/plain": [
       "array([-0.03740941,  0.32952739])"
      ]
     },
     "execution_count": 277,
     "metadata": {},
     "output_type": "execute_result"
    }
   ],
   "source": [
    "model.predict(df_test)"
   ]
  },
  {
   "cell_type": "code",
   "execution_count": 278,
   "metadata": {},
   "outputs": [
    {
     "data": {
      "text/plain": [
       "'[-0.03740941  0.32952739]'"
      ]
     },
     "execution_count": 278,
     "metadata": {},
     "output_type": "execute_result"
    }
   ],
   "source": [
    "'{}'.format(model.predict(df_test))"
   ]
  },
  {
   "cell_type": "code",
   "execution_count": 279,
   "metadata": {},
   "outputs": [
    {
     "data": {
      "text/plain": [
       "array([20.121273  , 45.15476532])"
      ]
     },
     "execution_count": 279,
     "metadata": {},
     "output_type": "execute_result"
    }
   ],
   "source": [
    "scaler.inverse_transform(model.predict(df_test))"
   ]
  },
  {
   "cell_type": "code",
   "execution_count": 280,
   "metadata": {},
   "outputs": [],
   "source": [
    "df_test = X_test.sample(n=1)"
   ]
  },
  {
   "cell_type": "code",
   "execution_count": 283,
   "metadata": {},
   "outputs": [
    {
     "data": {
      "text/plain": [
       "'[{\"passholder_type\":\"Indego30\",\"trip_route_category\":\"One Way\",\"hour\":15,\"weekday\":3,\"month\":6}]'"
      ]
     },
     "execution_count": 283,
     "metadata": {},
     "output_type": "execute_result"
    }
   ],
   "source": [
    "df_test.to_json(orient='records')"
   ]
  },
  {
   "cell_type": "code",
   "execution_count": 287,
   "metadata": {},
   "outputs": [],
   "source": [
    "record = json.loads('{\"passholder_type\":\"Indego30\",\"trip_route_category\":\"One Way\",\"hour\":15,\"weekday\":3,\"month\":6}')"
   ]
  },
  {
   "cell_type": "code",
   "execution_count": 288,
   "metadata": {},
   "outputs": [],
   "source": [
    "df_test_recon = pd.DataFrame.from_records([record])"
   ]
  },
  {
   "cell_type": "code",
   "execution_count": 289,
   "metadata": {},
   "outputs": [
    {
     "data": {
      "text/html": [
       "<div>\n",
       "<style scoped>\n",
       "    .dataframe tbody tr th:only-of-type {\n",
       "        vertical-align: middle;\n",
       "    }\n",
       "\n",
       "    .dataframe tbody tr th {\n",
       "        vertical-align: top;\n",
       "    }\n",
       "\n",
       "    .dataframe thead th {\n",
       "        text-align: right;\n",
       "    }\n",
       "</style>\n",
       "<table border=\"1\" class=\"dataframe\">\n",
       "  <thead>\n",
       "    <tr style=\"text-align: right;\">\n",
       "      <th></th>\n",
       "      <th>hour</th>\n",
       "      <th>month</th>\n",
       "      <th>passholder_type</th>\n",
       "      <th>trip_route_category</th>\n",
       "      <th>weekday</th>\n",
       "    </tr>\n",
       "  </thead>\n",
       "  <tbody>\n",
       "    <tr>\n",
       "      <th>0</th>\n",
       "      <td>15</td>\n",
       "      <td>6</td>\n",
       "      <td>Indego30</td>\n",
       "      <td>One Way</td>\n",
       "      <td>3</td>\n",
       "    </tr>\n",
       "  </tbody>\n",
       "</table>\n",
       "</div>"
      ],
      "text/plain": [
       "   hour  month passholder_type trip_route_category  weekday\n",
       "0    15      6        Indego30             One Way        3"
      ]
     },
     "execution_count": 289,
     "metadata": {},
     "output_type": "execute_result"
    }
   ],
   "source": [
    "df_test_recon"
   ]
  },
  {
   "cell_type": "markdown",
   "metadata": {},
   "source": [
    "## Playground: Ridge"
   ]
  },
  {
   "cell_type": "code",
   "execution_count": null,
   "metadata": {},
   "outputs": [],
   "source": []
  },
  {
   "cell_type": "code",
   "execution_count": null,
   "metadata": {},
   "outputs": [],
   "source": []
  },
  {
   "cell_type": "code",
   "execution_count": 102,
   "metadata": {},
   "outputs": [],
   "source": [
    "from sklearn.model_selection import GridSearchCV"
   ]
  },
  {
   "cell_type": "code",
   "execution_count": 129,
   "metadata": {},
   "outputs": [],
   "source": [
    "from sklearn.linear_model import Ridge"
   ]
  },
  {
   "cell_type": "code",
   "execution_count": 134,
   "metadata": {},
   "outputs": [],
   "source": [
    "from sklearn.model_selection import cross_val_score"
   ]
  },
  {
   "cell_type": "code",
   "execution_count": 138,
   "metadata": {},
   "outputs": [],
   "source": [
    "regr_ridge = GridSearchCV(\n",
    "    Ridge(), cv=3, \n",
    "    param_grid={\"alpha\": [100, 20, 10,1,0.1]}\n",
    ")"
   ]
  },
  {
   "cell_type": "code",
   "execution_count": 139,
   "metadata": {},
   "outputs": [],
   "source": [
    "lr_pipeline = Pipeline(\n",
    "    [('ridge', regr_ridge)]\n",
    ")"
   ]
  },
  {
   "cell_type": "code",
   "execution_count": 140,
   "metadata": {},
   "outputs": [
    {
     "data": {
      "text/plain": [
       "Pipeline(memory=None,\n",
       "     steps=[('ridge', GridSearchCV(cv=3, error_score='raise',\n",
       "       estimator=Ridge(alpha=1.0, copy_X=True, fit_intercept=True, max_iter=None,\n",
       "   normalize=False, random_state=None, solver='auto', tol=0.001),\n",
       "       fit_params=None, iid=True, n_jobs=1,\n",
       "       param_grid={'alpha': [100, 20, 10, 1, 0.1]},\n",
       "       pre_dispatch='2*n_jobs', refit=True, return_train_score='warn',\n",
       "       scoring=None, verbose=0))])"
      ]
     },
     "execution_count": 140,
     "metadata": {},
     "output_type": "execute_result"
    }
   ],
   "source": [
    "lr_pipeline.fit(X_train, y_train)"
   ]
  },
  {
   "cell_type": "code",
   "execution_count": 141,
   "metadata": {},
   "outputs": [
    {
     "data": {
      "text/plain": [
       "0.03144391124409851"
      ]
     },
     "execution_count": 141,
     "metadata": {},
     "output_type": "execute_result"
    }
   ],
   "source": [
    "lr_pipeline.score(X_test, y_test)"
   ]
  },
  {
   "cell_type": "code",
   "execution_count": 142,
   "metadata": {},
   "outputs": [
    {
     "name": "stdout",
     "output_type": "stream",
     "text": [
      "{'alpha': 100}\n"
     ]
    }
   ],
   "source": [
    "print(regr_ridge.best_params_)"
   ]
  },
  {
   "cell_type": "code",
   "execution_count": 143,
   "metadata": {},
   "outputs": [
    {
     "data": {
      "text/plain": [
       "array([0.03066379, 0.03202355, 0.03011045, 0.0321168 , 0.03300355,\n",
       "       0.02993489, 0.03229209, 0.03010943, 0.031031  , 0.03156605])"
      ]
     },
     "execution_count": 143,
     "metadata": {},
     "output_type": "execute_result"
    }
   ],
   "source": [
    "cross_val_score(regr_ridge, X_train, y_train, cv=10)"
   ]
  },
  {
   "cell_type": "code",
   "execution_count": null,
   "metadata": {},
   "outputs": [],
   "source": []
  }
 ],
 "metadata": {
  "kernelspec": {
   "display_name": "Python 3",
   "language": "python",
   "name": "python3"
  },
  "language_info": {
   "codemirror_mode": {
    "name": "ipython",
    "version": 3
   },
   "file_extension": ".py",
   "mimetype": "text/x-python",
   "name": "python",
   "nbconvert_exporter": "python",
   "pygments_lexer": "ipython3",
   "version": "3.6.8"
  }
 },
 "nbformat": 4,
 "nbformat_minor": 2
}
