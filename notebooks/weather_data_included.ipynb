{
 "cells": [
  {
   "cell_type": "markdown",
   "metadata": {},
   "source": [
    "# Tree-based classifier"
   ]
  },
  {
   "cell_type": "markdown",
   "metadata": {},
   "source": [
    "Include all possible dimensions and train a treebased classifier"
   ]
  },
  {
   "cell_type": "code",
   "execution_count": 1,
   "metadata": {},
   "outputs": [],
   "source": [
    "import pandas as pd"
   ]
  },
  {
   "cell_type": "code",
   "execution_count": 2,
   "metadata": {},
   "outputs": [
    {
     "name": "stderr",
     "output_type": "stream",
     "text": [
      "/Users/leima/anaconda/lib/python3.6/site-packages/sklearn/ensemble/weight_boosting.py:29: DeprecationWarning: numpy.core.umath_tests is an internal NumPy module and should not be imported. It will be removed in a future NumPy release.\n",
      "  from numpy.core.umath_tests import inner1d\n"
     ]
    }
   ],
   "source": [
    "from sklearn.model_selection import train_test_split, GridSearchCV\n",
    "from sklearn.pipeline import Pipeline\n",
    "from sklearn.preprocessing import StandardScaler, LabelEncoder\n",
    "from sklearn import metrics\n",
    "from sklearn import utils\n",
    "from sklearn.ensemble import RandomForestRegressor\n",
    "from sklearn.neighbors import KNeighborsRegressor\n",
    "from sklearn.metrics import mean_squared_log_error,mean_squared_error"
   ]
  },
  {
   "cell_type": "code",
   "execution_count": 3,
   "metadata": {},
   "outputs": [],
   "source": [
    "import numpy as np"
   ]
  },
  {
   "cell_type": "code",
   "execution_count": 4,
   "metadata": {},
   "outputs": [],
   "source": [
    "import matplotlib.pyplot as plt"
   ]
  },
  {
   "cell_type": "code",
   "execution_count": 5,
   "metadata": {},
   "outputs": [],
   "source": [
    "import seaborn as sns"
   ]
  },
  {
   "cell_type": "markdown",
   "metadata": {},
   "source": [
    "## Load Data"
   ]
  },
  {
   "cell_type": "code",
   "execution_count": 94,
   "metadata": {},
   "outputs": [
    {
     "name": "stderr",
     "output_type": "stream",
     "text": [
      "/Users/leima/anaconda/lib/python3.6/site-packages/IPython/core/interactiveshell.py:2728: DtypeWarning: Columns (0,3,4,9,10) have mixed types. Specify dtype option on import or set low_memory=False.\n",
      "  interactivity=interactivity, compiler=compiler, result=result)\n"
     ]
    }
   ],
   "source": [
    "df = pd.read_csv('/Users/leima/data_store/rideindego_all.csv')\n",
    "df['date'] = pd.to_datetime(df.date)\n",
    "df_weather = pd.read_csv('data/philadelphia_weather.csv')[['date', 'hour', 'avg_temp', 'avg_humid', 'avg_wind_speed', 'avg_pressure']]\n",
    "df_weather['date'] = pd.to_datetime(df_weather.date)\n",
    "df = pd.merge(df, df_weather, how='left', left_on=['date', 'hour'], right_on=['date', 'hour'])"
   ]
  },
  {
   "cell_type": "code",
   "execution_count": 95,
   "metadata": {},
   "outputs": [
    {
     "data": {
      "text/html": [
       "<div>\n",
       "<style scoped>\n",
       "    .dataframe tbody tr th:only-of-type {\n",
       "        vertical-align: middle;\n",
       "    }\n",
       "\n",
       "    .dataframe tbody tr th {\n",
       "        vertical-align: top;\n",
       "    }\n",
       "\n",
       "    .dataframe thead th {\n",
       "        text-align: right;\n",
       "    }\n",
       "</style>\n",
       "<table border=\"1\" class=\"dataframe\">\n",
       "  <thead>\n",
       "    <tr style=\"text-align: right;\">\n",
       "      <th></th>\n",
       "      <th>bike_id</th>\n",
       "      <th>bike_type</th>\n",
       "      <th>duration</th>\n",
       "      <th>end_lat</th>\n",
       "      <th>end_lon</th>\n",
       "      <th>end_station_id</th>\n",
       "      <th>end_time</th>\n",
       "      <th>passholder_type</th>\n",
       "      <th>plan_duration</th>\n",
       "      <th>start_lat</th>\n",
       "      <th>...</th>\n",
       "      <th>trip_id</th>\n",
       "      <th>trip_route_category</th>\n",
       "      <th>date</th>\n",
       "      <th>hour</th>\n",
       "      <th>weekday</th>\n",
       "      <th>month</th>\n",
       "      <th>avg_temp</th>\n",
       "      <th>avg_humid</th>\n",
       "      <th>avg_wind_speed</th>\n",
       "      <th>avg_pressure</th>\n",
       "    </tr>\n",
       "  </thead>\n",
       "  <tbody>\n",
       "    <tr>\n",
       "      <th>0</th>\n",
       "      <td>3640</td>\n",
       "      <td>standard</td>\n",
       "      <td>4.0</td>\n",
       "      <td>39.9384</td>\n",
       "      <td>-75.173271</td>\n",
       "      <td>3064</td>\n",
       "      <td>7/1/2016 0:11</td>\n",
       "      <td>Indego30</td>\n",
       "      <td>30</td>\n",
       "      <td>39.946331</td>\n",
       "      <td>...</td>\n",
       "      <td>25183529</td>\n",
       "      <td>One Way</td>\n",
       "      <td>2016-07-01</td>\n",
       "      <td>0</td>\n",
       "      <td>4</td>\n",
       "      <td>7</td>\n",
       "      <td>78.1</td>\n",
       "      <td>58.0</td>\n",
       "      <td>9.2</td>\n",
       "      <td>1016.6</td>\n",
       "    </tr>\n",
       "    <tr>\n",
       "      <th>1</th>\n",
       "      <td>3349</td>\n",
       "      <td>standard</td>\n",
       "      <td>8.0</td>\n",
       "      <td>39.94138</td>\n",
       "      <td>-75.145638</td>\n",
       "      <td>3026</td>\n",
       "      <td>7/1/2016 0:18</td>\n",
       "      <td>Indego30</td>\n",
       "      <td>30</td>\n",
       "      <td>39.95295</td>\n",
       "      <td>...</td>\n",
       "      <td>25183528</td>\n",
       "      <td>One Way</td>\n",
       "      <td>2016-07-01</td>\n",
       "      <td>0</td>\n",
       "      <td>4</td>\n",
       "      <td>7</td>\n",
       "      <td>78.1</td>\n",
       "      <td>58.0</td>\n",
       "      <td>9.2</td>\n",
       "      <td>1016.6</td>\n",
       "    </tr>\n",
       "    <tr>\n",
       "      <th>2</th>\n",
       "      <td>5279</td>\n",
       "      <td>standard</td>\n",
       "      <td>17.0</td>\n",
       "      <td>39.933151</td>\n",
       "      <td>-75.162483</td>\n",
       "      <td>3034</td>\n",
       "      <td>7/1/2016 0:28</td>\n",
       "      <td>Indego30</td>\n",
       "      <td>30</td>\n",
       "      <td>39.93082</td>\n",
       "      <td>...</td>\n",
       "      <td>25183527</td>\n",
       "      <td>One Way</td>\n",
       "      <td>2016-07-01</td>\n",
       "      <td>0</td>\n",
       "      <td>4</td>\n",
       "      <td>7</td>\n",
       "      <td>78.1</td>\n",
       "      <td>58.0</td>\n",
       "      <td>9.2</td>\n",
       "      <td>1016.6</td>\n",
       "    </tr>\n",
       "    <tr>\n",
       "      <th>3</th>\n",
       "      <td>5198</td>\n",
       "      <td>standard</td>\n",
       "      <td>25.0</td>\n",
       "      <td>39.94138</td>\n",
       "      <td>-75.145638</td>\n",
       "      <td>3026</td>\n",
       "      <td>7/1/2016 0:38</td>\n",
       "      <td>Walk-up</td>\n",
       "      <td>0</td>\n",
       "      <td>39.94138</td>\n",
       "      <td>...</td>\n",
       "      <td>25183526</td>\n",
       "      <td>Round Trip</td>\n",
       "      <td>2016-07-01</td>\n",
       "      <td>0</td>\n",
       "      <td>4</td>\n",
       "      <td>7</td>\n",
       "      <td>78.1</td>\n",
       "      <td>58.0</td>\n",
       "      <td>9.2</td>\n",
       "      <td>1016.6</td>\n",
       "    </tr>\n",
       "    <tr>\n",
       "      <th>4</th>\n",
       "      <td>3382</td>\n",
       "      <td>standard</td>\n",
       "      <td>45.0</td>\n",
       "      <td>39.947109</td>\n",
       "      <td>-75.166183</td>\n",
       "      <td>3010</td>\n",
       "      <td>7/1/2016 0:58</td>\n",
       "      <td>Walk-up</td>\n",
       "      <td>0</td>\n",
       "      <td>39.954239</td>\n",
       "      <td>...</td>\n",
       "      <td>25183525</td>\n",
       "      <td>One Way</td>\n",
       "      <td>2016-07-01</td>\n",
       "      <td>0</td>\n",
       "      <td>4</td>\n",
       "      <td>7</td>\n",
       "      <td>78.1</td>\n",
       "      <td>58.0</td>\n",
       "      <td>9.2</td>\n",
       "      <td>1016.6</td>\n",
       "    </tr>\n",
       "  </tbody>\n",
       "</table>\n",
       "<p>5 rows × 23 columns</p>\n",
       "</div>"
      ],
      "text/plain": [
       "  bike_id bike_type  duration    end_lat     end_lon  end_station_id  \\\n",
       "0    3640  standard       4.0    39.9384  -75.173271            3064   \n",
       "1    3349  standard       8.0   39.94138  -75.145638            3026   \n",
       "2    5279  standard      17.0  39.933151  -75.162483            3034   \n",
       "3    5198  standard      25.0   39.94138  -75.145638            3026   \n",
       "4    3382  standard      45.0  39.947109  -75.166183            3010   \n",
       "\n",
       "        end_time passholder_type  plan_duration  start_lat      ...       \\\n",
       "0  7/1/2016 0:11        Indego30             30  39.946331      ...        \n",
       "1  7/1/2016 0:18        Indego30             30   39.95295      ...        \n",
       "2  7/1/2016 0:28        Indego30             30   39.93082      ...        \n",
       "3  7/1/2016 0:38         Walk-up              0   39.94138      ...        \n",
       "4  7/1/2016 0:58         Walk-up              0  39.954239      ...        \n",
       "\n",
       "    trip_id  trip_route_category       date  hour weekday month  avg_temp  \\\n",
       "0  25183529              One Way 2016-07-01     0       4     7      78.1   \n",
       "1  25183528              One Way 2016-07-01     0       4     7      78.1   \n",
       "2  25183527              One Way 2016-07-01     0       4     7      78.1   \n",
       "3  25183526           Round Trip 2016-07-01     0       4     7      78.1   \n",
       "4  25183525              One Way 2016-07-01     0       4     7      78.1   \n",
       "\n",
       "   avg_humid  avg_wind_speed  avg_pressure  \n",
       "0       58.0             9.2        1016.6  \n",
       "1       58.0             9.2        1016.6  \n",
       "2       58.0             9.2        1016.6  \n",
       "3       58.0             9.2        1016.6  \n",
       "4       58.0             9.2        1016.6  \n",
       "\n",
       "[5 rows x 23 columns]"
      ]
     },
     "execution_count": 95,
     "metadata": {},
     "output_type": "execute_result"
    }
   ],
   "source": [
    "df.head()"
   ]
  },
  {
   "cell_type": "code",
   "execution_count": 96,
   "metadata": {},
   "outputs": [],
   "source": [
    "df = df[df.bike_type == 'standard']\n",
    "coi = [\n",
    "    'passholder_type', \n",
    "    'trip_route_category', 'hour', 'weekday', 'month', 'avg_temp', 'avg_wind_speed', 'avg_pressure'\n",
    "]\n",
    "#avg_humid is correlated to the hour of the day\n",
    "cot = ['duration']\n",
    "df = df[coi+cot]\n",
    "df.dropna(inplace=True)"
   ]
  },
  {
   "cell_type": "code",
   "execution_count": 97,
   "metadata": {},
   "outputs": [
    {
     "data": {
      "text/html": [
       "<div>\n",
       "<style scoped>\n",
       "    .dataframe tbody tr th:only-of-type {\n",
       "        vertical-align: middle;\n",
       "    }\n",
       "\n",
       "    .dataframe tbody tr th {\n",
       "        vertical-align: top;\n",
       "    }\n",
       "\n",
       "    .dataframe thead th {\n",
       "        text-align: right;\n",
       "    }\n",
       "</style>\n",
       "<table border=\"1\" class=\"dataframe\">\n",
       "  <thead>\n",
       "    <tr style=\"text-align: right;\">\n",
       "      <th></th>\n",
       "      <th>passholder_type</th>\n",
       "      <th>trip_route_category</th>\n",
       "      <th>hour</th>\n",
       "      <th>weekday</th>\n",
       "      <th>month</th>\n",
       "      <th>avg_temp</th>\n",
       "      <th>avg_wind_speed</th>\n",
       "      <th>avg_pressure</th>\n",
       "      <th>duration</th>\n",
       "    </tr>\n",
       "  </thead>\n",
       "  <tbody>\n",
       "    <tr>\n",
       "      <th>0</th>\n",
       "      <td>Indego30</td>\n",
       "      <td>One Way</td>\n",
       "      <td>0</td>\n",
       "      <td>4</td>\n",
       "      <td>7</td>\n",
       "      <td>78.1</td>\n",
       "      <td>9.2</td>\n",
       "      <td>1016.6</td>\n",
       "      <td>4.0</td>\n",
       "    </tr>\n",
       "    <tr>\n",
       "      <th>1</th>\n",
       "      <td>Indego30</td>\n",
       "      <td>One Way</td>\n",
       "      <td>0</td>\n",
       "      <td>4</td>\n",
       "      <td>7</td>\n",
       "      <td>78.1</td>\n",
       "      <td>9.2</td>\n",
       "      <td>1016.6</td>\n",
       "      <td>8.0</td>\n",
       "    </tr>\n",
       "    <tr>\n",
       "      <th>2</th>\n",
       "      <td>Indego30</td>\n",
       "      <td>One Way</td>\n",
       "      <td>0</td>\n",
       "      <td>4</td>\n",
       "      <td>7</td>\n",
       "      <td>78.1</td>\n",
       "      <td>9.2</td>\n",
       "      <td>1016.6</td>\n",
       "      <td>17.0</td>\n",
       "    </tr>\n",
       "    <tr>\n",
       "      <th>3</th>\n",
       "      <td>Walk-up</td>\n",
       "      <td>Round Trip</td>\n",
       "      <td>0</td>\n",
       "      <td>4</td>\n",
       "      <td>7</td>\n",
       "      <td>78.1</td>\n",
       "      <td>9.2</td>\n",
       "      <td>1016.6</td>\n",
       "      <td>25.0</td>\n",
       "    </tr>\n",
       "    <tr>\n",
       "      <th>4</th>\n",
       "      <td>Walk-up</td>\n",
       "      <td>One Way</td>\n",
       "      <td>0</td>\n",
       "      <td>4</td>\n",
       "      <td>7</td>\n",
       "      <td>78.1</td>\n",
       "      <td>9.2</td>\n",
       "      <td>1016.6</td>\n",
       "      <td>45.0</td>\n",
       "    </tr>\n",
       "  </tbody>\n",
       "</table>\n",
       "</div>"
      ],
      "text/plain": [
       "  passholder_type trip_route_category  hour  weekday  month  avg_temp  \\\n",
       "0        Indego30             One Way     0        4      7      78.1   \n",
       "1        Indego30             One Way     0        4      7      78.1   \n",
       "2        Indego30             One Way     0        4      7      78.1   \n",
       "3         Walk-up          Round Trip     0        4      7      78.1   \n",
       "4         Walk-up             One Way     0        4      7      78.1   \n",
       "\n",
       "   avg_wind_speed  avg_pressure  duration  \n",
       "0             9.2        1016.6       4.0  \n",
       "1             9.2        1016.6       8.0  \n",
       "2             9.2        1016.6      17.0  \n",
       "3             9.2        1016.6      25.0  \n",
       "4             9.2        1016.6      45.0  "
      ]
     },
     "execution_count": 97,
     "metadata": {},
     "output_type": "execute_result"
    }
   ],
   "source": [
    "df.head()"
   ]
  },
  {
   "cell_type": "code",
   "execution_count": 98,
   "metadata": {},
   "outputs": [
    {
     "data": {
      "text/html": [
       "<div>\n",
       "<style scoped>\n",
       "    .dataframe tbody tr th:only-of-type {\n",
       "        vertical-align: middle;\n",
       "    }\n",
       "\n",
       "    .dataframe tbody tr th {\n",
       "        vertical-align: top;\n",
       "    }\n",
       "\n",
       "    .dataframe thead th {\n",
       "        text-align: right;\n",
       "    }\n",
       "</style>\n",
       "<table border=\"1\" class=\"dataframe\">\n",
       "  <thead>\n",
       "    <tr style=\"text-align: right;\">\n",
       "      <th></th>\n",
       "      <th>hour</th>\n",
       "      <th>weekday</th>\n",
       "      <th>month</th>\n",
       "      <th>avg_temp</th>\n",
       "      <th>avg_wind_speed</th>\n",
       "      <th>avg_pressure</th>\n",
       "      <th>duration</th>\n",
       "    </tr>\n",
       "  </thead>\n",
       "  <tbody>\n",
       "    <tr>\n",
       "      <th>count</th>\n",
       "      <td>2.612692e+06</td>\n",
       "      <td>2.612692e+06</td>\n",
       "      <td>2.612692e+06</td>\n",
       "      <td>2.612692e+06</td>\n",
       "      <td>2.612692e+06</td>\n",
       "      <td>2.612692e+06</td>\n",
       "      <td>2.612692e+06</td>\n",
       "    </tr>\n",
       "    <tr>\n",
       "      <th>mean</th>\n",
       "      <td>1.388563e+01</td>\n",
       "      <td>2.853611e+00</td>\n",
       "      <td>7.048581e+00</td>\n",
       "      <td>6.489027e+01</td>\n",
       "      <td>9.139138e+00</td>\n",
       "      <td>1.017669e+03</td>\n",
       "      <td>2.267813e+01</td>\n",
       "    </tr>\n",
       "    <tr>\n",
       "      <th>std</th>\n",
       "      <td>4.992925e+00</td>\n",
       "      <td>1.929616e+00</td>\n",
       "      <td>2.940383e+00</td>\n",
       "      <td>1.667288e+01</td>\n",
       "      <td>5.093160e+00</td>\n",
       "      <td>6.865514e+00</td>\n",
       "      <td>6.828042e+01</td>\n",
       "    </tr>\n",
       "    <tr>\n",
       "      <th>min</th>\n",
       "      <td>0.000000e+00</td>\n",
       "      <td>0.000000e+00</td>\n",
       "      <td>1.000000e+00</td>\n",
       "      <td>6.100000e+00</td>\n",
       "      <td>0.000000e+00</td>\n",
       "      <td>9.837000e+02</td>\n",
       "      <td>1.000000e+00</td>\n",
       "    </tr>\n",
       "    <tr>\n",
       "      <th>25%</th>\n",
       "      <td>1.000000e+01</td>\n",
       "      <td>1.000000e+00</td>\n",
       "      <td>5.000000e+00</td>\n",
       "      <td>5.310000e+01</td>\n",
       "      <td>5.800000e+00</td>\n",
       "      <td>1.013400e+03</td>\n",
       "      <td>8.000000e+00</td>\n",
       "    </tr>\n",
       "    <tr>\n",
       "      <th>50%</th>\n",
       "      <td>1.500000e+01</td>\n",
       "      <td>3.000000e+00</td>\n",
       "      <td>7.000000e+00</td>\n",
       "      <td>6.800000e+01</td>\n",
       "      <td>8.470000e+00</td>\n",
       "      <td>1.017600e+03</td>\n",
       "      <td>1.200000e+01</td>\n",
       "    </tr>\n",
       "    <tr>\n",
       "      <th>75%</th>\n",
       "      <td>1.800000e+01</td>\n",
       "      <td>4.000000e+00</td>\n",
       "      <td>9.000000e+00</td>\n",
       "      <td>7.810000e+01</td>\n",
       "      <td>1.265000e+01</td>\n",
       "      <td>1.022000e+03</td>\n",
       "      <td>1.900000e+01</td>\n",
       "    </tr>\n",
       "    <tr>\n",
       "      <th>max</th>\n",
       "      <td>2.300000e+01</td>\n",
       "      <td>6.000000e+00</td>\n",
       "      <td>1.200000e+01</td>\n",
       "      <td>9.700000e+01</td>\n",
       "      <td>4.683000e+01</td>\n",
       "      <td>1.044400e+03</td>\n",
       "      <td>1.440000e+03</td>\n",
       "    </tr>\n",
       "  </tbody>\n",
       "</table>\n",
       "</div>"
      ],
      "text/plain": [
       "               hour       weekday         month      avg_temp  avg_wind_speed  \\\n",
       "count  2.612692e+06  2.612692e+06  2.612692e+06  2.612692e+06    2.612692e+06   \n",
       "mean   1.388563e+01  2.853611e+00  7.048581e+00  6.489027e+01    9.139138e+00   \n",
       "std    4.992925e+00  1.929616e+00  2.940383e+00  1.667288e+01    5.093160e+00   \n",
       "min    0.000000e+00  0.000000e+00  1.000000e+00  6.100000e+00    0.000000e+00   \n",
       "25%    1.000000e+01  1.000000e+00  5.000000e+00  5.310000e+01    5.800000e+00   \n",
       "50%    1.500000e+01  3.000000e+00  7.000000e+00  6.800000e+01    8.470000e+00   \n",
       "75%    1.800000e+01  4.000000e+00  9.000000e+00  7.810000e+01    1.265000e+01   \n",
       "max    2.300000e+01  6.000000e+00  1.200000e+01  9.700000e+01    4.683000e+01   \n",
       "\n",
       "       avg_pressure      duration  \n",
       "count  2.612692e+06  2.612692e+06  \n",
       "mean   1.017669e+03  2.267813e+01  \n",
       "std    6.865514e+00  6.828042e+01  \n",
       "min    9.837000e+02  1.000000e+00  \n",
       "25%    1.013400e+03  8.000000e+00  \n",
       "50%    1.017600e+03  1.200000e+01  \n",
       "75%    1.022000e+03  1.900000e+01  \n",
       "max    1.044400e+03  1.440000e+03  "
      ]
     },
     "execution_count": 98,
     "metadata": {},
     "output_type": "execute_result"
    }
   ],
   "source": [
    "df.describe()"
   ]
  },
  {
   "cell_type": "markdown",
   "metadata": {},
   "source": [
    "Check correlations"
   ]
  },
  {
   "cell_type": "code",
   "execution_count": 99,
   "metadata": {},
   "outputs": [
    {
     "data": {
      "text/plain": [
       "<matplotlib.axes._subplots.AxesSubplot at 0x1b4e95d518>"
      ]
     },
     "execution_count": 99,
     "metadata": {},
     "output_type": "execute_result"
    },
    {
     "data": {
      "image/png": "[encoded data removed]",
      "text/plain": [
       "<Figure size 2160x864 with 2 Axes>"
      ]
     },
     "metadata": {},
     "output_type": "display_data"
    }
   ],
   "source": [
    "cor_mat = df.corr()\n",
    "mask = np.array(cor_mat)\n",
    "mask[np.tril_indices_from(mask)] = False\n",
    "fig=plt.gcf()\n",
    "fig.set_size_inches(30,12)\n",
    "sns.heatmap(data=cor_mat,mask=mask,square=True,annot=True,cbar=True)"
   ]
  },
  {
   "cell_type": "code",
   "execution_count": 100,
   "metadata": {},
   "outputs": [
    {
     "name": "stdout",
     "output_type": "stream",
     "text": [
      "passholder_type :  False\n",
      "trip_route_category :  False\n",
      "hour :  False\n",
      "weekday :  False\n",
      "month :  False\n",
      "avg_temp :  False\n",
      "avg_wind_speed :  False\n",
      "avg_pressure :  False\n",
      "duration :  False\n"
     ]
    }
   ],
   "source": [
    "for i in df.columns:\n",
    "    print(\n",
    "        i, ': ',\n",
    "        df[i].isnull().any()\n",
    "    )"
   ]
  },
  {
   "cell_type": "code",
   "execution_count": 101,
   "metadata": {},
   "outputs": [],
   "source": [
    "scaler = StandardScaler()"
   ]
  },
  {
   "cell_type": "code",
   "execution_count": 102,
   "metadata": {},
   "outputs": [],
   "source": [
    "X = df[coi]\n",
    "#X = pd.get_dummies(X)\n",
    "y = df[cot]\n",
    "y = scaler.fit_transform(y)\n",
    "\n",
    "X_train, X_test, y_train, y_test = train_test_split(\n",
    "    X, y,\n",
    "    test_size=0.3, random_state=42\n",
    "    #,stratify=Y\n",
    ")"
   ]
  },
  {
   "cell_type": "code",
   "execution_count": 103,
   "metadata": {},
   "outputs": [],
   "source": [
    "class MultiColumnLabelEncoder:\n",
    "    def __init__(self, encoders = None, columns = None):\n",
    "        self.columns = columns # array of column names to encode\n",
    "        if encoders:\n",
    "            self.encoders = encoders\n",
    "        else:\n",
    "            self.encoders = {}\n",
    "\n",
    "    def fit(self,X,y=None):\n",
    "        self.check_encoders = []\n",
    "        return self # not relevant here\n",
    "\n",
    "    def transform(self, X):\n",
    "        '''\n",
    "        Transforms columns of X specified in self.columns using\n",
    "        LabelEncoder(). If no columns specified, transforms all\n",
    "        columns in X.\n",
    "        '''\n",
    "        output = X.copy()\n",
    "        if self.columns is not None:\n",
    "            for col in self.columns:\n",
    "                _le = LabelEncoder()\n",
    "                if self.encoders.get(col):\n",
    "                    output[col] = self.encoders.get(col).transform(output[col])\n",
    "                else:\n",
    "                    output[col] = _le.fit_transform(output[col])\n",
    "                    print(f'1. preparing encoder for {col}')\n",
    "                    self.encoders[col] = _le\n",
    "                    self.check_encoders.append({col: _le})\n",
    "        else:\n",
    "            for colname,col in output.iteritems():\n",
    "                _le = LabelEncoder()\n",
    "                if self.encoders.get(col):\n",
    "                    output[colname] = self.encoders.get(col).transform(col)\n",
    "                else:\n",
    "                    output[colname] = _le.fit_transform(col)\n",
    "                    print(f'2. preparing encoder for {col}')\n",
    "                    self.encoders[col] = _le\n",
    "                    self.check_encoders.append({col: _le})\n",
    "        return output\n",
    "\n",
    "    def fit_transform(self,X,y=None):\n",
    "        return self.fit(X,y).transform(X)"
   ]
  },
  {
   "cell_type": "code",
   "execution_count": 104,
   "metadata": {},
   "outputs": [
    {
     "name": "stdout",
     "output_type": "stream",
     "text": [
      "1. preparing encoder for passholder_type\n",
      "1. preparing encoder for trip_route_category\n",
      "1. preparing encoder for hour\n",
      "1. preparing encoder for weekday\n",
      "1. preparing encoder for month\n",
      "1. preparing encoder for avg_temp\n",
      "1. preparing encoder for avg_wind_speed\n",
      "1. preparing encoder for avg_pressure\n"
     ]
    }
   ],
   "source": [
    "encoders_obj = MultiColumnLabelEncoder(columns=coi)\n",
    "encoders_obj.fit_transform(df)\n",
    "dt_encoders = encoders_obj.encoders"
   ]
  },
  {
   "cell_type": "code",
   "execution_count": 105,
   "metadata": {},
   "outputs": [
    {
     "data": {
      "text/plain": [
       "['passholder_type',\n",
       " 'trip_route_category',\n",
       " 'hour',\n",
       " 'weekday',\n",
       " 'month',\n",
       " 'avg_temp',\n",
       " 'avg_wind_speed',\n",
       " 'avg_pressure']"
      ]
     },
     "execution_count": 105,
     "metadata": {},
     "output_type": "execute_result"
    }
   ],
   "source": [
    "coi"
   ]
  },
  {
   "cell_type": "code",
   "execution_count": 106,
   "metadata": {},
   "outputs": [],
   "source": [
    "bootstrap_number = [500]\n",
    "\n",
    "random_forest_classifier = GridSearchCV(\n",
    "    RandomForestRegressor(), cv=3, \n",
    "    param_grid={'n_estimators':bootstrap_number, 'n_jobs':[-1], 'max_features': [\"auto\",'sqrt','log2'] }\n",
    ")\n",
    "\n",
    "random_forest_pipeline_steps = [\n",
    "    ('encoding', MultiColumnLabelEncoder(columns=coi, encoders=dt_encoders)),\n",
    "    ('dt_classifier', random_forest_classifier)\n",
    "    # add more pipeline steps as needed\n",
    "]"
   ]
  },
  {
   "cell_type": "code",
   "execution_count": 107,
   "metadata": {},
   "outputs": [],
   "source": [
    "model_random_forest = Pipeline(random_forest_pipeline_steps)"
   ]
  },
  {
   "cell_type": "code",
   "execution_count": 108,
   "metadata": {},
   "outputs": [
    {
     "name": "stderr",
     "output_type": "stream",
     "text": [
      "/Users/leima/anaconda/lib/python3.6/site-packages/sklearn/model_selection/_validation.py:458: DataConversionWarning: A column-vector y was passed when a 1d array was expected. Please change the shape of y to (n_samples,), for example using ravel().\n",
      "  estimator.fit(X_train, y_train, **fit_params)\n",
      "/Users/leima/anaconda/lib/python3.6/site-packages/sklearn/model_selection/_validation.py:458: DataConversionWarning: A column-vector y was passed when a 1d array was expected. Please change the shape of y to (n_samples,), for example using ravel().\n",
      "  estimator.fit(X_train, y_train, **fit_params)\n",
      "/Users/leima/anaconda/lib/python3.6/site-packages/sklearn/model_selection/_validation.py:458: DataConversionWarning: A column-vector y was passed when a 1d array was expected. Please change the shape of y to (n_samples,), for example using ravel().\n",
      "  estimator.fit(X_train, y_train, **fit_params)\n",
      "/Users/leima/anaconda/lib/python3.6/site-packages/sklearn/model_selection/_validation.py:458: DataConversionWarning: A column-vector y was passed when a 1d array was expected. Please change the shape of y to (n_samples,), for example using ravel().\n",
      "  estimator.fit(X_train, y_train, **fit_params)\n",
      "/Users/leima/anaconda/lib/python3.6/site-packages/sklearn/model_selection/_validation.py:458: DataConversionWarning: A column-vector y was passed when a 1d array was expected. Please change the shape of y to (n_samples,), for example using ravel().\n",
      "  estimator.fit(X_train, y_train, **fit_params)\n",
      "/Users/leima/anaconda/lib/python3.6/site-packages/sklearn/model_selection/_validation.py:458: DataConversionWarning: A column-vector y was passed when a 1d array was expected. Please change the shape of y to (n_samples,), for example using ravel().\n",
      "  estimator.fit(X_train, y_train, **fit_params)\n",
      "/Users/leima/anaconda/lib/python3.6/site-packages/sklearn/model_selection/_validation.py:458: DataConversionWarning: A column-vector y was passed when a 1d array was expected. Please change the shape of y to (n_samples,), for example using ravel().\n",
      "  estimator.fit(X_train, y_train, **fit_params)\n",
      "/Users/leima/anaconda/lib/python3.6/site-packages/sklearn/model_selection/_validation.py:458: DataConversionWarning: A column-vector y was passed when a 1d array was expected. Please change the shape of y to (n_samples,), for example using ravel().\n",
      "  estimator.fit(X_train, y_train, **fit_params)\n",
      "/Users/leima/anaconda/lib/python3.6/site-packages/sklearn/model_selection/_validation.py:458: DataConversionWarning: A column-vector y was passed when a 1d array was expected. Please change the shape of y to (n_samples,), for example using ravel().\n",
      "  estimator.fit(X_train, y_train, **fit_params)\n",
      "/Users/leima/anaconda/lib/python3.6/site-packages/sklearn/model_selection/_search.py:739: DataConversionWarning: A column-vector y was passed when a 1d array was expected. Please change the shape of y to (n_samples,), for example using ravel().\n",
      "  self.best_estimator_.fit(X, y, **fit_params)\n"
     ]
    },
    {
     "data": {
      "text/plain": [
       "Pipeline(memory=None,\n",
       "     steps=[('encoding', <__main__.MultiColumnLabelEncoder object at 0x1ba850c470>), ('dt_classifier', GridSearchCV(cv=3, error_score='raise',\n",
       "       estimator=RandomForestRegressor(bootstrap=True, criterion='mse', max_depth=None,\n",
       "           max_features='auto', max_leaf_nodes=None,\n",
       "           min_impuri...   pre_dispatch='2*n_jobs', refit=True, return_train_score='warn',\n",
       "       scoring=None, verbose=0))])"
      ]
     },
     "execution_count": 108,
     "metadata": {},
     "output_type": "execute_result"
    }
   ],
   "source": [
    "model_random_forest.fit(X_train[:10000], y_train[:10000])"
   ]
  },
  {
   "cell_type": "code",
   "execution_count": 109,
   "metadata": {},
   "outputs": [
    {
     "name": "stdout",
     "output_type": "stream",
     "text": [
      "1.0920891697043222\n"
     ]
    }
   ],
   "source": [
    "model_random_forest_pred = model_random_forest.predict(X_test[:1000])\n",
    "print((np.sqrt(mean_squared_error(model_random_forest_pred,y_test[:1000]))))"
   ]
  },
  {
   "cell_type": "code",
   "execution_count": 110,
   "metadata": {},
   "outputs": [
    {
     "data": {
      "text/plain": [
       "-0.012973925261622776"
      ]
     },
     "execution_count": 110,
     "metadata": {},
     "output_type": "execute_result"
    }
   ],
   "source": [
    "model_random_forest.score(X_test[:1000], y_test[:1000])"
   ]
  },
  {
   "cell_type": "code",
   "execution_count": 111,
   "metadata": {},
   "outputs": [],
   "source": [
    "n_neighbors = [\n",
    "    5,10,15,20,25,30,35,40,45,50\n",
    "]\n",
    "\n",
    "knn_regressor = GridSearchCV(\n",
    "    KNeighborsRegressor(), cv=3, \n",
    "    param_grid={'n_neighbors':n_neighbors,'n_jobs':[-1]}\n",
    ")\n",
    "\n",
    "knn_regressor_pipeline_steps = [\n",
    "    ('encoding', MultiColumnLabelEncoder(columns=coi, encoders=dt_encoders)),\n",
    "    ('knn_regressor', knn_regressor)\n",
    "    # add more pipeline steps as needed\n",
    "]"
   ]
  },
  {
   "cell_type": "code",
   "execution_count": 112,
   "metadata": {},
   "outputs": [],
   "source": [
    "model_knn_regressor = Pipeline(knn_regressor_pipeline_steps)"
   ]
  },
  {
   "cell_type": "code",
   "execution_count": 113,
   "metadata": {},
   "outputs": [
    {
     "data": {
      "text/plain": [
       "Pipeline(memory=None,\n",
       "     steps=[('encoding', <__main__.MultiColumnLabelEncoder object at 0x1b09b6fa20>), ('knn_regressor', GridSearchCV(cv=3, error_score='raise',\n",
       "       estimator=KNeighborsRegressor(algorithm='auto', leaf_size=30, metric='minkowski',\n",
       "          metric_params=None, n_jobs=1, n_neighbors=5, p=2,\n",
       "          wei...   pre_dispatch='2*n_jobs', refit=True, return_train_score='warn',\n",
       "       scoring=None, verbose=0))])"
      ]
     },
     "execution_count": 113,
     "metadata": {},
     "output_type": "execute_result"
    }
   ],
   "source": [
    "model_knn_regressor.fit(X_train[:200000], y_train[:200000])"
   ]
  },
  {
   "cell_type": "code",
   "execution_count": 114,
   "metadata": {},
   "outputs": [
    {
     "data": {
      "text/plain": [
       "-0.01300264781170801"
      ]
     },
     "execution_count": 114,
     "metadata": {},
     "output_type": "execute_result"
    }
   ],
   "source": [
    "model_knn_regressor.score(X_test[:100000], y_test[:100000])"
   ]
  },
  {
   "cell_type": "code",
   "execution_count": 115,
   "metadata": {},
   "outputs": [
    {
     "name": "stdout",
     "output_type": "stream",
     "text": [
      "0.9491906935863039\n"
     ]
    }
   ],
   "source": [
    "model_knn_regressor_pred = model_knn_regressor.predict(X_test[:10000])\n",
    "print((np.sqrt(mean_squared_error(model_knn_regressor_pred,y_test[:10000]))))"
   ]
  },
  {
   "cell_type": "code",
   "execution_count": null,
   "metadata": {},
   "outputs": [],
   "source": []
  },
  {
   "cell_type": "code",
   "execution_count": null,
   "metadata": {},
   "outputs": [],
   "source": []
  }
 ],
 "metadata": {
  "kernelspec": {
   "display_name": "Python 3",
   "language": "python",
   "name": "python3"
  },
  "language_info": {
   "codemirror_mode": {
    "name": "ipython",
    "version": 3
   },
   "file_extension": ".py",
   "mimetype": "text/x-python",
   "name": "python",
   "nbconvert_exporter": "python",
   "pygments_lexer": "ipython3",
   "version": "3.6.8"
  }
 },
 "nbformat": 4,
 "nbformat_minor": 2
}
