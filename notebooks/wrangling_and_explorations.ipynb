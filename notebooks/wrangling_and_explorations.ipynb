{
 "cells": [
  {
   "cell_type": "code",
   "execution_count": 1,
   "metadata": {},
   "outputs": [],
   "source": [
    "import pandas as pd"
   ]
  },
  {
   "cell_type": "code",
   "execution_count": 2,
   "metadata": {},
   "outputs": [],
   "source": [
    "import seaborn as sns"
   ]
  },
  {
   "cell_type": "code",
   "execution_count": 3,
   "metadata": {},
   "outputs": [],
   "source": [
    "import matplotlib.pyplot as plt"
   ]
  },
  {
   "cell_type": "code",
   "execution_count": 4,
   "metadata": {},
   "outputs": [],
   "source": [
    "import datetime\n",
    "import numpy as np"
   ]
  },
  {
   "cell_type": "code",
   "execution_count": 5,
   "metadata": {},
   "outputs": [],
   "source": [
    "from numpy import __version__"
   ]
  },
  {
   "cell_type": "code",
   "execution_count": 6,
   "metadata": {},
   "outputs": [
    {
     "data": {
      "text/plain": [
       "'1.16.4'"
      ]
     },
     "execution_count": 6,
     "metadata": {},
     "output_type": "execute_result"
    }
   ],
   "source": [
    "__version__"
   ]
  },
  {
   "cell_type": "code",
   "execution_count": 7,
   "metadata": {},
   "outputs": [],
   "source": [
    "from sklearn.model_selection import train_test_split\n",
    "from sklearn.pipeline import Pipeline\n",
    "from sklearn.preprocessing import StandardScaler, LabelEncoder\n",
    "from sklearn import metrics\n",
    "from sklearn import utils"
   ]
  },
  {
   "cell_type": "markdown",
   "metadata": {},
   "source": [
    "## Load Data, Again"
   ]
  },
  {
   "cell_type": "code",
   "execution_count": 8,
   "metadata": {},
   "outputs": [
    {
     "name": "stderr",
     "output_type": "stream",
     "text": [
      "/Users/leima/anaconda/lib/python3.6/site-packages/IPython/core/interactiveshell.py:2728: DtypeWarning: Columns (0,3,4,9,10) have mixed types. Specify dtype option on import or set low_memory=False.\n",
      "  interactivity=interactivity, compiler=compiler, result=result)\n"
     ]
    }
   ],
   "source": [
    "df = pd.read_csv('/tmp/rideindego_all.csv')"
   ]
  },
  {
   "cell_type": "markdown",
   "metadata": {},
   "source": [
    "## Standard Bikes"
   ]
  },
  {
   "cell_type": "markdown",
   "metadata": {},
   "source": [
    "We explore the attributes of standard bike and electric bikes separately before we do a combined research."
   ]
  },
  {
   "cell_type": "code",
   "execution_count": 9,
   "metadata": {},
   "outputs": [
    {
     "name": "stderr",
     "output_type": "stream",
     "text": [
      "/Users/leima/anaconda/lib/python3.6/site-packages/ipykernel_launcher.py:2: SettingWithCopyWarning: \n",
      "A value is trying to be set on a copy of a slice from a DataFrame.\n",
      "Try using .loc[row_indexer,col_indexer] = value instead\n",
      "\n",
      "See the caveats in the documentation: http://pandas.pydata.org/pandas-docs/stable/indexing.html#indexing-view-versus-copy\n",
      "  \n",
      "/Users/leima/anaconda/lib/python3.6/site-packages/pandas/core/generic.py:4355: SettingWithCopyWarning: \n",
      "A value is trying to be set on a copy of a slice from a DataFrame\n",
      "\n",
      "See the caveats in the documentation: http://pandas.pydata.org/pandas-docs/stable/indexing.html#indexing-view-versus-copy\n",
      "  self._update_inplace(new_data)\n"
     ]
    }
   ],
   "source": [
    "df_standard = df.loc[df.bike_type == 'standard']\n",
    "df_standard['date'] = pd.to_datetime(df_standard.date)\n",
    "df_standard['start_station_id'].fillna(0, inplace=True)"
   ]
  },
  {
   "cell_type": "code",
   "execution_count": 10,
   "metadata": {},
   "outputs": [
    {
     "data": {
      "text/html": [
       "<div>\n",
       "<style scoped>\n",
       "    .dataframe tbody tr th:only-of-type {\n",
       "        vertical-align: middle;\n",
       "    }\n",
       "\n",
       "    .dataframe tbody tr th {\n",
       "        vertical-align: top;\n",
       "    }\n",
       "\n",
       "    .dataframe thead th {\n",
       "        text-align: right;\n",
       "    }\n",
       "</style>\n",
       "<table border=\"1\" class=\"dataframe\">\n",
       "  <thead>\n",
       "    <tr style=\"text-align: right;\">\n",
       "      <th></th>\n",
       "      <th>bike_id</th>\n",
       "      <th>bike_type</th>\n",
       "      <th>duration</th>\n",
       "      <th>end_lat</th>\n",
       "      <th>end_lon</th>\n",
       "      <th>end_station_id</th>\n",
       "      <th>end_time</th>\n",
       "      <th>passholder_type</th>\n",
       "      <th>plan_duration</th>\n",
       "      <th>start_lat</th>\n",
       "      <th>start_lon</th>\n",
       "      <th>start_station_id</th>\n",
       "      <th>start_time</th>\n",
       "      <th>trip_id</th>\n",
       "      <th>trip_route_category</th>\n",
       "      <th>date</th>\n",
       "      <th>hour</th>\n",
       "      <th>weekday</th>\n",
       "      <th>month</th>\n",
       "    </tr>\n",
       "  </thead>\n",
       "  <tbody>\n",
       "    <tr>\n",
       "      <th>0</th>\n",
       "      <td>3640</td>\n",
       "      <td>standard</td>\n",
       "      <td>4.0</td>\n",
       "      <td>39.9384</td>\n",
       "      <td>-75.173271</td>\n",
       "      <td>3064</td>\n",
       "      <td>7/1/2016 0:11</td>\n",
       "      <td>Indego30</td>\n",
       "      <td>30</td>\n",
       "      <td>39.946331</td>\n",
       "      <td>-75.1698</td>\n",
       "      <td>3063.0</td>\n",
       "      <td>7/1/2016 0:07</td>\n",
       "      <td>25183529</td>\n",
       "      <td>One Way</td>\n",
       "      <td>2016-07-01</td>\n",
       "      <td>0</td>\n",
       "      <td>4</td>\n",
       "      <td>7</td>\n",
       "    </tr>\n",
       "    <tr>\n",
       "      <th>1</th>\n",
       "      <td>3349</td>\n",
       "      <td>standard</td>\n",
       "      <td>8.0</td>\n",
       "      <td>39.94138</td>\n",
       "      <td>-75.145638</td>\n",
       "      <td>3026</td>\n",
       "      <td>7/1/2016 0:18</td>\n",
       "      <td>Indego30</td>\n",
       "      <td>30</td>\n",
       "      <td>39.95295</td>\n",
       "      <td>-75.139793</td>\n",
       "      <td>3124.0</td>\n",
       "      <td>7/1/2016 0:10</td>\n",
       "      <td>25183528</td>\n",
       "      <td>One Way</td>\n",
       "      <td>2016-07-01</td>\n",
       "      <td>0</td>\n",
       "      <td>4</td>\n",
       "      <td>7</td>\n",
       "    </tr>\n",
       "    <tr>\n",
       "      <th>2</th>\n",
       "      <td>5279</td>\n",
       "      <td>standard</td>\n",
       "      <td>17.0</td>\n",
       "      <td>39.933151</td>\n",
       "      <td>-75.162483</td>\n",
       "      <td>3034</td>\n",
       "      <td>7/1/2016 0:28</td>\n",
       "      <td>Indego30</td>\n",
       "      <td>30</td>\n",
       "      <td>39.93082</td>\n",
       "      <td>-75.174744</td>\n",
       "      <td>3043.0</td>\n",
       "      <td>7/1/2016 0:11</td>\n",
       "      <td>25183527</td>\n",
       "      <td>One Way</td>\n",
       "      <td>2016-07-01</td>\n",
       "      <td>0</td>\n",
       "      <td>4</td>\n",
       "      <td>7</td>\n",
       "    </tr>\n",
       "    <tr>\n",
       "      <th>3</th>\n",
       "      <td>5198</td>\n",
       "      <td>standard</td>\n",
       "      <td>25.0</td>\n",
       "      <td>39.94138</td>\n",
       "      <td>-75.145638</td>\n",
       "      <td>3026</td>\n",
       "      <td>7/1/2016 0:38</td>\n",
       "      <td>Walk-up</td>\n",
       "      <td>0</td>\n",
       "      <td>39.94138</td>\n",
       "      <td>-75.145638</td>\n",
       "      <td>3026.0</td>\n",
       "      <td>7/1/2016 0:13</td>\n",
       "      <td>25183526</td>\n",
       "      <td>Round Trip</td>\n",
       "      <td>2016-07-01</td>\n",
       "      <td>0</td>\n",
       "      <td>4</td>\n",
       "      <td>7</td>\n",
       "    </tr>\n",
       "    <tr>\n",
       "      <th>4</th>\n",
       "      <td>3382</td>\n",
       "      <td>standard</td>\n",
       "      <td>45.0</td>\n",
       "      <td>39.947109</td>\n",
       "      <td>-75.166183</td>\n",
       "      <td>3010</td>\n",
       "      <td>7/1/2016 0:58</td>\n",
       "      <td>Walk-up</td>\n",
       "      <td>0</td>\n",
       "      <td>39.954239</td>\n",
       "      <td>-75.161377</td>\n",
       "      <td>3037.0</td>\n",
       "      <td>7/1/2016 0:13</td>\n",
       "      <td>25183525</td>\n",
       "      <td>One Way</td>\n",
       "      <td>2016-07-01</td>\n",
       "      <td>0</td>\n",
       "      <td>4</td>\n",
       "      <td>7</td>\n",
       "    </tr>\n",
       "  </tbody>\n",
       "</table>\n",
       "</div>"
      ],
      "text/plain": [
       "  bike_id bike_type  duration    end_lat     end_lon  end_station_id  \\\n",
       "0    3640  standard       4.0    39.9384  -75.173271            3064   \n",
       "1    3349  standard       8.0   39.94138  -75.145638            3026   \n",
       "2    5279  standard      17.0  39.933151  -75.162483            3034   \n",
       "3    5198  standard      25.0   39.94138  -75.145638            3026   \n",
       "4    3382  standard      45.0  39.947109  -75.166183            3010   \n",
       "\n",
       "        end_time passholder_type  plan_duration  start_lat   start_lon  \\\n",
       "0  7/1/2016 0:11        Indego30             30  39.946331    -75.1698   \n",
       "1  7/1/2016 0:18        Indego30             30   39.95295  -75.139793   \n",
       "2  7/1/2016 0:28        Indego30             30   39.93082  -75.174744   \n",
       "3  7/1/2016 0:38         Walk-up              0   39.94138  -75.145638   \n",
       "4  7/1/2016 0:58         Walk-up              0  39.954239  -75.161377   \n",
       "\n",
       "   start_station_id     start_time   trip_id trip_route_category       date  \\\n",
       "0            3063.0  7/1/2016 0:07  25183529             One Way 2016-07-01   \n",
       "1            3124.0  7/1/2016 0:10  25183528             One Way 2016-07-01   \n",
       "2            3043.0  7/1/2016 0:11  25183527             One Way 2016-07-01   \n",
       "3            3026.0  7/1/2016 0:13  25183526          Round Trip 2016-07-01   \n",
       "4            3037.0  7/1/2016 0:13  25183525             One Way 2016-07-01   \n",
       "\n",
       "   hour  weekday  month  \n",
       "0     0        4      7  \n",
       "1     0        4      7  \n",
       "2     0        4      7  \n",
       "3     0        4      7  \n",
       "4     0        4      7  "
      ]
     },
     "execution_count": 10,
     "metadata": {},
     "output_type": "execute_result"
    }
   ],
   "source": [
    "df_standard.head()"
   ]
  },
  {
   "cell_type": "markdown",
   "metadata": {},
   "source": [
    "### Select the Columns of Interest"
   ]
  },
  {
   "cell_type": "code",
   "execution_count": 11,
   "metadata": {},
   "outputs": [
    {
     "data": {
      "text/plain": [
       "array(['bike_id', 'bike_type', 'duration', 'end_lat', 'end_lon',\n",
       "       'end_station_id', 'end_time', 'passholder_type', 'plan_duration',\n",
       "       'start_lat', 'start_lon', 'start_station_id', 'start_time',\n",
       "       'trip_id', 'trip_route_category', 'date', 'hour', 'weekday',\n",
       "       'month'], dtype=object)"
      ]
     },
     "execution_count": 11,
     "metadata": {},
     "output_type": "execute_result"
    }
   ],
   "source": [
    "df_standard.columns.values"
   ]
  },
  {
   "cell_type": "code",
   "execution_count": 12,
   "metadata": {},
   "outputs": [],
   "source": [
    "coi = [\n",
    "    'duration', 'start_station_id', 'passholder_type', 'plan_duration', \n",
    "    'trip_route_category', 'date', 'hour', 'weekday', 'month'\n",
    "]\n",
    "df_standard = df_standard[coi]"
   ]
  },
  {
   "cell_type": "code",
   "execution_count": 13,
   "metadata": {},
   "outputs": [
    {
     "data": {
      "text/html": [
       "<div>\n",
       "<style scoped>\n",
       "    .dataframe tbody tr th:only-of-type {\n",
       "        vertical-align: middle;\n",
       "    }\n",
       "\n",
       "    .dataframe tbody tr th {\n",
       "        vertical-align: top;\n",
       "    }\n",
       "\n",
       "    .dataframe thead th {\n",
       "        text-align: right;\n",
       "    }\n",
       "</style>\n",
       "<table border=\"1\" class=\"dataframe\">\n",
       "  <thead>\n",
       "    <tr style=\"text-align: right;\">\n",
       "      <th></th>\n",
       "      <th>duration</th>\n",
       "      <th>start_station_id</th>\n",
       "      <th>plan_duration</th>\n",
       "      <th>hour</th>\n",
       "      <th>weekday</th>\n",
       "      <th>month</th>\n",
       "    </tr>\n",
       "  </thead>\n",
       "  <tbody>\n",
       "    <tr>\n",
       "      <th>count</th>\n",
       "      <td>2.637706e+06</td>\n",
       "      <td>2.637706e+06</td>\n",
       "      <td>2.637706e+06</td>\n",
       "      <td>2.637706e+06</td>\n",
       "      <td>2.637706e+06</td>\n",
       "      <td>2.637706e+06</td>\n",
       "    </tr>\n",
       "    <tr>\n",
       "      <th>mean</th>\n",
       "      <td>2.267345e+01</td>\n",
       "      <td>3.055892e+03</td>\n",
       "      <td>4.476082e+01</td>\n",
       "      <td>1.388234e+01</td>\n",
       "      <td>2.855778e+00</td>\n",
       "      <td>7.048073e+00</td>\n",
       "    </tr>\n",
       "    <tr>\n",
       "      <th>std</th>\n",
       "      <td>6.822291e+01</td>\n",
       "      <td>2.309385e+02</td>\n",
       "      <td>8.026433e+01</td>\n",
       "      <td>4.993990e+00</td>\n",
       "      <td>1.930236e+00</td>\n",
       "      <td>2.934764e+00</td>\n",
       "    </tr>\n",
       "    <tr>\n",
       "      <th>min</th>\n",
       "      <td>1.000000e+00</td>\n",
       "      <td>0.000000e+00</td>\n",
       "      <td>0.000000e+00</td>\n",
       "      <td>0.000000e+00</td>\n",
       "      <td>0.000000e+00</td>\n",
       "      <td>1.000000e+00</td>\n",
       "    </tr>\n",
       "    <tr>\n",
       "      <th>25%</th>\n",
       "      <td>8.000000e+00</td>\n",
       "      <td>3.023000e+03</td>\n",
       "      <td>3.000000e+01</td>\n",
       "      <td>1.000000e+01</td>\n",
       "      <td>1.000000e+00</td>\n",
       "      <td>5.000000e+00</td>\n",
       "    </tr>\n",
       "    <tr>\n",
       "      <th>50%</th>\n",
       "      <td>1.200000e+01</td>\n",
       "      <td>3.047000e+03</td>\n",
       "      <td>3.000000e+01</td>\n",
       "      <td>1.500000e+01</td>\n",
       "      <td>3.000000e+00</td>\n",
       "      <td>7.000000e+00</td>\n",
       "    </tr>\n",
       "    <tr>\n",
       "      <th>75%</th>\n",
       "      <td>1.900000e+01</td>\n",
       "      <td>3.070000e+03</td>\n",
       "      <td>3.000000e+01</td>\n",
       "      <td>1.800000e+01</td>\n",
       "      <td>4.000000e+00</td>\n",
       "      <td>9.000000e+00</td>\n",
       "    </tr>\n",
       "    <tr>\n",
       "      <th>max</th>\n",
       "      <td>1.440000e+03</td>\n",
       "      <td>9.001800e+04</td>\n",
       "      <td>3.650000e+02</td>\n",
       "      <td>2.300000e+01</td>\n",
       "      <td>6.000000e+00</td>\n",
       "      <td>1.200000e+01</td>\n",
       "    </tr>\n",
       "  </tbody>\n",
       "</table>\n",
       "</div>"
      ],
      "text/plain": [
       "           duration  start_station_id  plan_duration          hour  \\\n",
       "count  2.637706e+06      2.637706e+06   2.637706e+06  2.637706e+06   \n",
       "mean   2.267345e+01      3.055892e+03   4.476082e+01  1.388234e+01   \n",
       "std    6.822291e+01      2.309385e+02   8.026433e+01  4.993990e+00   \n",
       "min    1.000000e+00      0.000000e+00   0.000000e+00  0.000000e+00   \n",
       "25%    8.000000e+00      3.023000e+03   3.000000e+01  1.000000e+01   \n",
       "50%    1.200000e+01      3.047000e+03   3.000000e+01  1.500000e+01   \n",
       "75%    1.900000e+01      3.070000e+03   3.000000e+01  1.800000e+01   \n",
       "max    1.440000e+03      9.001800e+04   3.650000e+02  2.300000e+01   \n",
       "\n",
       "            weekday         month  \n",
       "count  2.637706e+06  2.637706e+06  \n",
       "mean   2.855778e+00  7.048073e+00  \n",
       "std    1.930236e+00  2.934764e+00  \n",
       "min    0.000000e+00  1.000000e+00  \n",
       "25%    1.000000e+00  5.000000e+00  \n",
       "50%    3.000000e+00  7.000000e+00  \n",
       "75%    4.000000e+00  9.000000e+00  \n",
       "max    6.000000e+00  1.200000e+01  "
      ]
     },
     "execution_count": 13,
     "metadata": {},
     "output_type": "execute_result"
    }
   ],
   "source": [
    "df_standard.describe()"
   ]
  },
  {
   "cell_type": "code",
   "execution_count": 14,
   "metadata": {},
   "outputs": [
    {
     "name": "stdout",
     "output_type": "stream",
     "text": [
      "<class 'pandas.core.frame.DataFrame'>\n",
      "Int64Index: 2637706 entries, 0 to 2642085\n",
      "Data columns (total 9 columns):\n",
      "duration               float64\n",
      "start_station_id       float64\n",
      "passholder_type        object\n",
      "plan_duration          int64\n",
      "trip_route_category    object\n",
      "date                   datetime64[ns]\n",
      "hour                   int64\n",
      "weekday                int64\n",
      "month                  int64\n",
      "dtypes: datetime64[ns](1), float64(2), int64(4), object(2)\n",
      "memory usage: 201.2+ MB\n"
     ]
    }
   ],
   "source": [
    "df_standard.info()"
   ]
  },
  {
   "cell_type": "code",
   "execution_count": 15,
   "metadata": {},
   "outputs": [
    {
     "name": "stdout",
     "output_type": "stream",
     "text": [
      "duration :  False\n",
      "start_station_id :  False\n",
      "passholder_type :  False\n",
      "plan_duration :  False\n",
      "trip_route_category :  False\n",
      "date :  False\n",
      "hour :  False\n",
      "weekday :  False\n",
      "month :  False\n"
     ]
    }
   ],
   "source": [
    "for i in df_standard.columns:\n",
    "    print(\n",
    "        i, ': ',\n",
    "        df_standard[i].isnull().any()\n",
    "    )"
   ]
  },
  {
   "cell_type": "markdown",
   "metadata": {},
   "source": [
    "### Does the Station Matter?"
   ]
  },
  {
   "cell_type": "code",
   "execution_count": 16,
   "metadata": {},
   "outputs": [],
   "source": [
    "df_groupby_start_station_id = df_standard.groupby('start_station_id')\n",
    "df_groupby_start_station_id_median = df_groupby_start_station_id.median()"
   ]
  },
  {
   "cell_type": "code",
   "execution_count": 17,
   "metadata": {},
   "outputs": [
    {
     "data": {
      "text/html": [
       "<div>\n",
       "<style scoped>\n",
       "    .dataframe tbody tr th:only-of-type {\n",
       "        vertical-align: middle;\n",
       "    }\n",
       "\n",
       "    .dataframe tbody tr th {\n",
       "        vertical-align: top;\n",
       "    }\n",
       "\n",
       "    .dataframe thead th {\n",
       "        text-align: right;\n",
       "    }\n",
       "</style>\n",
       "<table border=\"1\" class=\"dataframe\">\n",
       "  <thead>\n",
       "    <tr style=\"text-align: right;\">\n",
       "      <th></th>\n",
       "      <th>duration</th>\n",
       "      <th>plan_duration</th>\n",
       "      <th>hour</th>\n",
       "      <th>weekday</th>\n",
       "      <th>month</th>\n",
       "    </tr>\n",
       "    <tr>\n",
       "      <th>start_station_id</th>\n",
       "      <th></th>\n",
       "      <th></th>\n",
       "      <th></th>\n",
       "      <th></th>\n",
       "      <th></th>\n",
       "    </tr>\n",
       "  </thead>\n",
       "  <tbody>\n",
       "    <tr>\n",
       "      <th>3106.0</th>\n",
       "      <td>29.0</td>\n",
       "      <td>30.0</td>\n",
       "      <td>14.0</td>\n",
       "      <td>4.0</td>\n",
       "      <td>7.0</td>\n",
       "    </tr>\n",
       "    <tr>\n",
       "      <th>3111.0</th>\n",
       "      <td>28.0</td>\n",
       "      <td>30.0</td>\n",
       "      <td>14.0</td>\n",
       "      <td>4.0</td>\n",
       "      <td>7.0</td>\n",
       "    </tr>\n",
       "    <tr>\n",
       "      <th>3186.0</th>\n",
       "      <td>27.0</td>\n",
       "      <td>30.0</td>\n",
       "      <td>15.0</td>\n",
       "      <td>3.0</td>\n",
       "      <td>8.0</td>\n",
       "    </tr>\n",
       "    <tr>\n",
       "      <th>3057.0</th>\n",
       "      <td>26.0</td>\n",
       "      <td>1.0</td>\n",
       "      <td>15.0</td>\n",
       "      <td>4.0</td>\n",
       "      <td>7.0</td>\n",
       "    </tr>\n",
       "    <tr>\n",
       "      <th>3096.0</th>\n",
       "      <td>24.0</td>\n",
       "      <td>30.0</td>\n",
       "      <td>14.0</td>\n",
       "      <td>3.0</td>\n",
       "      <td>8.0</td>\n",
       "    </tr>\n",
       "    <tr>\n",
       "      <th>3109.0</th>\n",
       "      <td>23.0</td>\n",
       "      <td>30.0</td>\n",
       "      <td>13.0</td>\n",
       "      <td>3.0</td>\n",
       "      <td>8.0</td>\n",
       "    </tr>\n",
       "    <tr>\n",
       "      <th>3117.0</th>\n",
       "      <td>23.0</td>\n",
       "      <td>30.0</td>\n",
       "      <td>15.0</td>\n",
       "      <td>3.0</td>\n",
       "      <td>7.0</td>\n",
       "    </tr>\n",
       "    <tr>\n",
       "      <th>3000.0</th>\n",
       "      <td>22.0</td>\n",
       "      <td>30.0</td>\n",
       "      <td>17.0</td>\n",
       "      <td>4.0</td>\n",
       "      <td>7.0</td>\n",
       "    </tr>\n",
       "    <tr>\n",
       "      <th>3188.0</th>\n",
       "      <td>22.0</td>\n",
       "      <td>30.0</td>\n",
       "      <td>16.0</td>\n",
       "      <td>4.0</td>\n",
       "      <td>9.0</td>\n",
       "    </tr>\n",
       "    <tr>\n",
       "      <th>3093.0</th>\n",
       "      <td>22.0</td>\n",
       "      <td>30.0</td>\n",
       "      <td>14.0</td>\n",
       "      <td>3.0</td>\n",
       "      <td>7.0</td>\n",
       "    </tr>\n",
       "  </tbody>\n",
       "</table>\n",
       "</div>"
      ],
      "text/plain": [
       "                  duration  plan_duration  hour  weekday  month\n",
       "start_station_id                                               \n",
       "3106.0                29.0           30.0  14.0      4.0    7.0\n",
       "3111.0                28.0           30.0  14.0      4.0    7.0\n",
       "3186.0                27.0           30.0  15.0      3.0    8.0\n",
       "3057.0                26.0            1.0  15.0      4.0    7.0\n",
       "3096.0                24.0           30.0  14.0      3.0    8.0\n",
       "3109.0                23.0           30.0  13.0      3.0    8.0\n",
       "3117.0                23.0           30.0  15.0      3.0    7.0\n",
       "3000.0                22.0           30.0  17.0      4.0    7.0\n",
       "3188.0                22.0           30.0  16.0      4.0    9.0\n",
       "3093.0                22.0           30.0  14.0      3.0    7.0"
      ]
     },
     "execution_count": 17,
     "metadata": {},
     "output_type": "execute_result"
    }
   ],
   "source": [
    "df_groupby_start_station_id_median.sort_values(by='duration', ascending=False).head(10)"
   ]
  },
  {
   "cell_type": "code",
   "execution_count": 18,
   "metadata": {},
   "outputs": [
    {
     "data": {
      "text/plain": [
       "<matplotlib.axes._subplots.AxesSubplot at 0x1a14d05630>"
      ]
     },
     "execution_count": 18,
     "metadata": {},
     "output_type": "execute_result"
    },
    {
     "data": {
      "image/png": "[encoded data removed]",
      "text/plain": [
       "<Figure size 720x444.96 with 1 Axes>"
      ]
     },
     "metadata": {},
     "output_type": "display_data"
    }
   ],
   "source": [
    "fig, ax=plt.subplots(figsize=(10,6.18))\n",
    "df_groupby_start_station_id_median[['duration']].sort_values(by='duration', ascending=False).reset_index()[['duration']].plot(ax=ax, style='.')\n",
    "#ax.set_xlim([2800,3400])"
   ]
  },
  {
   "cell_type": "code",
   "execution_count": 19,
   "metadata": {},
   "outputs": [
    {
     "data": {
      "text/plain": [
       "<matplotlib.axes._subplots.AxesSubplot at 0x1a14ef99b0>"
      ]
     },
     "execution_count": 19,
     "metadata": {},
     "output_type": "execute_result"
    },
    {
     "data": {
      "image/png": "[encoded data removed]",
      "text/plain": [
       "<Figure size 720x444.96 with 1 Axes>"
      ]
     },
     "metadata": {},
     "output_type": "display_data"
    }
   ],
   "source": [
    "fig, ax=plt.subplots(figsize=(10,6.18))\n",
    "df_standard.groupby('start_station_id').agg([np.median, np.std])['duration'].plot.scatter(x='median',y='std',ax=ax)"
   ]
  },
  {
   "cell_type": "code",
   "execution_count": 20,
   "metadata": {},
   "outputs": [
    {
     "name": "stderr",
     "output_type": "stream",
     "text": [
      "/Users/leima/anaconda/lib/python3.6/site-packages/matplotlib/axes/_axes.py:6462: UserWarning: The 'normed' kwarg is deprecated, and has been replaced by the 'density' kwarg.\n",
      "  warnings.warn(\"The 'normed' kwarg is deprecated, and has been \"\n",
      "/Users/leima/anaconda/lib/python3.6/site-packages/scipy/stats/stats.py:1706: FutureWarning: Using a non-tuple sequence for multidimensional indexing is deprecated; use `arr[tuple(seq)]` instead of `arr[seq]`. In the future this will be interpreted as an array index, `arr[np.array(seq)]`, which will result either in an error or a different result.\n",
      "  return np.add.reduce(sorted[indexer] * weights, axis=axis) / sumval\n"
     ]
    },
    {
     "data": {
      "text/plain": [
       "<matplotlib.axes._subplots.AxesSubplot at 0x1a14f6fd30>"
      ]
     },
     "execution_count": 20,
     "metadata": {},
     "output_type": "execute_result"
    },
    {
     "data": {
      "image/png": "[encoded data removed]",
      "text/plain": [
       "<Figure size 432x288 with 1 Axes>"
      ]
     },
     "metadata": {},
     "output_type": "display_data"
    }
   ],
   "source": [
    "fig, ax = plt.subplots()\n",
    "sns.distplot(df_groupby_start_station_id_median['duration'], bins=20, rug=True, ax=ax)"
   ]
  },
  {
   "cell_type": "code",
   "execution_count": 21,
   "metadata": {},
   "outputs": [
    {
     "name": "stderr",
     "output_type": "stream",
     "text": [
      "/Users/leima/anaconda/lib/python3.6/site-packages/matplotlib/axes/_axes.py:6462: UserWarning: The 'normed' kwarg is deprecated, and has been replaced by the 'density' kwarg.\n",
      "  warnings.warn(\"The 'normed' kwarg is deprecated, and has been \"\n",
      "/Users/leima/anaconda/lib/python3.6/site-packages/scipy/stats/stats.py:1706: FutureWarning: Using a non-tuple sequence for multidimensional indexing is deprecated; use `arr[tuple(seq)]` instead of `arr[seq]`. In the future this will be interpreted as an array index, `arr[np.array(seq)]`, which will result either in an error or a different result.\n",
      "  return np.add.reduce(sorted[indexer] * weights, axis=axis) / sumval\n"
     ]
    },
    {
     "data": {
      "text/plain": [
       "<matplotlib.axes._subplots.AxesSubplot at 0x1a15bd5be0>"
      ]
     },
     "execution_count": 21,
     "metadata": {},
     "output_type": "execute_result"
    },
    {
     "data": {
      "image/png": "[encoded data removed]",
      "text/plain": [
       "<Figure size 432x288 with 1 Axes>"
      ]
     },
     "metadata": {},
     "output_type": "display_data"
    }
   ],
   "source": [
    "fig, ax = plt.subplots()\n",
    "sns.distplot(df_groupby_start_station_id_median.loc[df_groupby_start_station_id_median.duration<=100]['duration'], bins=20, rug=True, ax=ax)"
   ]
  },
  {
   "cell_type": "code",
   "execution_count": 22,
   "metadata": {},
   "outputs": [
    {
     "data": {
      "text/plain": [
       "12.0"
      ]
     },
     "execution_count": 22,
     "metadata": {},
     "output_type": "execute_result"
    }
   ],
   "source": [
    "df_groupby_start_station_id_median.sort_values(by='duration', ascending=False)['duration'].median()"
   ]
  },
  {
   "cell_type": "markdown",
   "metadata": {},
   "source": [
    "Looks interesting. It is most likely to be related to **regions of these bikes** but it requires more explorations on geodata."
   ]
  },
  {
   "cell_type": "markdown",
   "metadata": {},
   "source": [
    "### Seasonality"
   ]
  },
  {
   "cell_type": "markdown",
   "metadata": {},
   "source": [
    "There is no need to convert strings to datetime at this moment since we are just doing a quick test here."
   ]
  },
  {
   "cell_type": "code",
   "execution_count": 23,
   "metadata": {},
   "outputs": [],
   "source": [
    "df_standard_date_agg = df_standard.groupby('date')[['duration']].agg([np.median, np.std, np.count_nonzero]).reset_index()\n",
    "\n",
    "df_standard_date_agg['date'] = pd.to_datetime(df_standard_date_agg.date)\n",
    "\n",
    "df_standard_date_agg.set_index('date', inplace=True)\n",
    "df_standard_date_agg.sort_index(inplace=True)"
   ]
  },
  {
   "cell_type": "code",
   "execution_count": 24,
   "metadata": {},
   "outputs": [
    {
     "data": {
      "image/png": "[encoded data removed]",
      "text/plain": [
       "<Figure size 720x444.96 with 2 Axes>"
      ]
     },
     "metadata": {},
     "output_type": "display_data"
    }
   ],
   "source": [
    "fig, ax = plt.subplots(figsize=(10,6.18))\n",
    "df_standard_date_agg.loc[:,('duration','median')].plot(ax=ax, style='k-')\n",
    "ax2 = ax.twinx()\n",
    "#df_standard_date_agg.loc[:,('duration','std')].plot(ax=ax2, style='r-')\n",
    "#ax2.set_ylim([0,200])\n",
    "#ax.set_xlim([datetime.date(2016,4,1), datetime.date(2019,4,1)])\n",
    "#ax.set_ylim([0,20])"
   ]
  },
  {
   "cell_type": "code",
   "execution_count": 25,
   "metadata": {},
   "outputs": [
    {
     "data": {
      "text/plain": [
       "(736754.0, 736815.0)"
      ]
     },
     "execution_count": 25,
     "metadata": {},
     "output_type": "execute_result"
    },
    {
     "data": {
      "image/png": "[encoded data removed]",
      "text/plain": [
       "<Figure size 720x444.96 with 1 Axes>"
      ]
     },
     "metadata": {},
     "output_type": "display_data"
    }
   ],
   "source": [
    "fig, ax = plt.subplots(figsize=(10,6.18))\n",
    "df_standard_date_agg.loc[:,('duration','median')].plot(ax=ax, style='k-')\n",
    "ax.set_xlim([datetime.date(2018,3,1), datetime.date(2018,5,1)])"
   ]
  },
  {
   "cell_type": "markdown",
   "metadata": {},
   "source": [
    "Of course, summer is the peak season. It is too cold in winter."
   ]
  },
  {
   "cell_type": "markdown",
   "metadata": {},
   "source": [
    "### Weekday"
   ]
  },
  {
   "cell_type": "code",
   "execution_count": 26,
   "metadata": {},
   "outputs": [
    {
     "data": {
      "text/plain": [
       "<matplotlib.axes._subplots.AxesSubplot at 0x1a1819d0f0>"
      ]
     },
     "execution_count": 26,
     "metadata": {},
     "output_type": "execute_result"
    },
    {
     "data": {
      "image/png": "[encoded data removed]",
      "text/plain": [
       "<Figure size 720x444.96 with 1 Axes>"
      ]
     },
     "metadata": {},
     "output_type": "display_data"
    }
   ],
   "source": [
    "fig, ax = plt.subplots(figsize=(10,6.18))\n",
    "df_standard.groupby('weekday')[['duration']].agg([np.mean,np.median,np.std]).plot.bar(ax=ax)"
   ]
  },
  {
   "cell_type": "markdown",
   "metadata": {},
   "source": [
    "### Month"
   ]
  },
  {
   "cell_type": "code",
   "execution_count": 27,
   "metadata": {},
   "outputs": [
    {
     "data": {
      "text/plain": [
       "<matplotlib.axes._subplots.AxesSubplot at 0x1a188b1cf8>"
      ]
     },
     "execution_count": 27,
     "metadata": {},
     "output_type": "execute_result"
    },
    {
     "data": {
      "image/png": "[encoded data removed]",
      "text/plain": [
       "<Figure size 720x444.96 with 1 Axes>"
      ]
     },
     "metadata": {},
     "output_type": "display_data"
    }
   ],
   "source": [
    "fig, ax = plt.subplots(figsize=(10,6.18))\n",
    "df_standard.groupby('month')[['duration']].agg([np.mean,np.median,np.std]).plot.bar(ax=ax)"
   ]
  },
  {
   "cell_type": "markdown",
   "metadata": {},
   "source": [
    "## user plans"
   ]
  },
  {
   "cell_type": "code",
   "execution_count": 28,
   "metadata": {},
   "outputs": [
    {
     "data": {
      "text/plain": [
       "<matplotlib.axes._subplots.AxesSubplot at 0x1a15f229e8>"
      ]
     },
     "execution_count": 28,
     "metadata": {},
     "output_type": "execute_result"
    },
    {
     "data": {
      "image/png": "[encoded data removed]",
      "text/plain": [
       "<Figure size 720x444.96 with 1 Axes>"
      ]
     },
     "metadata": {},
     "output_type": "display_data"
    }
   ],
   "source": [
    "fig, ax = plt.subplots(figsize=(10,6.18))\n",
    "df_standard.groupby('passholder_type')[['duration']].agg([np.mean,np.median,np.std]).plot.bar(ax=ax)"
   ]
  },
  {
   "cell_type": "code",
   "execution_count": 29,
   "metadata": {},
   "outputs": [
    {
     "data": {
      "text/plain": [
       "<matplotlib.axes._subplots.AxesSubplot at 0x1a18873080>"
      ]
     },
     "execution_count": 29,
     "metadata": {},
     "output_type": "execute_result"
    },
    {
     "data": {
      "image/png": "[encoded data removed]",
      "text/plain": [
       "<Figure size 720x444.96 with 1 Axes>"
      ]
     },
     "metadata": {},
     "output_type": "display_data"
    }
   ],
   "source": [
    "fig, ax = plt.subplots(figsize=(10,6.18))\n",
    "df_standard.groupby('plan_duration')[['duration']].agg([np.mean,np.median, np.std]).plot.bar(ax=ax)"
   ]
  },
  {
   "cell_type": "code",
   "execution_count": 30,
   "metadata": {},
   "outputs": [
    {
     "data": {
      "text/plain": [
       "<matplotlib.axes._subplots.AxesSubplot at 0x1a1886bc88>"
      ]
     },
     "execution_count": 30,
     "metadata": {},
     "output_type": "execute_result"
    },
    {
     "data": {
      "image/png": "[encoded data removed]",
      "text/plain": [
       "<Figure size 720x444.96 with 1 Axes>"
      ]
     },
     "metadata": {},
     "output_type": "display_data"
    }
   ],
   "source": [
    "fig, ax = plt.subplots(figsize=(10,6.18))\n",
    "df_standard[df_standard.date <= datetime.date(2017,1,1)].groupby('plan_duration')[['duration']].nunique().plot.bar(ax=ax)"
   ]
  },
  {
   "cell_type": "code",
   "execution_count": 31,
   "metadata": {},
   "outputs": [
    {
     "data": {
      "text/plain": [
       "<matplotlib.axes._subplots.AxesSubplot at 0x1a16123208>"
      ]
     },
     "execution_count": 31,
     "metadata": {},
     "output_type": "execute_result"
    },
    {
     "data": {
      "image/png": "[encoded data removed]",
      "text/plain": [
       "<Figure size 720x444.96 with 1 Axes>"
      ]
     },
     "metadata": {},
     "output_type": "display_data"
    }
   ],
   "source": [
    "fig, ax = plt.subplots(figsize=(10,6.18))\n",
    "df_standard[df_standard.date >= datetime.date(2019,1,1)].groupby('plan_duration')[['duration']].nunique().plot.bar(ax=ax)"
   ]
  },
  {
   "cell_type": "markdown",
   "metadata": {},
   "source": [
    "I choose to use pass type instead of plan duration."
   ]
  },
  {
   "cell_type": "markdown",
   "metadata": {},
   "source": [
    "### Trip Route Cat"
   ]
  },
  {
   "cell_type": "code",
   "execution_count": 32,
   "metadata": {},
   "outputs": [
    {
     "data": {
      "text/plain": [
       "<matplotlib.axes._subplots.AxesSubplot at 0x1a1551e9b0>"
      ]
     },
     "execution_count": 32,
     "metadata": {},
     "output_type": "execute_result"
    },
    {
     "data": {
      "image/png": "[encoded data removed]",
      "text/plain": [
       "<Figure size 720x444.96 with 1 Axes>"
      ]
     },
     "metadata": {},
     "output_type": "display_data"
    }
   ],
   "source": [
    "fig, ax = plt.subplots(figsize=(10,6.18))\n",
    "df_standard.groupby('trip_route_category')[['duration']].agg([np.mean,np.median, np.std]).plot.bar(ax=ax)"
   ]
  },
  {
   "cell_type": "markdown",
   "metadata": {},
   "source": [
    "### Correlatiosn"
   ]
  },
  {
   "cell_type": "code",
   "execution_count": 33,
   "metadata": {},
   "outputs": [
    {
     "data": {
      "text/plain": [
       "<seaborn.axisgrid.PairGrid at 0x1a181cb748>"
      ]
     },
     "execution_count": 33,
     "metadata": {},
     "output_type": "execute_result"
    },
    {
     "data": {
      "image/png": "[encoded data removed]",
      "text/plain": [
       "<Figure size 900x900 with 30 Axes>"
      ]
     },
     "metadata": {},
     "output_type": "display_data"
    }
   ],
   "source": [
    "sns.pairplot(df_standard[\n",
    "    ['duration','plan_duration','hour', 'weekday', 'month']\n",
    "].sample(frac=0.001))"
   ]
  },
  {
   "cell_type": "markdown",
   "metadata": {},
   "source": [
    "## Group By"
   ]
  },
  {
   "cell_type": "code",
   "execution_count": 34,
   "metadata": {},
   "outputs": [],
   "source": [
    "def quantiles_25(x):\n",
    "    \n",
    "    return np.quantile(x, 0.25)\n",
    "\n",
    "def quantiles_75(x):\n",
    "    \n",
    "    return np.quantile(x, 0.75)"
   ]
  },
  {
   "cell_type": "code",
   "execution_count": 36,
   "metadata": {},
   "outputs": [],
   "source": [
    "df_standard_groups = df_standard.drop('date', axis=1).groupby(\n",
    "    ['start_station_id', 'passholder_type', 'plan_duration', 'trip_route_category','hour', 'weekday','month']\n",
    ").agg([quantiles_25, quantiles_75])"
   ]
  },
  {
   "cell_type": "code",
   "execution_count": 39,
   "metadata": {},
   "outputs": [
    {
     "data": {
      "text/html": [
       "<div>\n",
       "<style scoped>\n",
       "    .dataframe tbody tr th:only-of-type {\n",
       "        vertical-align: middle;\n",
       "    }\n",
       "\n",
       "    .dataframe tbody tr th {\n",
       "        vertical-align: top;\n",
       "    }\n",
       "\n",
       "    .dataframe thead tr th {\n",
       "        text-align: left;\n",
       "    }\n",
       "\n",
       "    .dataframe thead tr:last-of-type th {\n",
       "        text-align: right;\n",
       "    }\n",
       "</style>\n",
       "<table border=\"1\" class=\"dataframe\">\n",
       "  <thead>\n",
       "    <tr>\n",
       "      <th></th>\n",
       "      <th></th>\n",
       "      <th></th>\n",
       "      <th></th>\n",
       "      <th></th>\n",
       "      <th></th>\n",
       "      <th></th>\n",
       "      <th colspan=\"2\" halign=\"left\">duration</th>\n",
       "    </tr>\n",
       "    <tr>\n",
       "      <th></th>\n",
       "      <th></th>\n",
       "      <th></th>\n",
       "      <th></th>\n",
       "      <th></th>\n",
       "      <th></th>\n",
       "      <th></th>\n",
       "      <th>quantiles_25</th>\n",
       "      <th>quantiles_75</th>\n",
       "    </tr>\n",
       "    <tr>\n",
       "      <th>start_station_id</th>\n",
       "      <th>passholder_type</th>\n",
       "      <th>plan_duration</th>\n",
       "      <th>trip_route_category</th>\n",
       "      <th>hour</th>\n",
       "      <th>weekday</th>\n",
       "      <th>month</th>\n",
       "      <th></th>\n",
       "      <th></th>\n",
       "    </tr>\n",
       "  </thead>\n",
       "  <tbody>\n",
       "    <tr>\n",
       "      <th rowspan=\"5\" valign=\"top\">0.0</th>\n",
       "      <th rowspan=\"5\" valign=\"top\">Indego30</th>\n",
       "      <th rowspan=\"5\" valign=\"top\">30</th>\n",
       "      <th rowspan=\"2\" valign=\"top\">One Way</th>\n",
       "      <th>13</th>\n",
       "      <th>2</th>\n",
       "      <th>3</th>\n",
       "      <td>12.0</td>\n",
       "      <td>12.0</td>\n",
       "    </tr>\n",
       "    <tr>\n",
       "      <th>15</th>\n",
       "      <th>5</th>\n",
       "      <th>2</th>\n",
       "      <td>17.0</td>\n",
       "      <td>17.0</td>\n",
       "    </tr>\n",
       "    <tr>\n",
       "      <th rowspan=\"3\" valign=\"top\">Round Trip</th>\n",
       "      <th>11</th>\n",
       "      <th>2</th>\n",
       "      <th>1</th>\n",
       "      <td>1.0</td>\n",
       "      <td>1.0</td>\n",
       "    </tr>\n",
       "    <tr>\n",
       "      <th rowspan=\"2\" valign=\"top\">14</th>\n",
       "      <th>1</th>\n",
       "      <th>1</th>\n",
       "      <td>87.0</td>\n",
       "      <td>87.0</td>\n",
       "    </tr>\n",
       "    <tr>\n",
       "      <th>2</th>\n",
       "      <th>1</th>\n",
       "      <td>169.0</td>\n",
       "      <td>169.0</td>\n",
       "    </tr>\n",
       "  </tbody>\n",
       "</table>\n",
       "</div>"
      ],
      "text/plain": [
       "                                                                                          duration  \\\n",
       "                                                                                      quantiles_25   \n",
       "start_station_id passholder_type plan_duration trip_route_category hour weekday month                \n",
       "0.0              Indego30        30            One Way             13   2       3             12.0   \n",
       "                                                                   15   5       2             17.0   \n",
       "                                               Round Trip          11   2       1              1.0   \n",
       "                                                                   14   1       1             87.0   \n",
       "                                                                        2       1            169.0   \n",
       "\n",
       "                                                                                                    \n",
       "                                                                                      quantiles_75  \n",
       "start_station_id passholder_type plan_duration trip_route_category hour weekday month               \n",
       "0.0              Indego30        30            One Way             13   2       3             12.0  \n",
       "                                                                   15   5       2             17.0  \n",
       "                                               Round Trip          11   2       1              1.0  \n",
       "                                                                   14   1       1             87.0  \n",
       "                                                                        2       1            169.0  "
      ]
     },
     "execution_count": 39,
     "metadata": {},
     "output_type": "execute_result"
    }
   ],
   "source": [
    "df_standard_groups.head()"
   ]
  },
  {
   "cell_type": "code",
   "execution_count": 38,
   "metadata": {},
   "outputs": [
    {
     "data": {
      "text/plain": [
       "<matplotlib.axes._subplots.AxesSubplot at 0x1a1c145748>"
      ]
     },
     "execution_count": 38,
     "metadata": {},
     "output_type": "execute_result"
    },
    {
     "data": {
      "image/png": "[encoded data removed]",
      "text/plain": [
       "<Figure size 432x288 with 1 Axes>"
      ]
     },
     "metadata": {},
     "output_type": "display_data"
    }
   ],
   "source": [
    "df_standard_groups.plot.scatter(x=('duration', 'quantiles_25'), y=('duration', 'quantiles_75'))"
   ]
  },
  {
   "cell_type": "markdown",
   "metadata": {},
   "source": [
    "## models"
   ]
  },
  {
   "cell_type": "code",
   "execution_count": 33,
   "metadata": {},
   "outputs": [
    {
     "data": {
      "text/plain": [
       "Index(['duration', 'start_station_id', 'passholder_type', 'plan_duration',\n",
       "       'trip_route_category', 'date', 'hour', 'weekday', 'month'],\n",
       "      dtype='object')"
      ]
     },
     "execution_count": 33,
     "metadata": {},
     "output_type": "execute_result"
    }
   ],
   "source": [
    "df_standard.columns"
   ]
  },
  {
   "cell_type": "code",
   "execution_count": 34,
   "metadata": {},
   "outputs": [],
   "source": [
    "coi_2 = ['duration', 'passholder_type', 'trip_route_category', 'hour', 'weekday', 'month']\n",
    "df_standard_explore = df_standard[coi_2]\n",
    "df_standard_explore = df_standard_explore.sample(frac=1, replace=True, random_state=42)"
   ]
  },
  {
   "cell_type": "code",
   "execution_count": 35,
   "metadata": {},
   "outputs": [
    {
     "data": {
      "text/html": [
       "<div>\n",
       "<style scoped>\n",
       "    .dataframe tbody tr th:only-of-type {\n",
       "        vertical-align: middle;\n",
       "    }\n",
       "\n",
       "    .dataframe tbody tr th {\n",
       "        vertical-align: top;\n",
       "    }\n",
       "\n",
       "    .dataframe thead th {\n",
       "        text-align: right;\n",
       "    }\n",
       "</style>\n",
       "<table border=\"1\" class=\"dataframe\">\n",
       "  <thead>\n",
       "    <tr style=\"text-align: right;\">\n",
       "      <th></th>\n",
       "      <th>duration</th>\n",
       "      <th>hour</th>\n",
       "      <th>weekday</th>\n",
       "      <th>month</th>\n",
       "    </tr>\n",
       "  </thead>\n",
       "  <tbody>\n",
       "    <tr>\n",
       "      <th>count</th>\n",
       "      <td>2.637706e+06</td>\n",
       "      <td>2.637706e+06</td>\n",
       "      <td>2.637706e+06</td>\n",
       "      <td>2.637706e+06</td>\n",
       "    </tr>\n",
       "    <tr>\n",
       "      <th>mean</th>\n",
       "      <td>2.265116e+01</td>\n",
       "      <td>1.387856e+01</td>\n",
       "      <td>2.853650e+00</td>\n",
       "      <td>7.048771e+00</td>\n",
       "    </tr>\n",
       "    <tr>\n",
       "      <th>std</th>\n",
       "      <td>6.799620e+01</td>\n",
       "      <td>4.996616e+00</td>\n",
       "      <td>1.930313e+00</td>\n",
       "      <td>2.935041e+00</td>\n",
       "    </tr>\n",
       "    <tr>\n",
       "      <th>min</th>\n",
       "      <td>1.000000e+00</td>\n",
       "      <td>0.000000e+00</td>\n",
       "      <td>0.000000e+00</td>\n",
       "      <td>1.000000e+00</td>\n",
       "    </tr>\n",
       "    <tr>\n",
       "      <th>25%</th>\n",
       "      <td>8.000000e+00</td>\n",
       "      <td>1.000000e+01</td>\n",
       "      <td>1.000000e+00</td>\n",
       "      <td>5.000000e+00</td>\n",
       "    </tr>\n",
       "    <tr>\n",
       "      <th>50%</th>\n",
       "      <td>1.200000e+01</td>\n",
       "      <td>1.500000e+01</td>\n",
       "      <td>3.000000e+00</td>\n",
       "      <td>7.000000e+00</td>\n",
       "    </tr>\n",
       "    <tr>\n",
       "      <th>75%</th>\n",
       "      <td>1.900000e+01</td>\n",
       "      <td>1.800000e+01</td>\n",
       "      <td>4.000000e+00</td>\n",
       "      <td>9.000000e+00</td>\n",
       "    </tr>\n",
       "    <tr>\n",
       "      <th>max</th>\n",
       "      <td>1.440000e+03</td>\n",
       "      <td>2.300000e+01</td>\n",
       "      <td>6.000000e+00</td>\n",
       "      <td>1.200000e+01</td>\n",
       "    </tr>\n",
       "  </tbody>\n",
       "</table>\n",
       "</div>"
      ],
      "text/plain": [
       "           duration          hour       weekday         month\n",
       "count  2.637706e+06  2.637706e+06  2.637706e+06  2.637706e+06\n",
       "mean   2.265116e+01  1.387856e+01  2.853650e+00  7.048771e+00\n",
       "std    6.799620e+01  4.996616e+00  1.930313e+00  2.935041e+00\n",
       "min    1.000000e+00  0.000000e+00  0.000000e+00  1.000000e+00\n",
       "25%    8.000000e+00  1.000000e+01  1.000000e+00  5.000000e+00\n",
       "50%    1.200000e+01  1.500000e+01  3.000000e+00  7.000000e+00\n",
       "75%    1.900000e+01  1.800000e+01  4.000000e+00  9.000000e+00\n",
       "max    1.440000e+03  2.300000e+01  6.000000e+00  1.200000e+01"
      ]
     },
     "execution_count": 35,
     "metadata": {},
     "output_type": "execute_result"
    }
   ],
   "source": [
    "df_standard_explore.describe()"
   ]
  },
  {
   "cell_type": "code",
   "execution_count": 36,
   "metadata": {},
   "outputs": [
    {
     "data": {
      "text/html": [
       "<div>\n",
       "<style scoped>\n",
       "    .dataframe tbody tr th:only-of-type {\n",
       "        vertical-align: middle;\n",
       "    }\n",
       "\n",
       "    .dataframe tbody tr th {\n",
       "        vertical-align: top;\n",
       "    }\n",
       "\n",
       "    .dataframe thead th {\n",
       "        text-align: right;\n",
       "    }\n",
       "</style>\n",
       "<table border=\"1\" class=\"dataframe\">\n",
       "  <thead>\n",
       "    <tr style=\"text-align: right;\">\n",
       "      <th></th>\n",
       "      <th>duration</th>\n",
       "      <th>passholder_type</th>\n",
       "      <th>trip_route_category</th>\n",
       "      <th>hour</th>\n",
       "      <th>weekday</th>\n",
       "      <th>month</th>\n",
       "    </tr>\n",
       "  </thead>\n",
       "  <tbody>\n",
       "    <tr>\n",
       "      <th>2221159</th>\n",
       "      <td>11.0</td>\n",
       "      <td>Indego30</td>\n",
       "      <td>One Way</td>\n",
       "      <td>17</td>\n",
       "      <td>6</td>\n",
       "      <td>8</td>\n",
       "    </tr>\n",
       "    <tr>\n",
       "      <th>2231133</th>\n",
       "      <td>11.0</td>\n",
       "      <td>Indego30</td>\n",
       "      <td>One Way</td>\n",
       "      <td>9</td>\n",
       "      <td>3</td>\n",
       "      <td>8</td>\n",
       "    </tr>\n",
       "    <tr>\n",
       "      <th>2359794</th>\n",
       "      <td>2.0</td>\n",
       "      <td>Indego30</td>\n",
       "      <td>Round Trip</td>\n",
       "      <td>19</td>\n",
       "      <td>1</td>\n",
       "      <td>2</td>\n",
       "    </tr>\n",
       "    <tr>\n",
       "      <th>1694792</th>\n",
       "      <td>6.0</td>\n",
       "      <td>Indego365</td>\n",
       "      <td>One Way</td>\n",
       "      <td>15</td>\n",
       "      <td>0</td>\n",
       "      <td>6</td>\n",
       "    </tr>\n",
       "    <tr>\n",
       "      <th>110268</th>\n",
       "      <td>6.0</td>\n",
       "      <td>Indego30</td>\n",
       "      <td>One Way</td>\n",
       "      <td>9</td>\n",
       "      <td>6</td>\n",
       "      <td>8</td>\n",
       "    </tr>\n",
       "  </tbody>\n",
       "</table>\n",
       "</div>"
      ],
      "text/plain": [
       "         duration passholder_type trip_route_category  hour  weekday  month\n",
       "2221159      11.0        Indego30             One Way    17        6      8\n",
       "2231133      11.0        Indego30             One Way     9        3      8\n",
       "2359794       2.0        Indego30          Round Trip    19        1      2\n",
       "1694792       6.0       Indego365             One Way    15        0      6\n",
       "110268        6.0        Indego30             One Way     9        6      8"
      ]
     },
     "execution_count": 36,
     "metadata": {},
     "output_type": "execute_result"
    }
   ],
   "source": [
    "df_standard_explore.head()"
   ]
  },
  {
   "cell_type": "code",
   "execution_count": 37,
   "metadata": {},
   "outputs": [],
   "source": [
    "coi_X = ['passholder_type', 'trip_route_category', 'hour', 'weekday', 'month']\n",
    "coi_y = ['duration']"
   ]
  },
  {
   "cell_type": "code",
   "execution_count": 38,
   "metadata": {},
   "outputs": [],
   "source": [
    "scaler = StandardScaler()"
   ]
  },
  {
   "cell_type": "code",
   "execution_count": 39,
   "metadata": {},
   "outputs": [],
   "source": [
    "df_standard_explore_X = pd.get_dummies(df_standard_explore[coi_X].astype(str))\n",
    "df_standard_explore_y = df_standard_explore[coi_y]\n",
    "df_standard_explore_y = scaler.fit_transform(df_standard_explore_y)"
   ]
  },
  {
   "cell_type": "code",
   "execution_count": 40,
   "metadata": {},
   "outputs": [],
   "source": [
    "X_train, X_test, y_train, y_test = train_test_split(\n",
    "    df_standard_explore_X, df_standard_explore_y,\n",
    "    test_size=0.3, random_state=42\n",
    "    #,stratify=Y\n",
    ")"
   ]
  },
  {
   "cell_type": "code",
   "execution_count": 41,
   "metadata": {},
   "outputs": [
    {
     "data": {
      "text/html": [
       "<div>\n",
       "<style scoped>\n",
       "    .dataframe tbody tr th:only-of-type {\n",
       "        vertical-align: middle;\n",
       "    }\n",
       "\n",
       "    .dataframe tbody tr th {\n",
       "        vertical-align: top;\n",
       "    }\n",
       "\n",
       "    .dataframe thead th {\n",
       "        text-align: right;\n",
       "    }\n",
       "</style>\n",
       "<table border=\"1\" class=\"dataframe\">\n",
       "  <thead>\n",
       "    <tr style=\"text-align: right;\">\n",
       "      <th></th>\n",
       "      <th>passholder_type_Day Pass</th>\n",
       "      <th>passholder_type_Indego30</th>\n",
       "      <th>passholder_type_Indego365</th>\n",
       "      <th>passholder_type_IndegoFlex</th>\n",
       "      <th>passholder_type_One Day Pass</th>\n",
       "      <th>passholder_type_Two Day Pass</th>\n",
       "      <th>passholder_type_Walk-up</th>\n",
       "      <th>trip_route_category_One Way</th>\n",
       "      <th>trip_route_category_Round Trip</th>\n",
       "      <th>hour_0</th>\n",
       "      <th>...</th>\n",
       "      <th>month_11</th>\n",
       "      <th>month_12</th>\n",
       "      <th>month_2</th>\n",
       "      <th>month_3</th>\n",
       "      <th>month_4</th>\n",
       "      <th>month_5</th>\n",
       "      <th>month_6</th>\n",
       "      <th>month_7</th>\n",
       "      <th>month_8</th>\n",
       "      <th>month_9</th>\n",
       "    </tr>\n",
       "  </thead>\n",
       "  <tbody>\n",
       "    <tr>\n",
       "      <th>count</th>\n",
       "      <td>1.846394e+06</td>\n",
       "      <td>1.846394e+06</td>\n",
       "      <td>1.846394e+06</td>\n",
       "      <td>1.846394e+06</td>\n",
       "      <td>1.846394e+06</td>\n",
       "      <td>1.846394e+06</td>\n",
       "      <td>1.846394e+06</td>\n",
       "      <td>1.846394e+06</td>\n",
       "      <td>1.846394e+06</td>\n",
       "      <td>1.846394e+06</td>\n",
       "      <td>...</td>\n",
       "      <td>1.846394e+06</td>\n",
       "      <td>1.846394e+06</td>\n",
       "      <td>1.846394e+06</td>\n",
       "      <td>1.846394e+06</td>\n",
       "      <td>1.846394e+06</td>\n",
       "      <td>1.846394e+06</td>\n",
       "      <td>1.846394e+06</td>\n",
       "      <td>1.846394e+06</td>\n",
       "      <td>1.846394e+06</td>\n",
       "      <td>1.846394e+06</td>\n",
       "    </tr>\n",
       "    <tr>\n",
       "      <th>mean</th>\n",
       "      <td>3.394075e-02</td>\n",
       "      <td>7.835949e-01</td>\n",
       "      <td>4.698455e-02</td>\n",
       "      <td>1.098953e-02</td>\n",
       "      <td>2.538461e-03</td>\n",
       "      <td>5.957558e-04</td>\n",
       "      <td>1.213560e-01</td>\n",
       "      <td>9.240335e-01</td>\n",
       "      <td>7.596645e-02</td>\n",
       "      <td>1.043656e-02</td>\n",
       "      <td>...</td>\n",
       "      <td>7.977658e-02</td>\n",
       "      <td>4.913523e-02</td>\n",
       "      <td>4.563760e-02</td>\n",
       "      <td>5.590410e-02</td>\n",
       "      <td>6.391431e-02</td>\n",
       "      <td>9.692189e-02</td>\n",
       "      <td>1.090493e-01</td>\n",
       "      <td>1.173596e-01</td>\n",
       "      <td>1.187574e-01</td>\n",
       "      <td>1.161031e-01</td>\n",
       "    </tr>\n",
       "    <tr>\n",
       "      <th>std</th>\n",
       "      <td>1.810768e-01</td>\n",
       "      <td>4.117936e-01</td>\n",
       "      <td>2.116058e-01</td>\n",
       "      <td>1.042534e-01</td>\n",
       "      <td>5.031917e-02</td>\n",
       "      <td>2.440084e-02</td>\n",
       "      <td>3.265406e-01</td>\n",
       "      <td>2.649445e-01</td>\n",
       "      <td>2.649445e-01</td>\n",
       "      <td>1.016250e-01</td>\n",
       "      <td>...</td>\n",
       "      <td>2.709471e-01</td>\n",
       "      <td>2.161504e-01</td>\n",
       "      <td>2.086980e-01</td>\n",
       "      <td>2.297365e-01</td>\n",
       "      <td>2.446003e-01</td>\n",
       "      <td>2.958515e-01</td>\n",
       "      <td>3.117012e-01</td>\n",
       "      <td>3.218483e-01</td>\n",
       "      <td>3.235029e-01</td>\n",
       "      <td>3.203486e-01</td>\n",
       "    </tr>\n",
       "    <tr>\n",
       "      <th>min</th>\n",
       "      <td>0.000000e+00</td>\n",
       "      <td>0.000000e+00</td>\n",
       "      <td>0.000000e+00</td>\n",
       "      <td>0.000000e+00</td>\n",
       "      <td>0.000000e+00</td>\n",
       "      <td>0.000000e+00</td>\n",
       "      <td>0.000000e+00</td>\n",
       "      <td>0.000000e+00</td>\n",
       "      <td>0.000000e+00</td>\n",
       "      <td>0.000000e+00</td>\n",
       "      <td>...</td>\n",
       "      <td>0.000000e+00</td>\n",
       "      <td>0.000000e+00</td>\n",
       "      <td>0.000000e+00</td>\n",
       "      <td>0.000000e+00</td>\n",
       "      <td>0.000000e+00</td>\n",
       "      <td>0.000000e+00</td>\n",
       "      <td>0.000000e+00</td>\n",
       "      <td>0.000000e+00</td>\n",
       "      <td>0.000000e+00</td>\n",
       "      <td>0.000000e+00</td>\n",
       "    </tr>\n",
       "    <tr>\n",
       "      <th>25%</th>\n",
       "      <td>0.000000e+00</td>\n",
       "      <td>1.000000e+00</td>\n",
       "      <td>0.000000e+00</td>\n",
       "      <td>0.000000e+00</td>\n",
       "      <td>0.000000e+00</td>\n",
       "      <td>0.000000e+00</td>\n",
       "      <td>0.000000e+00</td>\n",
       "      <td>1.000000e+00</td>\n",
       "      <td>0.000000e+00</td>\n",
       "      <td>0.000000e+00</td>\n",
       "      <td>...</td>\n",
       "      <td>0.000000e+00</td>\n",
       "      <td>0.000000e+00</td>\n",
       "      <td>0.000000e+00</td>\n",
       "      <td>0.000000e+00</td>\n",
       "      <td>0.000000e+00</td>\n",
       "      <td>0.000000e+00</td>\n",
       "      <td>0.000000e+00</td>\n",
       "      <td>0.000000e+00</td>\n",
       "      <td>0.000000e+00</td>\n",
       "      <td>0.000000e+00</td>\n",
       "    </tr>\n",
       "    <tr>\n",
       "      <th>50%</th>\n",
       "      <td>0.000000e+00</td>\n",
       "      <td>1.000000e+00</td>\n",
       "      <td>0.000000e+00</td>\n",
       "      <td>0.000000e+00</td>\n",
       "      <td>0.000000e+00</td>\n",
       "      <td>0.000000e+00</td>\n",
       "      <td>0.000000e+00</td>\n",
       "      <td>1.000000e+00</td>\n",
       "      <td>0.000000e+00</td>\n",
       "      <td>0.000000e+00</td>\n",
       "      <td>...</td>\n",
       "      <td>0.000000e+00</td>\n",
       "      <td>0.000000e+00</td>\n",
       "      <td>0.000000e+00</td>\n",
       "      <td>0.000000e+00</td>\n",
       "      <td>0.000000e+00</td>\n",
       "      <td>0.000000e+00</td>\n",
       "      <td>0.000000e+00</td>\n",
       "      <td>0.000000e+00</td>\n",
       "      <td>0.000000e+00</td>\n",
       "      <td>0.000000e+00</td>\n",
       "    </tr>\n",
       "    <tr>\n",
       "      <th>75%</th>\n",
       "      <td>0.000000e+00</td>\n",
       "      <td>1.000000e+00</td>\n",
       "      <td>0.000000e+00</td>\n",
       "      <td>0.000000e+00</td>\n",
       "      <td>0.000000e+00</td>\n",
       "      <td>0.000000e+00</td>\n",
       "      <td>0.000000e+00</td>\n",
       "      <td>1.000000e+00</td>\n",
       "      <td>0.000000e+00</td>\n",
       "      <td>0.000000e+00</td>\n",
       "      <td>...</td>\n",
       "      <td>0.000000e+00</td>\n",
       "      <td>0.000000e+00</td>\n",
       "      <td>0.000000e+00</td>\n",
       "      <td>0.000000e+00</td>\n",
       "      <td>0.000000e+00</td>\n",
       "      <td>0.000000e+00</td>\n",
       "      <td>0.000000e+00</td>\n",
       "      <td>0.000000e+00</td>\n",
       "      <td>0.000000e+00</td>\n",
       "      <td>0.000000e+00</td>\n",
       "    </tr>\n",
       "    <tr>\n",
       "      <th>max</th>\n",
       "      <td>1.000000e+00</td>\n",
       "      <td>1.000000e+00</td>\n",
       "      <td>1.000000e+00</td>\n",
       "      <td>1.000000e+00</td>\n",
       "      <td>1.000000e+00</td>\n",
       "      <td>1.000000e+00</td>\n",
       "      <td>1.000000e+00</td>\n",
       "      <td>1.000000e+00</td>\n",
       "      <td>1.000000e+00</td>\n",
       "      <td>1.000000e+00</td>\n",
       "      <td>...</td>\n",
       "      <td>1.000000e+00</td>\n",
       "      <td>1.000000e+00</td>\n",
       "      <td>1.000000e+00</td>\n",
       "      <td>1.000000e+00</td>\n",
       "      <td>1.000000e+00</td>\n",
       "      <td>1.000000e+00</td>\n",
       "      <td>1.000000e+00</td>\n",
       "      <td>1.000000e+00</td>\n",
       "      <td>1.000000e+00</td>\n",
       "      <td>1.000000e+00</td>\n",
       "    </tr>\n",
       "  </tbody>\n",
       "</table>\n",
       "<p>8 rows × 52 columns</p>\n",
       "</div>"
      ],
      "text/plain": [
       "       passholder_type_Day Pass  passholder_type_Indego30  \\\n",
       "count              1.846394e+06              1.846394e+06   \n",
       "mean               3.394075e-02              7.835949e-01   \n",
       "std                1.810768e-01              4.117936e-01   \n",
       "min                0.000000e+00              0.000000e+00   \n",
       "25%                0.000000e+00              1.000000e+00   \n",
       "50%                0.000000e+00              1.000000e+00   \n",
       "75%                0.000000e+00              1.000000e+00   \n",
       "max                1.000000e+00              1.000000e+00   \n",
       "\n",
       "       passholder_type_Indego365  passholder_type_IndegoFlex  \\\n",
       "count               1.846394e+06                1.846394e+06   \n",
       "mean                4.698455e-02                1.098953e-02   \n",
       "std                 2.116058e-01                1.042534e-01   \n",
       "min                 0.000000e+00                0.000000e+00   \n",
       "25%                 0.000000e+00                0.000000e+00   \n",
       "50%                 0.000000e+00                0.000000e+00   \n",
       "75%                 0.000000e+00                0.000000e+00   \n",
       "max                 1.000000e+00                1.000000e+00   \n",
       "\n",
       "       passholder_type_One Day Pass  passholder_type_Two Day Pass  \\\n",
       "count                  1.846394e+06                  1.846394e+06   \n",
       "mean                   2.538461e-03                  5.957558e-04   \n",
       "std                    5.031917e-02                  2.440084e-02   \n",
       "min                    0.000000e+00                  0.000000e+00   \n",
       "25%                    0.000000e+00                  0.000000e+00   \n",
       "50%                    0.000000e+00                  0.000000e+00   \n",
       "75%                    0.000000e+00                  0.000000e+00   \n",
       "max                    1.000000e+00                  1.000000e+00   \n",
       "\n",
       "       passholder_type_Walk-up  trip_route_category_One Way  \\\n",
       "count             1.846394e+06                 1.846394e+06   \n",
       "mean              1.213560e-01                 9.240335e-01   \n",
       "std               3.265406e-01                 2.649445e-01   \n",
       "min               0.000000e+00                 0.000000e+00   \n",
       "25%               0.000000e+00                 1.000000e+00   \n",
       "50%               0.000000e+00                 1.000000e+00   \n",
       "75%               0.000000e+00                 1.000000e+00   \n",
       "max               1.000000e+00                 1.000000e+00   \n",
       "\n",
       "       trip_route_category_Round Trip        hour_0      ...       \\\n",
       "count                    1.846394e+06  1.846394e+06      ...        \n",
       "mean                     7.596645e-02  1.043656e-02      ...        \n",
       "std                      2.649445e-01  1.016250e-01      ...        \n",
       "min                      0.000000e+00  0.000000e+00      ...        \n",
       "25%                      0.000000e+00  0.000000e+00      ...        \n",
       "50%                      0.000000e+00  0.000000e+00      ...        \n",
       "75%                      0.000000e+00  0.000000e+00      ...        \n",
       "max                      1.000000e+00  1.000000e+00      ...        \n",
       "\n",
       "           month_11      month_12       month_2       month_3       month_4  \\\n",
       "count  1.846394e+06  1.846394e+06  1.846394e+06  1.846394e+06  1.846394e+06   \n",
       "mean   7.977658e-02  4.913523e-02  4.563760e-02  5.590410e-02  6.391431e-02   \n",
       "std    2.709471e-01  2.161504e-01  2.086980e-01  2.297365e-01  2.446003e-01   \n",
       "min    0.000000e+00  0.000000e+00  0.000000e+00  0.000000e+00  0.000000e+00   \n",
       "25%    0.000000e+00  0.000000e+00  0.000000e+00  0.000000e+00  0.000000e+00   \n",
       "50%    0.000000e+00  0.000000e+00  0.000000e+00  0.000000e+00  0.000000e+00   \n",
       "75%    0.000000e+00  0.000000e+00  0.000000e+00  0.000000e+00  0.000000e+00   \n",
       "max    1.000000e+00  1.000000e+00  1.000000e+00  1.000000e+00  1.000000e+00   \n",
       "\n",
       "            month_5       month_6       month_7       month_8       month_9  \n",
       "count  1.846394e+06  1.846394e+06  1.846394e+06  1.846394e+06  1.846394e+06  \n",
       "mean   9.692189e-02  1.090493e-01  1.173596e-01  1.187574e-01  1.161031e-01  \n",
       "std    2.958515e-01  3.117012e-01  3.218483e-01  3.235029e-01  3.203486e-01  \n",
       "min    0.000000e+00  0.000000e+00  0.000000e+00  0.000000e+00  0.000000e+00  \n",
       "25%    0.000000e+00  0.000000e+00  0.000000e+00  0.000000e+00  0.000000e+00  \n",
       "50%    0.000000e+00  0.000000e+00  0.000000e+00  0.000000e+00  0.000000e+00  \n",
       "75%    0.000000e+00  0.000000e+00  0.000000e+00  0.000000e+00  0.000000e+00  \n",
       "max    1.000000e+00  1.000000e+00  1.000000e+00  1.000000e+00  1.000000e+00  \n",
       "\n",
       "[8 rows x 52 columns]"
      ]
     },
     "execution_count": 41,
     "metadata": {},
     "output_type": "execute_result"
    }
   ],
   "source": [
    "X_train.describe()"
   ]
  },
  {
   "cell_type": "code",
   "execution_count": 42,
   "metadata": {},
   "outputs": [],
   "source": [
    "from sklearn.linear_model import LinearRegression\n",
    "from sklearn.linear_model import Ridge"
   ]
  },
  {
   "cell_type": "code",
   "execution_count": 43,
   "metadata": {},
   "outputs": [],
   "source": [
    "linear_model = LinearRegression(normalize=True)"
   ]
  },
  {
   "cell_type": "code",
   "execution_count": 44,
   "metadata": {},
   "outputs": [
    {
     "data": {
      "text/plain": [
       "LinearRegression(copy_X=True, fit_intercept=True, n_jobs=1, normalize=True)"
      ]
     },
     "execution_count": 44,
     "metadata": {},
     "output_type": "execute_result"
    }
   ],
   "source": [
    "linear_model.fit(X_train, y_train)"
   ]
  },
  {
   "cell_type": "code",
   "execution_count": 45,
   "metadata": {},
   "outputs": [
    {
     "data": {
      "text/plain": [
       "0.03362010223327072"
      ]
     },
     "execution_count": 45,
     "metadata": {},
     "output_type": "execute_result"
    }
   ],
   "source": [
    "linear_model.score(X_test, y_test)"
   ]
  },
  {
   "cell_type": "code",
   "execution_count": 46,
   "metadata": {},
   "outputs": [
    {
     "data": {
      "text/plain": [
       "array([[-5.38216619e+07, -5.38216623e+07, -5.38216623e+07,\n",
       "        -5.38216621e+07, -5.38216620e+07, -5.38216622e+07,\n",
       "        -5.38216619e+07, -1.06091794e+08, -1.06091793e+08,\n",
       "        -2.06286657e+07, -2.06286656e+07, -2.06286658e+07,\n",
       "        -2.06286658e+07, -2.06286658e+07, -2.06286658e+07,\n",
       "        -2.06286658e+07, -2.06286658e+07, -2.06286658e+07,\n",
       "        -2.06286659e+07, -2.06286658e+07, -2.06286658e+07,\n",
       "        -2.06286656e+07, -2.06286658e+07, -2.06286658e+07,\n",
       "        -2.06286658e+07, -2.06286657e+07, -2.06286655e+07,\n",
       "        -2.06286657e+07, -2.06286658e+07, -2.06286658e+07,\n",
       "        -2.06286659e+07, -2.06286659e+07, -2.06286659e+07,\n",
       "        -7.19796841e+07, -7.19796841e+07, -7.19796841e+07,\n",
       "        -7.19796841e+07, -7.19796841e+07, -7.19796840e+07,\n",
       "        -7.19796840e+07, -1.56935513e+08, -1.56935513e+08,\n",
       "        -1.56935513e+08, -1.56935513e+08, -1.56935513e+08,\n",
       "        -1.56935513e+08, -1.56935513e+08, -1.56935513e+08,\n",
       "        -1.56935513e+08, -1.56935513e+08, -1.56935513e+08,\n",
       "        -1.56935513e+08]])"
      ]
     },
     "execution_count": 46,
     "metadata": {},
     "output_type": "execute_result"
    }
   ],
   "source": [
    "linear_model.coef_"
   ]
  },
  {
   "cell_type": "code",
   "execution_count": 47,
   "metadata": {},
   "outputs": [],
   "source": [
    "ridge_model = Ridge(alpha=1.0)"
   ]
  },
  {
   "cell_type": "code",
   "execution_count": 48,
   "metadata": {},
   "outputs": [
    {
     "data": {
      "text/plain": [
       "Ridge(alpha=1.0, copy_X=True, fit_intercept=True, max_iter=None,\n",
       "   normalize=False, random_state=None, solver='auto', tol=0.001)"
      ]
     },
     "execution_count": 48,
     "metadata": {},
     "output_type": "execute_result"
    }
   ],
   "source": [
    "ridge_model.fit(X_train, y_train)"
   ]
  },
  {
   "cell_type": "code",
   "execution_count": 49,
   "metadata": {},
   "outputs": [
    {
     "data": {
      "text/plain": [
       "0.03362067266242452"
      ]
     },
     "execution_count": 49,
     "metadata": {},
     "output_type": "execute_result"
    }
   ],
   "source": [
    "ridge_model.score(X_test, y_test)"
   ]
  },
  {
   "cell_type": "code",
   "execution_count": 50,
   "metadata": {},
   "outputs": [
    {
     "data": {
      "text/plain": [
       "array([[ 0.17528027, -0.19031906, -0.21705785,  0.02000467,  0.06444144,\n",
       "        -0.06851845,  0.21616903, -0.10334366,  0.10334366,  0.12359932,\n",
       "         0.18141977, -0.05612634, -0.0506568 , -0.04795515, -0.0475495 ,\n",
       "        -0.04347643, -0.04721605, -0.06380215, -0.07309115, -0.06670721,\n",
       "        -0.04615813,  0.21326547, -0.05042696, -0.03641701, -0.00666487,\n",
       "         0.04176562,  0.30542435,  0.12246098, -0.03386601, -0.06453534,\n",
       "        -0.08473965, -0.08836052, -0.08018619, -0.00846348, -0.01794479,\n",
       "        -0.02076587, -0.01782464, -0.00855781,  0.03965752,  0.03389907,\n",
       "        -0.00068735, -0.01509404, -0.01592738,  0.01007387,  0.00809815,\n",
       "         0.00412087, -0.00458813,  0.02244749,  0.008151  , -0.00216581,\n",
       "        -0.01329383, -0.00113484]])"
      ]
     },
     "execution_count": 50,
     "metadata": {},
     "output_type": "execute_result"
    }
   ],
   "source": [
    "ridge_model.coef_"
   ]
  },
  {
   "cell_type": "code",
   "execution_count": 51,
   "metadata": {},
   "outputs": [
    {
     "data": {
      "text/plain": [
       "Index(['passholder_type_Day Pass', 'passholder_type_Indego30',\n",
       "       'passholder_type_Indego365', 'passholder_type_IndegoFlex',\n",
       "       'passholder_type_One Day Pass', 'passholder_type_Two Day Pass',\n",
       "       'passholder_type_Walk-up', 'trip_route_category_One Way',\n",
       "       'trip_route_category_Round Trip', 'hour_0', 'hour_1', 'hour_10',\n",
       "       'hour_11', 'hour_12', 'hour_13', 'hour_14', 'hour_15', 'hour_16',\n",
       "       'hour_17', 'hour_18', 'hour_19', 'hour_2', 'hour_20', 'hour_21',\n",
       "       'hour_22', 'hour_23', 'hour_3', 'hour_4', 'hour_5', 'hour_6', 'hour_7',\n",
       "       'hour_8', 'hour_9', 'weekday_0', 'weekday_1', 'weekday_2', 'weekday_3',\n",
       "       'weekday_4', 'weekday_5', 'weekday_6', 'month_1', 'month_10',\n",
       "       'month_11', 'month_12', 'month_2', 'month_3', 'month_4', 'month_5',\n",
       "       'month_6', 'month_7', 'month_8', 'month_9'],\n",
       "      dtype='object')"
      ]
     },
     "execution_count": 51,
     "metadata": {},
     "output_type": "execute_result"
    }
   ],
   "source": [
    "X_train.columns"
   ]
  },
  {
   "cell_type": "code",
   "execution_count": 52,
   "metadata": {},
   "outputs": [],
   "source": [
    "from sklearn.tree import DecisionTreeRegressor"
   ]
  },
  {
   "cell_type": "code",
   "execution_count": 53,
   "metadata": {},
   "outputs": [],
   "source": [
    "dt_regressor = DecisionTreeRegressor() "
   ]
  },
  {
   "cell_type": "code",
   "execution_count": 54,
   "metadata": {},
   "outputs": [
    {
     "data": {
      "text/plain": [
       "DecisionTreeRegressor(criterion='mse', max_depth=None, max_features=None,\n",
       "           max_leaf_nodes=None, min_impurity_decrease=0.0,\n",
       "           min_impurity_split=None, min_samples_leaf=1,\n",
       "           min_samples_split=2, min_weight_fraction_leaf=0.0,\n",
       "           presort=False, random_state=None, splitter='best')"
      ]
     },
     "execution_count": 54,
     "metadata": {},
     "output_type": "execute_result"
    }
   ],
   "source": [
    "dt_regressor.fit(X_train, y_train)"
   ]
  },
  {
   "cell_type": "code",
   "execution_count": 70,
   "metadata": {},
   "outputs": [
    {
     "data": {
      "text/plain": [
       "0.035667823019541856"
      ]
     },
     "execution_count": 70,
     "metadata": {},
     "output_type": "execute_result"
    }
   ],
   "source": [
    "dt_regressor.score(X_test, y_test)"
   ]
  },
  {
   "cell_type": "code",
   "execution_count": 55,
   "metadata": {},
   "outputs": [],
   "source": [
    "dt_regressor_y_pred = dt_regressor.predict(X_test)  "
   ]
  },
  {
   "cell_type": "code",
   "execution_count": 56,
   "metadata": {},
   "outputs": [
    {
     "data": {
      "text/plain": [
       "array([-0.0913636 , -0.08272726, -0.12209447, ..., -0.09465635,\n",
       "       -0.05766652, -0.10005444])"
      ]
     },
     "execution_count": 56,
     "metadata": {},
     "output_type": "execute_result"
    }
   ],
   "source": [
    "dt_regressor_y_pred"
   ]
  },
  {
   "cell_type": "code",
   "execution_count": 57,
   "metadata": {},
   "outputs": [
    {
     "name": "stdout",
     "output_type": "stream",
     "text": [
      "Mean Absolute Error: 0.26315449644551886\n",
      "Mean Squared Error: 0.9646960487880076\n",
      "Root Mean Squared Error: 0.9821894159417559\n"
     ]
    }
   ],
   "source": [
    "print('Mean Absolute Error:', metrics.mean_absolute_error(y_test, dt_regressor_y_pred)) \n",
    "print('Mean Squared Error:', metrics.mean_squared_error(y_test, dt_regressor_y_pred))  \n",
    "print('Root Mean Squared Error:', np.sqrt(metrics.mean_squared_error(y_test, dt_regressor_y_pred))) "
   ]
  },
  {
   "cell_type": "code",
   "execution_count": 58,
   "metadata": {},
   "outputs": [
    {
     "data": {
      "text/plain": [
       "(0, 100)"
      ]
     },
     "execution_count": 58,
     "metadata": {},
     "output_type": "execute_result"
    },
    {
     "data": {
      "image/png": "[encoded data removed]",
      "text/plain": [
       "<Figure size 720x444.96 with 1 Axes>"
      ]
     },
     "metadata": {},
     "output_type": "display_data"
    }
   ],
   "source": [
    "fig, ax = plt.subplots(figsize=(10,6.18))\n",
    "ax.plot( y_test, dt_regressor_y_pred, 'k.')\n",
    "ax.set_xlim([0,100])\n",
    "ax.set_ylim([0,100])"
   ]
  },
  {
   "cell_type": "markdown",
   "metadata": {},
   "source": [
    "## DTRegressor LabelEncoder"
   ]
  },
  {
   "cell_type": "code",
   "execution_count": 59,
   "metadata": {},
   "outputs": [
    {
     "data": {
      "text/plain": [
       "Index(['duration', 'start_station_id', 'passholder_type', 'plan_duration',\n",
       "       'trip_route_category', 'date', 'hour', 'weekday', 'month'],\n",
       "      dtype='object')"
      ]
     },
     "execution_count": 59,
     "metadata": {},
     "output_type": "execute_result"
    }
   ],
   "source": [
    "df_standard.columns"
   ]
  },
  {
   "cell_type": "code",
   "execution_count": 60,
   "metadata": {},
   "outputs": [],
   "source": [
    "df_standard_dt_coi = [\n",
    "    'duration', 'passholder_type', 'start_station_id', 'trip_route_category', \n",
    "    'hour', 'weekday', 'month']\n",
    "df_standard_dt = df_standard[df_standard_dt_coi]"
   ]
  },
  {
   "cell_type": "code",
   "execution_count": 61,
   "metadata": {},
   "outputs": [
    {
     "name": "stdout",
     "output_type": "stream",
     "text": [
      "passholder_type\n",
      "start_station_id\n",
      "trip_route_category\n"
     ]
    }
   ],
   "source": [
    "encoding_coi = [\n",
    "    'passholder_type', 'start_station_id', 'trip_route_category'\n",
    "]\n",
    "les = []\n",
    "\n",
    "for i in encoding_coi:\n",
    "    i_encoder = LabelEncoder()\n",
    "    i_encoder.fit_transform(df_standard_dt[i])\n",
    "    df_standard_dt = df_standard_dt.apply(\n",
    "        i_encoder.fit_transform\n",
    "    )\n",
    "    les.append(i_encoder)\n",
    "    print(f'{i}')"
   ]
  },
  {
   "cell_type": "code",
   "execution_count": 62,
   "metadata": {},
   "outputs": [
    {
     "data": {
      "text/html": [
       "<div>\n",
       "<style scoped>\n",
       "    .dataframe tbody tr th:only-of-type {\n",
       "        vertical-align: middle;\n",
       "    }\n",
       "\n",
       "    .dataframe tbody tr th {\n",
       "        vertical-align: top;\n",
       "    }\n",
       "\n",
       "    .dataframe thead th {\n",
       "        text-align: right;\n",
       "    }\n",
       "</style>\n",
       "<table border=\"1\" class=\"dataframe\">\n",
       "  <thead>\n",
       "    <tr style=\"text-align: right;\">\n",
       "      <th></th>\n",
       "      <th>duration</th>\n",
       "      <th>passholder_type</th>\n",
       "      <th>start_station_id</th>\n",
       "      <th>trip_route_category</th>\n",
       "      <th>hour</th>\n",
       "      <th>weekday</th>\n",
       "      <th>month</th>\n",
       "    </tr>\n",
       "  </thead>\n",
       "  <tbody>\n",
       "    <tr>\n",
       "      <th>0</th>\n",
       "      <td>3</td>\n",
       "      <td>1</td>\n",
       "      <td>59</td>\n",
       "      <td>0</td>\n",
       "      <td>0</td>\n",
       "      <td>4</td>\n",
       "      <td>6</td>\n",
       "    </tr>\n",
       "    <tr>\n",
       "      <th>1</th>\n",
       "      <td>7</td>\n",
       "      <td>1</td>\n",
       "      <td>107</td>\n",
       "      <td>0</td>\n",
       "      <td>0</td>\n",
       "      <td>4</td>\n",
       "      <td>6</td>\n",
       "    </tr>\n",
       "    <tr>\n",
       "      <th>2</th>\n",
       "      <td>16</td>\n",
       "      <td>1</td>\n",
       "      <td>40</td>\n",
       "      <td>0</td>\n",
       "      <td>0</td>\n",
       "      <td>4</td>\n",
       "      <td>6</td>\n",
       "    </tr>\n",
       "    <tr>\n",
       "      <th>3</th>\n",
       "      <td>24</td>\n",
       "      <td>6</td>\n",
       "      <td>24</td>\n",
       "      <td>1</td>\n",
       "      <td>0</td>\n",
       "      <td>4</td>\n",
       "      <td>6</td>\n",
       "    </tr>\n",
       "    <tr>\n",
       "      <th>4</th>\n",
       "      <td>44</td>\n",
       "      <td>6</td>\n",
       "      <td>35</td>\n",
       "      <td>0</td>\n",
       "      <td>0</td>\n",
       "      <td>4</td>\n",
       "      <td>6</td>\n",
       "    </tr>\n",
       "  </tbody>\n",
       "</table>\n",
       "</div>"
      ],
      "text/plain": [
       "   duration  passholder_type  start_station_id  trip_route_category  hour  \\\n",
       "0         3                1                59                    0     0   \n",
       "1         7                1               107                    0     0   \n",
       "2        16                1                40                    0     0   \n",
       "3        24                6                24                    1     0   \n",
       "4        44                6                35                    0     0   \n",
       "\n",
       "   weekday  month  \n",
       "0        4      6  \n",
       "1        4      6  \n",
       "2        4      6  \n",
       "3        4      6  \n",
       "4        4      6  "
      ]
     },
     "execution_count": 62,
     "metadata": {},
     "output_type": "execute_result"
    }
   ],
   "source": [
    "df_standard_dt.head()"
   ]
  },
  {
   "cell_type": "code",
   "execution_count": 63,
   "metadata": {},
   "outputs": [],
   "source": [
    "df_standard_dt_X = df_standard_dt.drop(['duration'], axis=1)\n",
    "df_standard_dt_y = df_standard_dt[['duration']]\n",
    "df_standard_dt_y = scaler.fit_transform(df_standard_dt_y)\n",
    "\n",
    "X_train_2, X_test_2, y_train_2, y_test_2 = train_test_split(\n",
    "    df_standard_dt_X, df_standard_dt_y,\n",
    "    test_size=0.3, random_state=42\n",
    "    #,stratify=Y\n",
    ")"
   ]
  },
  {
   "cell_type": "code",
   "execution_count": 64,
   "metadata": {},
   "outputs": [],
   "source": [
    "dt_regressor_2 = DecisionTreeRegressor() "
   ]
  },
  {
   "cell_type": "code",
   "execution_count": 65,
   "metadata": {},
   "outputs": [
    {
     "data": {
      "text/plain": [
       "DecisionTreeRegressor(criterion='mse', max_depth=None, max_features=None,\n",
       "           max_leaf_nodes=None, min_impurity_decrease=0.0,\n",
       "           min_impurity_split=None, min_samples_leaf=1,\n",
       "           min_samples_split=2, min_weight_fraction_leaf=0.0,\n",
       "           presort=False, random_state=None, splitter='best')"
      ]
     },
     "execution_count": 65,
     "metadata": {},
     "output_type": "execute_result"
    }
   ],
   "source": [
    "dt_regressor_2.fit(X_train_2, y_train_2)"
   ]
  },
  {
   "cell_type": "code",
   "execution_count": 67,
   "metadata": {},
   "outputs": [
    {
     "data": {
      "text/plain": [
       "-0.39646311418910835"
      ]
     },
     "execution_count": 67,
     "metadata": {},
     "output_type": "execute_result"
    }
   ],
   "source": [
    "dt_regressor_2.score(X_test_2, y_test_2)"
   ]
  },
  {
   "cell_type": "code",
   "execution_count": 68,
   "metadata": {},
   "outputs": [],
   "source": [
    "dt_regressor_y_pred_2 = dt_regressor_2.predict(X_test_2)  "
   ]
  },
  {
   "cell_type": "code",
   "execution_count": 69,
   "metadata": {},
   "outputs": [
    {
     "name": "stdout",
     "output_type": "stream",
     "text": [
      "Mean Absolute Error: 0.29612143579009403\n",
      "Mean Squared Error: 1.4135017177134088\n",
      "Root Mean Squared Error: 1.1889077835195667\n"
     ]
    }
   ],
   "source": [
    "print('Mean Absolute Error:', metrics.mean_absolute_error(y_test_2, dt_regressor_y_pred_2)) \n",
    "print('Mean Squared Error:', metrics.mean_squared_error(y_test_2, dt_regressor_y_pred_2))  \n",
    "print('Root Mean Squared Error:', np.sqrt(metrics.mean_squared_error(y_test_2, dt_regressor_y_pred_2))) "
   ]
  },
  {
   "cell_type": "markdown",
   "metadata": {},
   "source": [
    "Not working either."
   ]
  },
  {
   "cell_type": "markdown",
   "metadata": {},
   "source": [
    "## Why does Treebased fail?"
   ]
  },
  {
   "cell_type": "code",
   "execution_count": 68,
   "metadata": {},
   "outputs": [],
   "source": [
    "df_standard_inspect = df_standard[df_standard_dt_coi].groupby([\n",
    " 'passholder_type',\n",
    " 'start_station_id',\n",
    " 'trip_route_category',\n",
    " 'hour',\n",
    " 'weekday',\n",
    " 'month']).agg([np.median, np.mean, np.std, len])[['duration']]"
   ]
  },
  {
   "cell_type": "code",
   "execution_count": 69,
   "metadata": {},
   "outputs": [
    {
     "data": {
      "text/plain": [
       "(0, 200)"
      ]
     },
     "execution_count": 69,
     "metadata": {},
     "output_type": "execute_result"
    },
    {
     "data": {
      "image/png": "[encoded data removed]",
      "text/plain": [
       "<Figure size 432x288 with 1 Axes>"
      ]
     },
     "metadata": {},
     "output_type": "display_data"
    }
   ],
   "source": [
    "fig, ax = plt.subplots()\n",
    "ax.plot(\n",
    "    df_standard_inspect.loc[:, ('duration','median')].values, df_standard_inspect.loc[:, ('duration','std')].values,\n",
    "    'k.'\n",
    ")\n",
    "ax.set_xlim([0,200])\n",
    "ax.set_ylim([0,200])"
   ]
  },
  {
   "cell_type": "markdown",
   "metadata": {},
   "source": [
    "**bad feature engineering/need more dimensions**"
   ]
  },
  {
   "cell_type": "markdown",
   "metadata": {},
   "source": [
    "## Classification"
   ]
  },
  {
   "cell_type": "markdown",
   "metadata": {},
   "source": [
    "Try classifications using svm"
   ]
  },
  {
   "cell_type": "code",
   "execution_count": 70,
   "metadata": {},
   "outputs": [],
   "source": [
    "df_standard_classification = df_standard_dt.copy()"
   ]
  },
  {
   "cell_type": "code",
   "execution_count": 71,
   "metadata": {},
   "outputs": [],
   "source": [
    "df_standard_classification['duration'] = df_standard_classification.duration.apply(\n",
    "    lambda x: int(float(x/10))\n",
    ")"
   ]
  },
  {
   "cell_type": "code",
   "execution_count": 72,
   "metadata": {},
   "outputs": [
    {
     "data": {
      "text/plain": [
       "mean      1.709275\n",
       "median    1.000000\n",
       "Name: duration, dtype: float64"
      ]
     },
     "execution_count": 72,
     "metadata": {},
     "output_type": "execute_result"
    }
   ],
   "source": [
    "df_standard_classification.duration.agg([np.mean, np.median])"
   ]
  },
  {
   "cell_type": "code",
   "execution_count": 73,
   "metadata": {},
   "outputs": [
    {
     "name": "stdout",
     "output_type": "stream",
     "text": [
      "passholder_type\n",
      "start_station_id\n",
      "trip_route_category\n",
      "duration\n"
     ]
    }
   ],
   "source": [
    "encoding_coi = [\n",
    "    'passholder_type', 'start_station_id', 'trip_route_category', 'duration'\n",
    "]\n",
    "les = []\n",
    "\n",
    "for i in encoding_coi:\n",
    "    i_encoder = LabelEncoder()\n",
    "    i_encoder.fit_transform(df_standard_classification[i])\n",
    "    df_standard_classification = df_standard_classification.apply(\n",
    "        i_encoder.fit_transform\n",
    "    )\n",
    "    les.append(i_encoder)\n",
    "    print(f'{i}')"
   ]
  },
  {
   "cell_type": "markdown",
   "metadata": {},
   "source": [
    "```\n",
    "df_standard_classification_y_le = LabelEncoder()\n",
    "df_standard_classification_y = df_standard_classification_y_le.fit_transform(\n",
    "    df_standard_classification_y\n",
    ")\n",
    "```"
   ]
  },
  {
   "cell_type": "markdown",
   "metadata": {},
   "source": [
    "```\n",
    "utils.multiclass.type_of_target(\n",
    "    df_standard_classification_y\n",
    ")\n",
    "```"
   ]
  },
  {
   "cell_type": "code",
   "execution_count": 74,
   "metadata": {},
   "outputs": [],
   "source": [
    "df_standard_classification_X = df_standard_classification.drop(['duration'], axis=1)\n",
    "df_standard_classification_y = df_standard_classification[['duration']]\n",
    "\n",
    "X_train_3, X_test_3, y_train_3, y_test_3 = train_test_split(\n",
    "    df_standard_classification_X, df_standard_classification_y,\n",
    "    test_size=0.3, random_state=42\n",
    "    #,stratify=Y\n",
    ")"
   ]
  },
  {
   "cell_type": "code",
   "execution_count": 75,
   "metadata": {},
   "outputs": [
    {
     "data": {
      "text/plain": [
       "'multiclass'"
      ]
     },
     "execution_count": 75,
     "metadata": {},
     "output_type": "execute_result"
    }
   ],
   "source": [
    "utils.multiclass.type_of_target(y_train_3)"
   ]
  },
  {
   "cell_type": "code",
   "execution_count": 76,
   "metadata": {},
   "outputs": [],
   "source": [
    "from sklearn.svm import SVC"
   ]
  },
  {
   "cell_type": "code",
   "execution_count": 77,
   "metadata": {},
   "outputs": [],
   "source": [
    "svclassifier = SVC(kernel='linear')"
   ]
  },
  {
   "cell_type": "code",
   "execution_count": null,
   "metadata": {},
   "outputs": [
    {
     "name": "stderr",
     "output_type": "stream",
     "text": [
      "/Users/leima/anaconda/lib/python3.6/site-packages/sklearn/utils/validation.py:578: DataConversionWarning: A column-vector y was passed when a 1d array was expected. Please change the shape of y to (n_samples, ), for example using ravel().\n",
      "  y = column_or_1d(y, warn=True)\n"
     ]
    }
   ],
   "source": [
    "svclassifier.fit(X_train_3, y_train_3)"
   ]
  },
  {
   "cell_type": "code",
   "execution_count": null,
   "metadata": {},
   "outputs": [],
   "source": [
    "df_standard_classification_y_pred = svclassifier.predict(X_test_3)"
   ]
  },
  {
   "cell_type": "code",
   "execution_count": null,
   "metadata": {},
   "outputs": [],
   "source": [
    "print(metrics.confusion_matrix(y_test_3, df_standard_classification_y_pred))  \n",
    "print(metrics.classification_report(y_test_3, df_standard_classification_y_pred))  "
   ]
  },
  {
   "cell_type": "code",
   "execution_count": null,
   "metadata": {},
   "outputs": [],
   "source": [
    "import datetime"
   ]
  },
  {
   "cell_type": "code",
   "execution_count": null,
   "metadata": {},
   "outputs": [],
   "source": [
    "print(\n",
    "    datetime.datetime.now()\n",
    ")"
   ]
  },
  {
   "cell_type": "code",
   "execution_count": null,
   "metadata": {},
   "outputs": [],
   "source": []
  }
 ],
 "metadata": {
  "kernelspec": {
   "display_name": "Python 3",
   "language": "python",
   "name": "python3"
  },
  "language_info": {
   "codemirror_mode": {
    "name": "ipython",
    "version": 3
   },
   "file_extension": ".py",
   "mimetype": "text/x-python",
   "name": "python",
   "nbconvert_exporter": "python",
   "pygments_lexer": "ipython3",
   "version": "3.6.8"
  }
 },
 "nbformat": 4,
 "nbformat_minor": 2
}
